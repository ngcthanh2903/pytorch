{
  "nbformat": 4,
  "nbformat_minor": 0,
  "metadata": {
    "colab": {
      "provenance": [],
      "collapsed_sections": [],
      "authorship_tag": "ABX9TyPoGgGfMLXFbmI7MeZiBzka",
      "include_colab_link": true
    },
    "kernelspec": {
      "name": "python3",
      "display_name": "Python 3"
    },
    "language_info": {
      "name": "python"
    }
  },
  "cells": [
    {
      "cell_type": "markdown",
      "metadata": {
        "id": "view-in-github",
        "colab_type": "text"
      },
      "source": [
        "<a href=\"https://colab.research.google.com/github/ngcthanh2903/pytorch/blob/main/cifar10torchver2.ipynb\" target=\"_parent\"><img src=\"https://colab.research.google.com/assets/colab-badge.svg\" alt=\"Open In Colab\"/></a>"
      ]
    },
    {
      "cell_type": "code",
      "execution_count": null,
      "metadata": {
        "id": "qypfIwICYrKF"
      },
      "outputs": [],
      "source": [
        "from keras.datasets import cifar10"
      ]
    },
    {
      "cell_type": "code",
      "source": [
        "(x_train, y_train), (x_test, y_test) =cifar10.load_data()\n",
        "print(x_test.dtype)"
      ],
      "metadata": {
        "colab": {
          "base_uri": "https://localhost:8080/"
        },
        "id": "5LAEjM7gZS9R",
        "outputId": "965c312a-aa00-4587-c114-f9907c3be1d2"
      },
      "execution_count": null,
      "outputs": [
        {
          "output_type": "stream",
          "name": "stdout",
          "text": [
            "uint8\n"
          ]
        }
      ]
    },
    {
      "cell_type": "code",
      "source": [
        "x_train=x_train.reshape(-1,3,32,32)\n",
        "x_test=x_test.reshape(-1,3,32,32)\n"
      ],
      "metadata": {
        "id": "_OGWSIOvZsuW"
      },
      "execution_count": null,
      "outputs": []
    },
    {
      "cell_type": "code",
      "source": [
        "print(x_train.shape)\n",
        "print(x_test.shape)"
      ],
      "metadata": {
        "colab": {
          "base_uri": "https://localhost:8080/"
        },
        "id": "seL4uDNpaZup",
        "outputId": "7d21cf14-1499-4b81-e290-5a13bdbf83d3"
      },
      "execution_count": null,
      "outputs": [
        {
          "output_type": "stream",
          "name": "stdout",
          "text": [
            "(50000, 3, 32, 32)\n",
            "(10000, 3, 32, 32)\n"
          ]
        }
      ]
    },
    {
      "cell_type": "code",
      "source": [
        "import torch\n",
        "import torch.nn as nn\n",
        "import torch.optim.adam as adam\n",
        "from torch.nn import CrossEntropyLoss\n",
        "from torch.utils.data import DataLoader\n",
        "from torch.utils.data import Dataset\n",
        "from torch.utils.data import TensorDataset\n",
        "from torchsummary import summary\n",
        "import matplotlib.pyplot as plt\n",
        "import os\n",
        "from PIL import Image\n",
        "import torchvision.transforms as transforms\n",
        "import torch.nn.functional as F\n",
        "import numpy as np\n"
      ],
      "metadata": {
        "id": "Vt8mn0h3alQf"
      },
      "execution_count": null,
      "outputs": []
    },
    {
      "cell_type": "code",
      "source": [
        "x_train = torch.from_numpy(x_train)\n",
        "y_train = torch.from_numpy(y_train)\n",
        "x_test = torch.from_numpy(x_test)\n",
        "y_test = torch.from_numpy(y_test)\n",
        "x_train = x_train.to(torch.float32)\n",
        "x_test = x_test.to(torch.float32)"
      ],
      "metadata": {
        "id": "PkqEs0XscgVn"
      },
      "execution_count": null,
      "outputs": []
    },
    {
      "cell_type": "code",
      "source": [
        "batch_size =64\n",
        "train_ds = TensorDataset(x_train,y_train)\n",
        "test_ds = TensorDataset(x_test,y_test)\n",
        "train_dl = DataLoader(train_ds,batch_size,shuffle=True)\n",
        "test_dl = DataLoader(test_ds,batch_size,shuffle=True)"
      ],
      "metadata": {
        "id": "Im4d1ajZh5Vd"
      },
      "execution_count": null,
      "outputs": []
    },
    {
      "cell_type": "code",
      "source": [
        "y_train.shape\n"
      ],
      "metadata": {
        "colab": {
          "base_uri": "https://localhost:8080/"
        },
        "id": "yR1BctsI6aUL",
        "outputId": "418058b8-0973-439e-90bf-489a620913d0"
      },
      "execution_count": null,
      "outputs": [
        {
          "output_type": "execute_result",
          "data": {
            "text/plain": [
              "torch.Size([50000, 1])"
            ]
          },
          "metadata": {},
          "execution_count": 167
        }
      ]
    },
    {
      "cell_type": "code",
      "source": [
        "class Net(nn.Module):\n",
        "    def __init__(self):\n",
        "        super(Net, self).__init__()\n",
        "        self.conv1 = nn.Conv2d(3, 32, kernel_size=3,padding=2)\n",
        "        self.conv2 = nn.Conv2d(32,64,kernel_size= 3,padding=2)\n",
        "        self.conv3 = nn.Conv2d(64,64,kernel_size=3,padding=2)\n",
        "        self.conv3_drop = nn.Dropout2d()\n",
        "        self.conv4 = nn.Conv2d(64,128,kernel_size=3,padding=2)\n",
        "        self.fc1 = nn.Linear(1152, 100)\n",
        "        self.fc2 = nn.Linear(100, 10)\n",
        "\n",
        "        \n",
        "    def forward(self, x):\n",
        "        x = F.relu(F.max_pool2d(self.conv1(x), 2))\n",
        "        x = F.relu(F.max_pool2d(self.conv2(x), 2))\n",
        "        x = F.relu(F.max_pool2d(self.conv3_drop(self.conv3(x)), 2))\n",
        "        x = F.relu(F.max_pool2d(self.conv4(x), 2))\n",
        "        #print(x.shape)\n",
        "        #print(x.reshape(x.shape[0],-1).shape)\n",
        "        x = x.view(-1, 1152)\n",
        "        x = F.relu(self.fc1(x))\n",
        "        x = F.dropout(x, training=self.training)\n",
        "        x = self.fc2(x)\n",
        "        return F.log_softmax(x)"
      ],
      "metadata": {
        "id": "o59tizgciA_K"
      },
      "execution_count": null,
      "outputs": []
    },
    {
      "cell_type": "code",
      "source": [
        "from torchsummary import summary\n",
        "model = Net()\n",
        "summary(model, (3, 32, 32))\n",
        "loss_fn = CrossEntropyLoss()"
      ],
      "metadata": {
        "colab": {
          "base_uri": "https://localhost:8080/"
        },
        "id": "M8GSanp5iLgS",
        "outputId": "79c30f35-7f70-4bf4-e501-f904c02bb05f"
      },
      "execution_count": null,
      "outputs": [
        {
          "output_type": "stream",
          "name": "stdout",
          "text": [
            "----------------------------------------------------------------\n",
            "        Layer (type)               Output Shape         Param #\n",
            "================================================================\n",
            "            Conv2d-1           [-1, 32, 34, 34]             896\n",
            "            Conv2d-2           [-1, 64, 19, 19]          18,496\n",
            "            Conv2d-3           [-1, 64, 11, 11]          36,928\n",
            "         Dropout2d-4           [-1, 64, 11, 11]               0\n",
            "            Conv2d-5            [-1, 128, 7, 7]          73,856\n",
            "            Linear-6                  [-1, 100]         115,300\n",
            "            Linear-7                   [-1, 10]           1,010\n",
            "================================================================\n",
            "Total params: 246,486\n",
            "Trainable params: 246,486\n",
            "Non-trainable params: 0\n",
            "----------------------------------------------------------------\n",
            "Input size (MB): 0.01\n",
            "Forward/backward pass size (MB): 0.63\n",
            "Params size (MB): 0.94\n",
            "Estimated Total Size (MB): 1.58\n",
            "----------------------------------------------------------------\n"
          ]
        },
        {
          "output_type": "stream",
          "name": "stderr",
          "text": [
            "/usr/local/lib/python3.7/dist-packages/ipykernel_launcher.py:24: UserWarning: Implicit dimension choice for log_softmax has been deprecated. Change the call to include dim=X as an argument.\n"
          ]
        }
      ]
    },
    {
      "cell_type": "code",
      "source": [
        "model = nn.Sequential()\n",
        "model.add_module('conv1',nn.Conv2d(3,32,kernel_size=3,padding = 'same'))\n",
        "model.add_module('relu1',nn.ReLU())\n",
        "model.add_module('conv2',nn.Conv2d(32,32,kernel_size=3,padding='same'))\n",
        "model.add_module('relu2',nn.ReLU())\n",
        "model.add_module('pool1',nn.MaxPool2d(2))\n",
        "model.add_module('bn1',nn.BatchNorm2d(32))\n",
        "\n",
        "model.add_module('conv3',nn.Conv2d(32,64,kernel_size=3,padding = 'same'))\n",
        "model.add_module('relu3',nn.ReLU())\n",
        "model.add_module('conv4',nn.Conv2d(64,64,kernel_size=3,padding='same'))\n",
        "model.add_module('relu4',nn.ReLU())\n",
        "model.add_module('pool2',nn.MaxPool2d(2))\n",
        "model.add_module('bn2',nn.BatchNorm2d(64))\n",
        "\n",
        "model.add_module('conv5',nn.Conv2d(64,128,kernel_size=3,padding = 'same'))\n",
        "model.add_module('relu5',nn.ReLU())\n",
        "model.add_module('conv6',nn.Conv2d(128,128,kernel_size=3,padding='same'))\n",
        "model.add_module('relu6',nn.ReLU())\n",
        "model.add_module('pool3',nn.MaxPool2d(2))\n",
        "model.add_module('bn3',nn.BatchNorm2d(128))\n",
        "model.add_module('flatten',nn.Flatten())\n",
        "x= torch.ones((64, 3, 32, 32))\n",
        "#model(x).shape\n",
        "model.add_module('dropout',nn.Dropout(p=0.25))\n",
        "model.add_module('dense',nn.Linear(2048,252))\n",
        "model.add_module('dene2',nn.Linear(252,10))\n",
        "model(x).shape\n",
        "from torchsummary import summary\n",
        "summary(model, (3, 32, 32))\n"
      ],
      "metadata": {
        "colab": {
          "base_uri": "https://localhost:8080/"
        },
        "id": "HFa_UWm0Yjuj",
        "outputId": "152fb200-09f2-4845-e766-dde523dd4414"
      },
      "execution_count": null,
      "outputs": [
        {
          "output_type": "stream",
          "name": "stdout",
          "text": [
            "----------------------------------------------------------------\n",
            "        Layer (type)               Output Shape         Param #\n",
            "================================================================\n",
            "            Conv2d-1           [-1, 32, 32, 32]             896\n",
            "              ReLU-2           [-1, 32, 32, 32]               0\n",
            "            Conv2d-3           [-1, 32, 32, 32]           9,248\n",
            "              ReLU-4           [-1, 32, 32, 32]               0\n",
            "         MaxPool2d-5           [-1, 32, 16, 16]               0\n",
            "       BatchNorm2d-6           [-1, 32, 16, 16]              64\n",
            "            Conv2d-7           [-1, 64, 16, 16]          18,496\n",
            "              ReLU-8           [-1, 64, 16, 16]               0\n",
            "            Conv2d-9           [-1, 64, 16, 16]          36,928\n",
            "             ReLU-10           [-1, 64, 16, 16]               0\n",
            "        MaxPool2d-11             [-1, 64, 8, 8]               0\n",
            "      BatchNorm2d-12             [-1, 64, 8, 8]             128\n",
            "           Conv2d-13            [-1, 128, 8, 8]          73,856\n",
            "             ReLU-14            [-1, 128, 8, 8]               0\n",
            "           Conv2d-15            [-1, 128, 8, 8]         147,584\n",
            "             ReLU-16            [-1, 128, 8, 8]               0\n",
            "        MaxPool2d-17            [-1, 128, 4, 4]               0\n",
            "      BatchNorm2d-18            [-1, 128, 4, 4]             256\n",
            "          Flatten-19                 [-1, 2048]               0\n",
            "          Dropout-20                 [-1, 2048]               0\n",
            "           Linear-21                  [-1, 252]         516,348\n",
            "           Linear-22                   [-1, 10]           2,530\n",
            "================================================================\n",
            "Total params: 806,334\n",
            "Trainable params: 806,334\n",
            "Non-trainable params: 0\n",
            "----------------------------------------------------------------\n",
            "Input size (MB): 0.01\n",
            "Forward/backward pass size (MB): 2.00\n",
            "Params size (MB): 3.08\n",
            "Estimated Total Size (MB): 5.09\n",
            "----------------------------------------------------------------\n"
          ]
        }
      ]
    },
    {
      "cell_type": "code",
      "source": [
        "loss_fn = CrossEntropyLoss()\n",
        "optimizer = torch.optim.Adam(model.parameters(), lr=1e-3)"
      ],
      "metadata": {
        "id": "rFHcWDGFiYBw"
      },
      "execution_count": null,
      "outputs": []
    },
    {
      "cell_type": "code",
      "source": [
        "n_epochs = 3\n",
        "log_interval = 10\n",
        "torch.backends.cudnn.enabled = False\n",
        "torch.manual_seed(1)"
      ],
      "metadata": {
        "colab": {
          "base_uri": "https://localhost:8080/"
        },
        "id": "oGHfwgpY56UM",
        "outputId": "4f305f2b-b1b0-49dd-cba2-e09ee4a6ff8f"
      },
      "execution_count": null,
      "outputs": [
        {
          "output_type": "execute_result",
          "data": {
            "text/plain": [
              "<torch._C.Generator at 0x7f03e90d5f30>"
            ]
          },
          "metadata": {},
          "execution_count": 201
        }
      ]
    },
    {
      "cell_type": "code",
      "source": [
        "for epoch in range(n_epochs+1):\n",
        "  model.train()\n",
        "  correct = 0\n",
        "  for batch_idx, (data, target) in enumerate(train_dl):\n",
        "    optimizer.zero_grad()\n",
        "    output = model(data)\n",
        "    target = target.squeeze(1)\n",
        "    #loss = F.nll_loss(output, target)\n",
        "    #correct += output.eq(target.data.view_as(output)).sum()\n",
        "    loss = loss_fn(output,target)\n",
        "    loss.backward()\n",
        "    optimizer.step()\n",
        "    if batch_idx % log_interval == 0:\n",
        "      print('Train Epoch: {} [{}/{} ({:.0f}%)]\\tLoss: {:.6f}'.format(epoch, batch_idx * len(data), len(train_dl.dataset),100. * batch_idx / len(train_dl), loss.item()))\n",
        "      torch.save(model.state_dict(), 'model.pth')\n",
        "      torch.save(optimizer.state_dict(), 'optimizer.pth')"
      ],
      "metadata": {
        "colab": {
          "base_uri": "https://localhost:8080/"
        },
        "id": "AxoDD2Y05Y4D",
        "outputId": "df747ab1-f587-4745-cb4d-513269c0a130"
      },
      "execution_count": null,
      "outputs": [
        {
          "output_type": "stream",
          "name": "stdout",
          "text": [
            "Train Epoch: 0 [0/50000 (0%)]\tLoss: 2.364173\n",
            "Train Epoch: 0 [640/50000 (1%)]\tLoss: 2.302790\n",
            "Train Epoch: 0 [1280/50000 (3%)]\tLoss: 2.381250\n",
            "Train Epoch: 0 [1920/50000 (4%)]\tLoss: 2.046334\n",
            "Train Epoch: 0 [2560/50000 (5%)]\tLoss: 2.320073\n",
            "Train Epoch: 0 [3200/50000 (6%)]\tLoss: 2.341022\n",
            "Train Epoch: 0 [3840/50000 (8%)]\tLoss: 2.389270\n",
            "Train Epoch: 0 [4480/50000 (9%)]\tLoss: 2.084774\n",
            "Train Epoch: 0 [5120/50000 (10%)]\tLoss: 1.990979\n",
            "Train Epoch: 0 [5760/50000 (12%)]\tLoss: 2.121101\n",
            "Train Epoch: 0 [6400/50000 (13%)]\tLoss: 1.909057\n",
            "Train Epoch: 0 [7040/50000 (14%)]\tLoss: 2.007921\n",
            "Train Epoch: 0 [7680/50000 (15%)]\tLoss: 2.063899\n",
            "Train Epoch: 0 [8320/50000 (17%)]\tLoss: 1.929135\n",
            "Train Epoch: 0 [8960/50000 (18%)]\tLoss: 2.056941\n",
            "Train Epoch: 0 [9600/50000 (19%)]\tLoss: 2.122483\n",
            "Train Epoch: 0 [10240/50000 (20%)]\tLoss: 1.833223\n",
            "Train Epoch: 0 [10880/50000 (22%)]\tLoss: 1.834156\n",
            "Train Epoch: 0 [11520/50000 (23%)]\tLoss: 1.865578\n",
            "Train Epoch: 0 [12160/50000 (24%)]\tLoss: 1.835891\n",
            "Train Epoch: 0 [12800/50000 (26%)]\tLoss: 1.792516\n",
            "Train Epoch: 0 [13440/50000 (27%)]\tLoss: 1.769741\n",
            "Train Epoch: 0 [14080/50000 (28%)]\tLoss: 1.924083\n",
            "Train Epoch: 0 [14720/50000 (29%)]\tLoss: 1.966536\n",
            "Train Epoch: 0 [15360/50000 (31%)]\tLoss: 1.738943\n",
            "Train Epoch: 0 [16000/50000 (32%)]\tLoss: 1.711061\n",
            "Train Epoch: 0 [16640/50000 (33%)]\tLoss: 1.872637\n",
            "Train Epoch: 0 [17280/50000 (35%)]\tLoss: 1.734414\n",
            "Train Epoch: 0 [17920/50000 (36%)]\tLoss: 1.643567\n",
            "Train Epoch: 0 [18560/50000 (37%)]\tLoss: 1.746627\n",
            "Train Epoch: 0 [19200/50000 (38%)]\tLoss: 1.662024\n",
            "Train Epoch: 0 [19840/50000 (40%)]\tLoss: 1.625201\n",
            "Train Epoch: 0 [20480/50000 (41%)]\tLoss: 1.866008\n",
            "Train Epoch: 0 [21120/50000 (42%)]\tLoss: 1.724853\n",
            "Train Epoch: 0 [21760/50000 (43%)]\tLoss: 1.698105\n",
            "Train Epoch: 0 [22400/50000 (45%)]\tLoss: 1.654916\n",
            "Train Epoch: 0 [23040/50000 (46%)]\tLoss: 1.662218\n",
            "Train Epoch: 0 [23680/50000 (47%)]\tLoss: 1.780622\n",
            "Train Epoch: 0 [24320/50000 (49%)]\tLoss: 1.781129\n",
            "Train Epoch: 0 [24960/50000 (50%)]\tLoss: 1.731494\n",
            "Train Epoch: 0 [25600/50000 (51%)]\tLoss: 1.904846\n",
            "Train Epoch: 0 [26240/50000 (52%)]\tLoss: 1.890113\n",
            "Train Epoch: 0 [26880/50000 (54%)]\tLoss: 1.634272\n",
            "Train Epoch: 0 [27520/50000 (55%)]\tLoss: 1.662629\n",
            "Train Epoch: 0 [28160/50000 (56%)]\tLoss: 1.604624\n",
            "Train Epoch: 0 [28800/50000 (58%)]\tLoss: 1.394887\n",
            "Train Epoch: 0 [29440/50000 (59%)]\tLoss: 1.812419\n",
            "Train Epoch: 0 [30080/50000 (60%)]\tLoss: 1.637410\n",
            "Train Epoch: 0 [30720/50000 (61%)]\tLoss: 1.555940\n",
            "Train Epoch: 0 [31360/50000 (63%)]\tLoss: 1.569589\n",
            "Train Epoch: 0 [32000/50000 (64%)]\tLoss: 1.533218\n",
            "Train Epoch: 0 [32640/50000 (65%)]\tLoss: 1.647764\n",
            "Train Epoch: 0 [33280/50000 (66%)]\tLoss: 1.758760\n",
            "Train Epoch: 0 [33920/50000 (68%)]\tLoss: 1.550635\n",
            "Train Epoch: 0 [34560/50000 (69%)]\tLoss: 1.830768\n",
            "Train Epoch: 0 [35200/50000 (70%)]\tLoss: 1.926887\n",
            "Train Epoch: 0 [35840/50000 (72%)]\tLoss: 1.790642\n",
            "Train Epoch: 0 [36480/50000 (73%)]\tLoss: 1.776731\n",
            "Train Epoch: 0 [37120/50000 (74%)]\tLoss: 1.665667\n",
            "Train Epoch: 0 [37760/50000 (75%)]\tLoss: 1.642655\n",
            "Train Epoch: 0 [38400/50000 (77%)]\tLoss: 1.597009\n",
            "Train Epoch: 0 [39040/50000 (78%)]\tLoss: 1.645024\n",
            "Train Epoch: 0 [39680/50000 (79%)]\tLoss: 1.266470\n",
            "Train Epoch: 0 [40320/50000 (81%)]\tLoss: 1.739606\n",
            "Train Epoch: 0 [40960/50000 (82%)]\tLoss: 1.497423\n",
            "Train Epoch: 0 [41600/50000 (83%)]\tLoss: 1.789076\n",
            "Train Epoch: 0 [42240/50000 (84%)]\tLoss: 1.584119\n",
            "Train Epoch: 0 [42880/50000 (86%)]\tLoss: 1.659987\n",
            "Train Epoch: 0 [43520/50000 (87%)]\tLoss: 1.511210\n",
            "Train Epoch: 0 [44160/50000 (88%)]\tLoss: 1.794776\n",
            "Train Epoch: 0 [44800/50000 (90%)]\tLoss: 1.523895\n",
            "Train Epoch: 0 [45440/50000 (91%)]\tLoss: 1.535004\n",
            "Train Epoch: 0 [46080/50000 (92%)]\tLoss: 1.633560\n",
            "Train Epoch: 0 [46720/50000 (93%)]\tLoss: 1.551598\n",
            "Train Epoch: 0 [47360/50000 (95%)]\tLoss: 1.686136\n",
            "Train Epoch: 0 [48000/50000 (96%)]\tLoss: 1.262411\n",
            "Train Epoch: 0 [48640/50000 (97%)]\tLoss: 1.418152\n",
            "Train Epoch: 0 [49280/50000 (98%)]\tLoss: 1.868970\n",
            "Train Epoch: 0 [49920/50000 (100%)]\tLoss: 1.622313\n",
            "Train Epoch: 1 [0/50000 (0%)]\tLoss: 1.550320\n",
            "Train Epoch: 1 [640/50000 (1%)]\tLoss: 1.414665\n",
            "Train Epoch: 1 [1280/50000 (3%)]\tLoss: 1.438024\n",
            "Train Epoch: 1 [1920/50000 (4%)]\tLoss: 1.361176\n",
            "Train Epoch: 1 [2560/50000 (5%)]\tLoss: 1.629406\n",
            "Train Epoch: 1 [3200/50000 (6%)]\tLoss: 1.649684\n",
            "Train Epoch: 1 [3840/50000 (8%)]\tLoss: 1.567068\n",
            "Train Epoch: 1 [4480/50000 (9%)]\tLoss: 1.465314\n",
            "Train Epoch: 1 [5120/50000 (10%)]\tLoss: 1.430813\n",
            "Train Epoch: 1 [5760/50000 (12%)]\tLoss: 1.419303\n",
            "Train Epoch: 1 [6400/50000 (13%)]\tLoss: 1.306471\n",
            "Train Epoch: 1 [7040/50000 (14%)]\tLoss: 1.581740\n",
            "Train Epoch: 1 [7680/50000 (15%)]\tLoss: 1.590557\n",
            "Train Epoch: 1 [8320/50000 (17%)]\tLoss: 1.428307\n",
            "Train Epoch: 1 [8960/50000 (18%)]\tLoss: 1.365153\n",
            "Train Epoch: 1 [9600/50000 (19%)]\tLoss: 1.653833\n",
            "Train Epoch: 1 [10240/50000 (20%)]\tLoss: 1.603421\n",
            "Train Epoch: 1 [10880/50000 (22%)]\tLoss: 1.494860\n",
            "Train Epoch: 1 [11520/50000 (23%)]\tLoss: 1.534487\n",
            "Train Epoch: 1 [12160/50000 (24%)]\tLoss: 1.371576\n",
            "Train Epoch: 1 [12800/50000 (26%)]\tLoss: 1.779967\n",
            "Train Epoch: 1 [13440/50000 (27%)]\tLoss: 1.465986\n",
            "Train Epoch: 1 [14080/50000 (28%)]\tLoss: 1.606772\n",
            "Train Epoch: 1 [14720/50000 (29%)]\tLoss: 1.652909\n",
            "Train Epoch: 1 [15360/50000 (31%)]\tLoss: 1.516294\n",
            "Train Epoch: 1 [16000/50000 (32%)]\tLoss: 1.489733\n",
            "Train Epoch: 1 [16640/50000 (33%)]\tLoss: 1.532951\n",
            "Train Epoch: 1 [17280/50000 (35%)]\tLoss: 1.493588\n",
            "Train Epoch: 1 [17920/50000 (36%)]\tLoss: 1.303767\n",
            "Train Epoch: 1 [18560/50000 (37%)]\tLoss: 1.429809\n",
            "Train Epoch: 1 [19200/50000 (38%)]\tLoss: 1.279496\n",
            "Train Epoch: 1 [19840/50000 (40%)]\tLoss: 1.440534\n",
            "Train Epoch: 1 [20480/50000 (41%)]\tLoss: 1.668756\n",
            "Train Epoch: 1 [21120/50000 (42%)]\tLoss: 1.678245\n",
            "Train Epoch: 1 [21760/50000 (43%)]\tLoss: 1.611917\n",
            "Train Epoch: 1 [22400/50000 (45%)]\tLoss: 1.462741\n",
            "Train Epoch: 1 [23040/50000 (46%)]\tLoss: 1.329611\n",
            "Train Epoch: 1 [23680/50000 (47%)]\tLoss: 1.494522\n",
            "Train Epoch: 1 [24320/50000 (49%)]\tLoss: 1.455833\n",
            "Train Epoch: 1 [24960/50000 (50%)]\tLoss: 1.501258\n",
            "Train Epoch: 1 [25600/50000 (51%)]\tLoss: 1.832764\n",
            "Train Epoch: 1 [26240/50000 (52%)]\tLoss: 1.398269\n",
            "Train Epoch: 1 [26880/50000 (54%)]\tLoss: 1.447373\n",
            "Train Epoch: 1 [27520/50000 (55%)]\tLoss: 1.533726\n",
            "Train Epoch: 1 [28160/50000 (56%)]\tLoss: 1.409787\n",
            "Train Epoch: 1 [28800/50000 (58%)]\tLoss: 1.589702\n",
            "Train Epoch: 1 [29440/50000 (59%)]\tLoss: 1.573849\n",
            "Train Epoch: 1 [30080/50000 (60%)]\tLoss: 1.375457\n",
            "Train Epoch: 1 [30720/50000 (61%)]\tLoss: 1.423677\n",
            "Train Epoch: 1 [31360/50000 (63%)]\tLoss: 1.565675\n",
            "Train Epoch: 1 [32000/50000 (64%)]\tLoss: 1.326763\n",
            "Train Epoch: 1 [32640/50000 (65%)]\tLoss: 1.521485\n",
            "Train Epoch: 1 [33280/50000 (66%)]\tLoss: 1.443556\n",
            "Train Epoch: 1 [33920/50000 (68%)]\tLoss: 1.480243\n",
            "Train Epoch: 1 [34560/50000 (69%)]\tLoss: 1.517608\n",
            "Train Epoch: 1 [35200/50000 (70%)]\tLoss: 1.691588\n",
            "Train Epoch: 1 [35840/50000 (72%)]\tLoss: 1.175961\n",
            "Train Epoch: 1 [36480/50000 (73%)]\tLoss: 1.461297\n",
            "Train Epoch: 1 [37120/50000 (74%)]\tLoss: 1.403233\n",
            "Train Epoch: 1 [37760/50000 (75%)]\tLoss: 1.498647\n",
            "Train Epoch: 1 [38400/50000 (77%)]\tLoss: 1.621450\n",
            "Train Epoch: 1 [39040/50000 (78%)]\tLoss: 1.333021\n",
            "Train Epoch: 1 [39680/50000 (79%)]\tLoss: 1.460640\n",
            "Train Epoch: 1 [40320/50000 (81%)]\tLoss: 1.639763\n",
            "Train Epoch: 1 [40960/50000 (82%)]\tLoss: 1.382468\n",
            "Train Epoch: 1 [41600/50000 (83%)]\tLoss: 1.385041\n",
            "Train Epoch: 1 [42240/50000 (84%)]\tLoss: 1.413155\n",
            "Train Epoch: 1 [42880/50000 (86%)]\tLoss: 1.344909\n",
            "Train Epoch: 1 [43520/50000 (87%)]\tLoss: 1.390315\n",
            "Train Epoch: 1 [44160/50000 (88%)]\tLoss: 1.219540\n",
            "Train Epoch: 1 [44800/50000 (90%)]\tLoss: 1.426042\n",
            "Train Epoch: 1 [45440/50000 (91%)]\tLoss: 1.542807\n",
            "Train Epoch: 1 [46080/50000 (92%)]\tLoss: 1.588271\n",
            "Train Epoch: 1 [46720/50000 (93%)]\tLoss: 1.436571\n",
            "Train Epoch: 1 [47360/50000 (95%)]\tLoss: 1.324274\n",
            "Train Epoch: 1 [48000/50000 (96%)]\tLoss: 1.624387\n",
            "Train Epoch: 1 [48640/50000 (97%)]\tLoss: 1.456227\n",
            "Train Epoch: 1 [49280/50000 (98%)]\tLoss: 1.281420\n",
            "Train Epoch: 1 [49920/50000 (100%)]\tLoss: 1.454489\n",
            "Train Epoch: 2 [0/50000 (0%)]\tLoss: 1.306105\n",
            "Train Epoch: 2 [640/50000 (1%)]\tLoss: 1.487033\n",
            "Train Epoch: 2 [1280/50000 (3%)]\tLoss: 1.330808\n",
            "Train Epoch: 2 [1920/50000 (4%)]\tLoss: 1.476644\n",
            "Train Epoch: 2 [2560/50000 (5%)]\tLoss: 1.459222\n",
            "Train Epoch: 2 [3200/50000 (6%)]\tLoss: 1.175154\n",
            "Train Epoch: 2 [3840/50000 (8%)]\tLoss: 1.511406\n",
            "Train Epoch: 2 [4480/50000 (9%)]\tLoss: 1.342914\n",
            "Train Epoch: 2 [5120/50000 (10%)]\tLoss: 1.654419\n",
            "Train Epoch: 2 [5760/50000 (12%)]\tLoss: 1.201881\n",
            "Train Epoch: 2 [6400/50000 (13%)]\tLoss: 1.520277\n",
            "Train Epoch: 2 [7040/50000 (14%)]\tLoss: 1.502313\n",
            "Train Epoch: 2 [7680/50000 (15%)]\tLoss: 1.247556\n",
            "Train Epoch: 2 [8320/50000 (17%)]\tLoss: 1.380391\n",
            "Train Epoch: 2 [8960/50000 (18%)]\tLoss: 1.404667\n",
            "Train Epoch: 2 [9600/50000 (19%)]\tLoss: 1.451973\n",
            "Train Epoch: 2 [10240/50000 (20%)]\tLoss: 1.466834\n",
            "Train Epoch: 2 [10880/50000 (22%)]\tLoss: 1.381749\n",
            "Train Epoch: 2 [11520/50000 (23%)]\tLoss: 1.493728\n",
            "Train Epoch: 2 [12160/50000 (24%)]\tLoss: 1.434840\n",
            "Train Epoch: 2 [12800/50000 (26%)]\tLoss: 1.171516\n",
            "Train Epoch: 2 [13440/50000 (27%)]\tLoss: 1.354316\n",
            "Train Epoch: 2 [14080/50000 (28%)]\tLoss: 1.183628\n",
            "Train Epoch: 2 [14720/50000 (29%)]\tLoss: 1.330933\n",
            "Train Epoch: 2 [15360/50000 (31%)]\tLoss: 1.144628\n",
            "Train Epoch: 2 [16000/50000 (32%)]\tLoss: 1.372331\n",
            "Train Epoch: 2 [16640/50000 (33%)]\tLoss: 1.250035\n",
            "Train Epoch: 2 [17280/50000 (35%)]\tLoss: 1.368291\n",
            "Train Epoch: 2 [17920/50000 (36%)]\tLoss: 1.324278\n",
            "Train Epoch: 2 [18560/50000 (37%)]\tLoss: 1.106035\n",
            "Train Epoch: 2 [19200/50000 (38%)]\tLoss: 1.142743\n",
            "Train Epoch: 2 [19840/50000 (40%)]\tLoss: 1.271293\n",
            "Train Epoch: 2 [20480/50000 (41%)]\tLoss: 1.173500\n",
            "Train Epoch: 2 [21120/50000 (42%)]\tLoss: 1.478015\n",
            "Train Epoch: 2 [21760/50000 (43%)]\tLoss: 1.701514\n",
            "Train Epoch: 2 [22400/50000 (45%)]\tLoss: 1.512814\n",
            "Train Epoch: 2 [23040/50000 (46%)]\tLoss: 1.393045\n",
            "Train Epoch: 2 [23680/50000 (47%)]\tLoss: 1.333002\n",
            "Train Epoch: 2 [24320/50000 (49%)]\tLoss: 1.522033\n",
            "Train Epoch: 2 [24960/50000 (50%)]\tLoss: 1.267573\n",
            "Train Epoch: 2 [25600/50000 (51%)]\tLoss: 1.502502\n",
            "Train Epoch: 2 [26240/50000 (52%)]\tLoss: 1.457965\n",
            "Train Epoch: 2 [26880/50000 (54%)]\tLoss: 1.455220\n",
            "Train Epoch: 2 [27520/50000 (55%)]\tLoss: 1.301336\n",
            "Train Epoch: 2 [28160/50000 (56%)]\tLoss: 1.335807\n",
            "Train Epoch: 2 [28800/50000 (58%)]\tLoss: 1.289125\n",
            "Train Epoch: 2 [29440/50000 (59%)]\tLoss: 1.236415\n",
            "Train Epoch: 2 [30080/50000 (60%)]\tLoss: 1.331383\n",
            "Train Epoch: 2 [30720/50000 (61%)]\tLoss: 1.131726\n",
            "Train Epoch: 2 [31360/50000 (63%)]\tLoss: 1.125545\n",
            "Train Epoch: 2 [32000/50000 (64%)]\tLoss: 1.248167\n",
            "Train Epoch: 2 [32640/50000 (65%)]\tLoss: 1.469165\n",
            "Train Epoch: 2 [33280/50000 (66%)]\tLoss: 1.623211\n",
            "Train Epoch: 2 [33920/50000 (68%)]\tLoss: 1.200734\n",
            "Train Epoch: 2 [34560/50000 (69%)]\tLoss: 1.141317\n",
            "Train Epoch: 2 [35200/50000 (70%)]\tLoss: 1.378973\n",
            "Train Epoch: 2 [35840/50000 (72%)]\tLoss: 1.382892\n",
            "Train Epoch: 2 [36480/50000 (73%)]\tLoss: 1.444086\n",
            "Train Epoch: 2 [37120/50000 (74%)]\tLoss: 1.339971\n",
            "Train Epoch: 2 [37760/50000 (75%)]\tLoss: 1.495552\n",
            "Train Epoch: 2 [38400/50000 (77%)]\tLoss: 1.348649\n",
            "Train Epoch: 2 [39040/50000 (78%)]\tLoss: 1.245532\n",
            "Train Epoch: 2 [39680/50000 (79%)]\tLoss: 1.435589\n",
            "Train Epoch: 2 [40320/50000 (81%)]\tLoss: 1.444153\n",
            "Train Epoch: 2 [40960/50000 (82%)]\tLoss: 1.402653\n",
            "Train Epoch: 2 [41600/50000 (83%)]\tLoss: 1.209595\n",
            "Train Epoch: 2 [42240/50000 (84%)]\tLoss: 1.384278\n",
            "Train Epoch: 2 [42880/50000 (86%)]\tLoss: 1.387765\n",
            "Train Epoch: 2 [43520/50000 (87%)]\tLoss: 1.294079\n",
            "Train Epoch: 2 [44160/50000 (88%)]\tLoss: 1.317077\n",
            "Train Epoch: 2 [44800/50000 (90%)]\tLoss: 1.336535\n",
            "Train Epoch: 2 [45440/50000 (91%)]\tLoss: 1.186762\n",
            "Train Epoch: 2 [46080/50000 (92%)]\tLoss: 1.193766\n",
            "Train Epoch: 2 [46720/50000 (93%)]\tLoss: 1.731924\n",
            "Train Epoch: 2 [47360/50000 (95%)]\tLoss: 1.220863\n",
            "Train Epoch: 2 [48000/50000 (96%)]\tLoss: 1.335109\n",
            "Train Epoch: 2 [48640/50000 (97%)]\tLoss: 1.127456\n",
            "Train Epoch: 2 [49280/50000 (98%)]\tLoss: 1.217561\n",
            "Train Epoch: 2 [49920/50000 (100%)]\tLoss: 1.179910\n",
            "Train Epoch: 3 [0/50000 (0%)]\tLoss: 1.219532\n",
            "Train Epoch: 3 [640/50000 (1%)]\tLoss: 1.153630\n",
            "Train Epoch: 3 [1280/50000 (3%)]\tLoss: 1.456079\n",
            "Train Epoch: 3 [1920/50000 (4%)]\tLoss: 1.102099\n",
            "Train Epoch: 3 [2560/50000 (5%)]\tLoss: 1.504650\n",
            "Train Epoch: 3 [3200/50000 (6%)]\tLoss: 1.340590\n",
            "Train Epoch: 3 [3840/50000 (8%)]\tLoss: 1.355372\n",
            "Train Epoch: 3 [4480/50000 (9%)]\tLoss: 1.187619\n",
            "Train Epoch: 3 [5120/50000 (10%)]\tLoss: 1.370970\n",
            "Train Epoch: 3 [5760/50000 (12%)]\tLoss: 1.101350\n",
            "Train Epoch: 3 [6400/50000 (13%)]\tLoss: 1.143108\n",
            "Train Epoch: 3 [7040/50000 (14%)]\tLoss: 1.190517\n",
            "Train Epoch: 3 [7680/50000 (15%)]\tLoss: 1.486432\n",
            "Train Epoch: 3 [8320/50000 (17%)]\tLoss: 1.308033\n",
            "Train Epoch: 3 [8960/50000 (18%)]\tLoss: 1.308743\n",
            "Train Epoch: 3 [9600/50000 (19%)]\tLoss: 1.200017\n",
            "Train Epoch: 3 [10240/50000 (20%)]\tLoss: 1.267832\n",
            "Train Epoch: 3 [10880/50000 (22%)]\tLoss: 1.131933\n",
            "Train Epoch: 3 [11520/50000 (23%)]\tLoss: 1.471042\n",
            "Train Epoch: 3 [12160/50000 (24%)]\tLoss: 1.392337\n",
            "Train Epoch: 3 [12800/50000 (26%)]\tLoss: 1.421166\n",
            "Train Epoch: 3 [13440/50000 (27%)]\tLoss: 1.235034\n",
            "Train Epoch: 3 [14080/50000 (28%)]\tLoss: 1.500160\n",
            "Train Epoch: 3 [14720/50000 (29%)]\tLoss: 1.008471\n",
            "Train Epoch: 3 [15360/50000 (31%)]\tLoss: 1.079076\n",
            "Train Epoch: 3 [16000/50000 (32%)]\tLoss: 1.254693\n",
            "Train Epoch: 3 [16640/50000 (33%)]\tLoss: 1.324364\n",
            "Train Epoch: 3 [17280/50000 (35%)]\tLoss: 1.181418\n",
            "Train Epoch: 3 [17920/50000 (36%)]\tLoss: 1.077037\n",
            "Train Epoch: 3 [18560/50000 (37%)]\tLoss: 1.383124\n",
            "Train Epoch: 3 [19200/50000 (38%)]\tLoss: 1.243842\n",
            "Train Epoch: 3 [19840/50000 (40%)]\tLoss: 1.274696\n",
            "Train Epoch: 3 [20480/50000 (41%)]\tLoss: 0.973197\n",
            "Train Epoch: 3 [21120/50000 (42%)]\tLoss: 1.330801\n",
            "Train Epoch: 3 [21760/50000 (43%)]\tLoss: 1.419053\n",
            "Train Epoch: 3 [22400/50000 (45%)]\tLoss: 1.280363\n",
            "Train Epoch: 3 [23040/50000 (46%)]\tLoss: 1.227796\n",
            "Train Epoch: 3 [23680/50000 (47%)]\tLoss: 1.389950\n",
            "Train Epoch: 3 [24320/50000 (49%)]\tLoss: 1.206035\n",
            "Train Epoch: 3 [24960/50000 (50%)]\tLoss: 1.333972\n",
            "Train Epoch: 3 [25600/50000 (51%)]\tLoss: 1.369266\n",
            "Train Epoch: 3 [26240/50000 (52%)]\tLoss: 1.268191\n",
            "Train Epoch: 3 [26880/50000 (54%)]\tLoss: 1.115850\n",
            "Train Epoch: 3 [27520/50000 (55%)]\tLoss: 1.248903\n",
            "Train Epoch: 3 [28160/50000 (56%)]\tLoss: 1.311414\n",
            "Train Epoch: 3 [28800/50000 (58%)]\tLoss: 1.198035\n",
            "Train Epoch: 3 [29440/50000 (59%)]\tLoss: 1.369832\n",
            "Train Epoch: 3 [30080/50000 (60%)]\tLoss: 1.069650\n",
            "Train Epoch: 3 [30720/50000 (61%)]\tLoss: 1.048166\n",
            "Train Epoch: 3 [31360/50000 (63%)]\tLoss: 1.201653\n",
            "Train Epoch: 3 [32000/50000 (64%)]\tLoss: 1.285244\n",
            "Train Epoch: 3 [32640/50000 (65%)]\tLoss: 1.211361\n",
            "Train Epoch: 3 [33280/50000 (66%)]\tLoss: 1.258096\n",
            "Train Epoch: 3 [33920/50000 (68%)]\tLoss: 1.103859\n",
            "Train Epoch: 3 [34560/50000 (69%)]\tLoss: 1.177925\n",
            "Train Epoch: 3 [35200/50000 (70%)]\tLoss: 1.360536\n",
            "Train Epoch: 3 [35840/50000 (72%)]\tLoss: 1.509653\n",
            "Train Epoch: 3 [36480/50000 (73%)]\tLoss: 1.273276\n",
            "Train Epoch: 3 [37120/50000 (74%)]\tLoss: 1.465193\n",
            "Train Epoch: 3 [37760/50000 (75%)]\tLoss: 1.110343\n",
            "Train Epoch: 3 [38400/50000 (77%)]\tLoss: 1.390739\n",
            "Train Epoch: 3 [39040/50000 (78%)]\tLoss: 1.637758\n",
            "Train Epoch: 3 [39680/50000 (79%)]\tLoss: 1.394281\n",
            "Train Epoch: 3 [40320/50000 (81%)]\tLoss: 1.524115\n",
            "Train Epoch: 3 [40960/50000 (82%)]\tLoss: 1.209424\n",
            "Train Epoch: 3 [41600/50000 (83%)]\tLoss: 1.108045\n",
            "Train Epoch: 3 [42240/50000 (84%)]\tLoss: 1.158533\n",
            "Train Epoch: 3 [42880/50000 (86%)]\tLoss: 1.629228\n",
            "Train Epoch: 3 [43520/50000 (87%)]\tLoss: 1.283777\n",
            "Train Epoch: 3 [44160/50000 (88%)]\tLoss: 1.414493\n",
            "Train Epoch: 3 [44800/50000 (90%)]\tLoss: 1.369584\n",
            "Train Epoch: 3 [45440/50000 (91%)]\tLoss: 1.123334\n",
            "Train Epoch: 3 [46080/50000 (92%)]\tLoss: 1.338443\n",
            "Train Epoch: 3 [46720/50000 (93%)]\tLoss: 0.976520\n",
            "Train Epoch: 3 [47360/50000 (95%)]\tLoss: 1.183399\n",
            "Train Epoch: 3 [48000/50000 (96%)]\tLoss: 1.031677\n",
            "Train Epoch: 3 [48640/50000 (97%)]\tLoss: 1.471247\n",
            "Train Epoch: 3 [49280/50000 (98%)]\tLoss: 1.337953\n",
            "Train Epoch: 3 [49920/50000 (100%)]\tLoss: 1.229582\n"
          ]
        }
      ]
    },
    {
      "cell_type": "code",
      "source": [
        "#model #= Net()\n",
        "#Model=model\n",
        "model.load_state_dict(torch.load('model.pth'))\n"
      ],
      "metadata": {
        "colab": {
          "base_uri": "https://localhost:8080/"
        },
        "id": "qUjrJZpJ6jAV",
        "outputId": "a39c12aa-786f-45e8-d864-34d53d99e04c"
      },
      "execution_count": null,
      "outputs": [
        {
          "output_type": "execute_result",
          "data": {
            "text/plain": [
              "<All keys matched successfully>"
            ]
          },
          "metadata": {},
          "execution_count": 223
        }
      ]
    },
    {
      "cell_type": "code",
      "source": [
        "import matplotlib.pyplot as plt\n",
        "test = x_test[50].reshape(1,3,32,32)\n",
        "print(y_test[50])\n",
        "test.shape\n",
        "print(torch.argmax(model(test),dim=1))#.dtype)\n",
        "plt.imshow(test.to(torch.uint8).numpy().reshape(32,32,3))"
      ],
      "metadata": {
        "colab": {
          "base_uri": "https://localhost:8080/",
          "height": 321
        },
        "id": "YAHahUTtGGPP",
        "outputId": "33df9e1e-9180-40c0-cbde-a5037820c504"
      },
      "execution_count": null,
      "outputs": [
        {
          "output_type": "stream",
          "name": "stdout",
          "text": [
            "tensor([9], dtype=torch.uint8)\n",
            "tensor([9])\n"
          ]
        },
        {
          "output_type": "execute_result",
          "data": {
            "text/plain": [
              "<matplotlib.image.AxesImage at 0x7f03dfef3450>"
            ]
          },
          "metadata": {},
          "execution_count": 225
        },
        {
          "output_type": "display_data",
          "data": {
            "text/plain": [
              "<Figure size 432x288 with 1 Axes>"
            ],
            "image/png": "[encoded data removed]"
          },
          "metadata": {
            "needs_background": "light"
          }
        }
      ]
    },
    {
      "cell_type": "code",
      "source": [
        "\n",
        "torch.argmax(model(test),dim=1)\n"
      ],
      "metadata": {
        "colab": {
          "base_uri": "https://localhost:8080/"
        },
        "id": "2_lrvuGwGNvX",
        "outputId": "8949704c-0ebd-4f8e-98e8-1bd6298ccd06"
      },
      "execution_count": null,
      "outputs": [
        {
          "output_type": "stream",
          "name": "stderr",
          "text": [
            "/usr/local/lib/python3.7/dist-packages/ipykernel_launcher.py:24: UserWarning: Implicit dimension choice for log_softmax has been deprecated. Change the call to include dim=X as an argument.\n"
          ]
        },
        {
          "output_type": "execute_result",
          "data": {
            "text/plain": [
              "tensor([1])"
            ]
          },
          "metadata": {},
          "execution_count": 86
        }
      ]
    },
    {
      "cell_type": "code",
      "source": [
        "\n",
        "plt.imshow(test.to(torch.uint8).numpy().reshape(32,32,3))\n"
      ],
      "metadata": {
        "colab": {
          "base_uri": "https://localhost:8080/",
          "height": 284
        },
        "id": "D8uXuaB6J3SU",
        "outputId": "3b91fd3e-6606-49f1-9dc7-8d764daefdc9"
      },
      "execution_count": null,
      "outputs": [
        {
          "output_type": "execute_result",
          "data": {
            "text/plain": [
              "<matplotlib.image.AxesImage at 0x7f03e204dad0>"
            ]
          },
          "metadata": {},
          "execution_count": 155
        },
        {
          "output_type": "display_data",
          "data": {
            "text/plain": [
              "<Figure size 432x288 with 1 Axes>"
            ],
            "image/png": "[encoded data removed]"
          },
          "metadata": {
            "needs_background": "light"
          }
        }
      ]
    },
    {
      "cell_type": "code",
      "source": [],
      "metadata": {
        "id": "9Fb6Ho9oL-0j"
      },
      "execution_count": null,
      "outputs": []
    }
  ]
}