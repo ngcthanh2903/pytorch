{
  "nbformat": 4,
  "nbformat_minor": 0,
  "metadata": {
    "colab": {
      "provenance": [],
      "authorship_tag": "ABX9TyN9LEy86xWUfTWSpa/3t1oV",
      "include_colab_link": true
    },
    "kernelspec": {
      "name": "python3",
      "display_name": "Python 3"
    },
    "language_info": {
      "name": "python"
    }
  },
  "cells": [
    {
      "cell_type": "markdown",
      "metadata": {
        "id": "view-in-github",
        "colab_type": "text"
      },
      "source": [
        "<a href=\"https://colab.research.google.com/github/ngcthanh2903/pytorch/blob/main/convolution_pytorch_low_level.ipynb\" target=\"_parent\"><img src=\"https://colab.research.google.com/assets/colab-badge.svg\" alt=\"Open In Colab\"/></a>"
      ]
    },
    {
      "cell_type": "code",
      "execution_count": null,
      "metadata": {
        "id": "2VHeEaZiPjst"
      },
      "outputs": [],
      "source": [
        "import torch \n",
        "from torch.nn import functional as F\n",
        "import tensorflow as tf"
      ]
    },
    {
      "cell_type": "code",
      "source": [
        "input = torch.randn(1,1,4,4, requires_grad=True)\n",
        "print(input,input.shape)\n"
      ],
      "metadata": {
        "colab": {
          "base_uri": "https://localhost:8080/"
        },
        "id": "ovCjAXJ3Pypi",
        "outputId": "91cd3ef8-965f-4f9a-ebc3-4220e55652fd"
      },
      "execution_count": null,
      "outputs": [
        {
          "output_type": "stream",
          "name": "stdout",
          "text": [
            "tensor([[[[ 0.3416, -0.0833, -1.6076,  0.7049],\n",
            "          [ 0.6684,  0.3296,  1.3179, -1.9981],\n",
            "          [ 0.8011,  0.3040,  1.1764,  1.9984],\n",
            "          [ 1.4194,  1.0368, -1.7810,  0.5352]]]], requires_grad=True) torch.Size([1, 1, 4, 4])\n"
          ]
        }
      ]
    },
    {
      "cell_type": "code",
      "source": [
        "weight = torch.randn(1,1,3,3, requires_grad=True)\n",
        "print(weight,weight.shape)"
      ],
      "metadata": {
        "colab": {
          "base_uri": "https://localhost:8080/"
        },
        "id": "M9n8-PPwQxyM",
        "outputId": "66cf1be7-3c56-4e4e-e5aa-107093ebb0ca"
      },
      "execution_count": null,
      "outputs": [
        {
          "output_type": "stream",
          "name": "stdout",
          "text": [
            "tensor([[[[ 0.0386,  0.8483, -0.2089],\n",
            "          [-0.9488, -0.7155,  0.9955],\n",
            "          [ 0.1745, -0.3984,  0.6921]]]], requires_grad=True) torch.Size([1, 1, 3, 3])\n"
          ]
        }
      ]
    },
    {
      "cell_type": "code",
      "source": [
        "output = F.conv2d(input, weight)\n",
        "output"
      ],
      "metadata": {
        "colab": {
          "base_uri": "https://localhost:8080/"
        },
        "id": "c2BRpyoLQysl",
        "outputId": "06ae2b1e-fc3b-4876-8826-f588788d4764"
      },
      "execution_count": null,
      "outputs": [
        {
          "output_type": "execute_result",
          "data": {
            "text/plain": [
              "tensor([[[[ 1.5532, -3.7914],\n",
              "          [-1.1745,  3.6681]]]], grad_fn=<ConvolutionBackward0>)"
            ]
          },
          "metadata": {},
          "execution_count": 4
        }
      ]
    },
    {
      "cell_type": "code",
      "source": [
        "o = torch.conv2d(input,weight)\n",
        "o"
      ],
      "metadata": {
        "colab": {
          "base_uri": "https://localhost:8080/"
        },
        "id": "LOCtPA9qQ7Ak",
        "outputId": "e6f29d6e-ca47-456d-83e1-b28e7f245389"
      },
      "execution_count": null,
      "outputs": [
        {
          "output_type": "execute_result",
          "data": {
            "text/plain": [
              "tensor([[[[ 1.5532, -3.7914],\n",
              "          [-1.1745,  3.6681]]]], grad_fn=<ConvolutionBackward0>)"
            ]
          },
          "metadata": {},
          "execution_count": 5
        }
      ]
    },
    {
      "cell_type": "code",
      "source": [
        "grad_output = torch.randn(output.shape)"
      ],
      "metadata": {
        "id": "Dq6RD-SqRGXZ"
      },
      "execution_count": null,
      "outputs": []
    },
    {
      "cell_type": "code",
      "source": [
        "grad_weight = torch.autograd.grad(output, weight, grad_output)\n",
        "grad_weight"
      ],
      "metadata": {
        "colab": {
          "base_uri": "https://localhost:8080/"
        },
        "id": "a9bOuhKIRO-P",
        "outputId": "f246fc07-181f-4c96-a4d8-c69578b960c9"
      },
      "execution_count": null,
      "outputs": [
        {
          "output_type": "execute_result",
          "data": {
            "text/plain": [
              "(tensor([[[[-1.7610,  0.8803,  3.0838],\n",
              "           [ 3.2088,  2.6957,  2.5903],\n",
              "           [-4.5069, -2.7738, -1.1588]]]]),)"
            ]
          },
          "metadata": {},
          "execution_count": 68
        }
      ]
    },
    {
      "cell_type": "code",
      "source": [
        "def tuple_of_tensors_to_tensor(tuple_of_tensors):\n",
        "    return  torch.stack(list(tuple_of_tensors), dim=0)\n",
        "tuple_of_tensors_to_tensor(grad_weight)   "
      ],
      "metadata": {
        "colab": {
          "base_uri": "https://localhost:8080/"
        },
        "id": "Q2P89AWySpUp",
        "outputId": "d060fd9c-f6f5-4bbd-c6fc-e7ef14298220"
      },
      "execution_count": null,
      "outputs": [
        {
          "output_type": "execute_result",
          "data": {
            "text/plain": [
              "tensor([[[[[-1.7610,  0.8803,  3.0838],\n",
              "           [ 3.2088,  2.6957,  2.5903],\n",
              "           [-4.5069, -2.7738, -1.1588]]]]])"
            ]
          },
          "metadata": {},
          "execution_count": 69
        }
      ]
    },
    {
      "cell_type": "code",
      "source": [
        "w_grad = torch.conv2d(input,grad_output)\n",
        "w_grad"
      ],
      "metadata": {
        "colab": {
          "base_uri": "https://localhost:8080/"
        },
        "id": "rSLsmrAkRrHo",
        "outputId": "0b233d20-60e5-4857-df8e-22e8275c4b84"
      },
      "execution_count": null,
      "outputs": [
        {
          "output_type": "execute_result",
          "data": {
            "text/plain": [
              "tensor([[[[ 0.4919,  2.2467, -2.2996],\n",
              "          [ 0.3366,  2.2948,  2.6694],\n",
              "          [ 1.7194, -3.1001,  0.3153]]]], grad_fn=<ConvolutionBackward0>)"
            ]
          },
          "metadata": {},
          "execution_count": 7
        }
      ]
    },
    {
      "cell_type": "code",
      "source": [
        "grad_w = F.grad.conv2d_weight(input, weight.shape, grad_output)\n",
        "grad_w"
      ],
      "metadata": {
        "colab": {
          "base_uri": "https://localhost:8080/"
        },
        "id": "atmT1y5kSKaH",
        "outputId": "5f464627-79be-4606-f67d-f69dcf17b98c"
      },
      "execution_count": null,
      "outputs": [
        {
          "output_type": "execute_result",
          "data": {
            "text/plain": [
              "tensor([[[[ 0.4919,  2.2467, -2.2996],\n",
              "          [ 0.3366,  2.2948,  2.6694],\n",
              "          [ 1.7194, -3.1001,  0.3153]]]],\n",
              "       grad_fn=<ConvolutionBackwardBackward0>)"
            ]
          },
          "metadata": {},
          "execution_count": 8
        }
      ]
    },
    {
      "cell_type": "code",
      "source": [
        "o = torch.tensor(o)\n",
        "o"
      ],
      "metadata": {
        "colab": {
          "base_uri": "https://localhost:8080/"
        },
        "id": "aT9XHmjsTjWE",
        "outputId": "6b5e2e2b-f448-44cf-a8e9-bbc42849130d"
      },
      "execution_count": null,
      "outputs": [
        {
          "output_type": "stream",
          "name": "stderr",
          "text": [
            "/usr/local/lib/python3.7/dist-packages/ipykernel_launcher.py:1: UserWarning: To copy construct from a tensor, it is recommended to use sourceTensor.clone().detach() or sourceTensor.clone().detach().requires_grad_(True), rather than torch.tensor(sourceTensor).\n",
            "  \"\"\"Entry point for launching an IPython kernel.\n"
          ]
        },
        {
          "output_type": "execute_result",
          "data": {
            "text/plain": [
              "tensor([[[[ 1.6660, -2.9301],\n",
              "          [-0.3271,  0.1683]]]])"
            ]
          },
          "metadata": {},
          "execution_count": 72
        }
      ]
    },
    {
      "cell_type": "code",
      "source": [
        " torch.nn.grad.conv2d_weight(input, weight.shape, grad_output)"
      ],
      "metadata": {
        "colab": {
          "base_uri": "https://localhost:8080/"
        },
        "id": "bPsWsY25TpwQ",
        "outputId": "2de0cba6-496e-4f5d-af47-6ab28a212bc3"
      },
      "execution_count": null,
      "outputs": [
        {
          "output_type": "execute_result",
          "data": {
            "text/plain": [
              "tensor([[[[ 0.4919,  2.2467, -2.2996],\n",
              "          [ 0.3366,  2.2948,  2.6694],\n",
              "          [ 1.7194, -3.1001,  0.3153]]]],\n",
              "       grad_fn=<ConvolutionBackwardBackward0>)"
            ]
          },
          "metadata": {},
          "execution_count": 9
        }
      ]
    },
    {
      "cell_type": "code",
      "source": [
        "grad_in = torch.autograd.grad(output, input, grad_output)\n",
        "grad_in"
      ],
      "metadata": {
        "colab": {
          "base_uri": "https://localhost:8080/"
        },
        "id": "7mYtSpdjfZ-l",
        "outputId": "58a5c10d-e611-44cd-9bbc-dda7c4d2cb54"
      },
      "execution_count": null,
      "outputs": [
        {
          "output_type": "execute_result",
          "data": {
            "text/plain": [
              "(tensor([[[[-0.0252, -0.5470,  0.3067, -0.0419],\n",
              "           [ 0.6272,  0.4990,  0.7499, -0.1898],\n",
              "           [-0.2812, -1.5989, -1.6909,  1.9942],\n",
              "           [ 0.0307,  0.2551, -0.6207,  1.2901]]]]),)"
            ]
          },
          "metadata": {},
          "execution_count": 10
        }
      ]
    },
    {
      "cell_type": "code",
      "source": [
        "in_grad = F.grad.conv2d_input(input.shape, weight, grad_output)\n",
        "in_grad"
      ],
      "metadata": {
        "colab": {
          "base_uri": "https://localhost:8080/"
        },
        "id": "OyyxyVB5f0b1",
        "outputId": "c7db8306-05b8-416e-b7f5-8ffc9618269a"
      },
      "execution_count": null,
      "outputs": [
        {
          "output_type": "execute_result",
          "data": {
            "text/plain": [
              "tensor([[[[-0.0252, -0.5470,  0.3067, -0.0419],\n",
              "          [ 0.6272,  0.4990,  0.7499, -0.1898],\n",
              "          [-0.2812, -1.5989, -1.6909,  1.9942],\n",
              "          [ 0.0307,  0.2551, -0.6207,  1.2901]]]],\n",
              "       grad_fn=<ConvolutionBackwardBackward0>)"
            ]
          },
          "metadata": {},
          "execution_count": 11
        }
      ]
    },
    {
      "cell_type": "code",
      "source": [
        "x = torch.arange(16).view(1, 1, 4,4)\n",
        "x"
      ],
      "metadata": {
        "colab": {
          "base_uri": "https://localhost:8080/"
        },
        "id": "IYUMLW3Kirno",
        "outputId": "a04b2a84-54b7-4e61-ef76-a8c3763de839"
      },
      "execution_count": null,
      "outputs": [
        {
          "output_type": "execute_result",
          "data": {
            "text/plain": [
              "tensor([[[[ 0,  1,  2,  3],\n",
              "          [ 4,  5,  6,  7],\n",
              "          [ 8,  9, 10, 11],\n",
              "          [12, 13, 14, 15]]]])"
            ]
          },
          "metadata": {},
          "execution_count": 15
        }
      ]
    },
    {
      "cell_type": "code",
      "source": [
        "torch.flip(x, [2,3])"
      ],
      "metadata": {
        "colab": {
          "base_uri": "https://localhost:8080/"
        },
        "id": "r2aKHxStii02",
        "outputId": "7260954f-40a4-4dde-d3d9-9e0e3e56ad50"
      },
      "execution_count": null,
      "outputs": [
        {
          "output_type": "execute_result",
          "data": {
            "text/plain": [
              "tensor([[[[15, 14, 13, 12],\n",
              "          [11, 10,  9,  8],\n",
              "          [ 7,  6,  5,  4],\n",
              "          [ 3,  2,  1,  0]]]])"
            ]
          },
          "metadata": {},
          "execution_count": 16
        }
      ]
    },
    {
      "cell_type": "code",
      "source": [
        "input.shape"
      ],
      "metadata": {
        "colab": {
          "base_uri": "https://localhost:8080/"
        },
        "id": "qqyRlWv_j_hU",
        "outputId": "55cdf7c2-690c-4395-8762-b1445b3655e6"
      },
      "execution_count": null,
      "outputs": [
        {
          "output_type": "execute_result",
          "data": {
            "text/plain": [
              "torch.Size([1, 1, 3, 3])"
            ]
          },
          "metadata": {},
          "execution_count": 39
        }
      ]
    },
    {
      "cell_type": "code",
      "source": [
        "grad_in=torch.conv_transpose2d(grad_output, weight)\n",
        "grad_in.shape"
      ],
      "metadata": {
        "colab": {
          "base_uri": "https://localhost:8080/"
        },
        "id": "KVMi0zhZhhqY",
        "outputId": "48e6ea6d-b5bb-40b8-9937-7b7113f64512"
      },
      "execution_count": null,
      "outputs": [
        {
          "output_type": "execute_result",
          "data": {
            "text/plain": [
              "torch.Size([1, 1, 4, 4])"
            ]
          },
          "metadata": {},
          "execution_count": 13
        }
      ]
    },
    {
      "cell_type": "code",
      "source": [
        "input"
      ],
      "metadata": {
        "colab": {
          "base_uri": "https://localhost:8080/"
        },
        "id": "Nv8BTKOmy2gL",
        "outputId": "e98df5ac-c7ff-4fd2-9014-8915de8b0e93"
      },
      "execution_count": null,
      "outputs": [
        {
          "output_type": "execute_result",
          "data": {
            "text/plain": [
              "tensor([[[[ 0.3416, -0.0833, -1.6076,  0.7049],\n",
              "          [ 0.6684,  0.3296,  1.3179, -1.9981],\n",
              "          [ 0.8011,  0.3040,  1.1764,  1.9984],\n",
              "          [ 1.4194,  1.0368, -1.7810,  0.5352]]]], requires_grad=True)"
            ]
          },
          "metadata": {},
          "execution_count": 17
        }
      ]
    },
    {
      "cell_type": "code",
      "source": [
        "torch.flip(input, [2,3]).shape\n",
        "weight"
      ],
      "metadata": {
        "colab": {
          "base_uri": "https://localhost:8080/"
        },
        "id": "ycblPhnUy7H_",
        "outputId": "5b211bfe-3915-4bf3-b2e0-4a7472e39e3d"
      },
      "execution_count": null,
      "outputs": [
        {
          "output_type": "execute_result",
          "data": {
            "text/plain": [
              "tensor([[[[-0.5158, -0.9293, -0.6043],\n",
              "          [-0.0041,  0.8445,  0.0466],\n",
              "          [ 0.9831, -1.1239,  0.0546]]]], requires_grad=True)"
            ]
          },
          "metadata": {},
          "execution_count": 158
        }
      ]
    },
    {
      "cell_type": "code",
      "source": [
        "torch.flip(weight, [2,3])"
      ],
      "metadata": {
        "colab": {
          "base_uri": "https://localhost:8080/"
        },
        "id": "jyrnuFuj0Jl1",
        "outputId": "8c56e869-2abf-49c1-b005-136f780df4c9"
      },
      "execution_count": null,
      "outputs": [
        {
          "output_type": "execute_result",
          "data": {
            "text/plain": [
              "tensor([[[[ 0.6921, -0.3984,  0.1745],\n",
              "          [ 0.9955, -0.7155, -0.9488],\n",
              "          [-0.2089,  0.8483,  0.0386]]]], grad_fn=<FlipBackward0>)"
            ]
          },
          "metadata": {},
          "execution_count": 18
        }
      ]
    },
    {
      "cell_type": "code",
      "source": [
        "grad_output.shape\n",
        "input.shape"
      ],
      "metadata": {
        "colab": {
          "base_uri": "https://localhost:8080/"
        },
        "id": "szW_V7Z51F3P",
        "outputId": "98966300-2566-4544-f336-d4d315422f26"
      },
      "execution_count": null,
      "outputs": [
        {
          "output_type": "execute_result",
          "data": {
            "text/plain": [
              "torch.Size([1, 1, 4, 4])"
            ]
          },
          "metadata": {},
          "execution_count": 19
        }
      ]
    },
    {
      "cell_type": "code",
      "source": [
        "x\n",
        "paddings = (1,5,3,3,0,0)\n",
        "torch.nn.functional.pad(grad_output,paddings).shape\n"
      ],
      "metadata": {
        "colab": {
          "base_uri": "https://localhost:8080/"
        },
        "id": "_RJLUVz65BMz",
        "outputId": "9af409b1-808a-459d-f54f-8d34ac962711"
      },
      "execution_count": null,
      "outputs": [
        {
          "output_type": "execute_result",
          "data": {
            "text/plain": [
              "torch.Size([1, 1, 8, 8])"
            ]
          },
          "metadata": {},
          "execution_count": 20
        }
      ]
    },
    {
      "cell_type": "code",
      "source": [
        "grad_input = torch.conv2d(torch.nn.functional.pad(grad_output,paddings),torch.flip(weight,[2,3]))\n",
        "grad_input.shape\n",
        "print(grad_input)"
      ],
      "metadata": {
        "colab": {
          "base_uri": "https://localhost:8080/"
        },
        "id": "WYg5ZD735FO2",
        "outputId": "64adf79d-e288-4956-fd0e-09e71c19e7b7"
      },
      "execution_count": null,
      "outputs": [
        {
          "output_type": "stream",
          "name": "stdout",
          "text": [
            "tensor([[[[ 0.0000,  0.0000,  0.0000,  0.0000,  0.0000,  0.0000],\n",
            "          [-0.5470,  0.3067, -0.0419,  0.0000,  0.0000,  0.0000],\n",
            "          [ 0.4990,  0.7499, -0.1898,  0.0000,  0.0000,  0.0000],\n",
            "          [-1.5989, -1.6909,  1.9942,  0.0000,  0.0000,  0.0000],\n",
            "          [ 0.2551, -0.6207,  1.2901,  0.0000,  0.0000,  0.0000],\n",
            "          [ 0.0000,  0.0000,  0.0000,  0.0000,  0.0000,  0.0000]]]],\n",
            "       grad_fn=<ConvolutionBackward0>)\n"
          ]
        }
      ]
    },
    {
      "cell_type": "code",
      "source": [],
      "metadata": {
        "id": "sucobYVcXpdb"
      },
      "execution_count": null,
      "outputs": []
    },
    {
      "cell_type": "code",
      "source": [
        "import torch \n",
        "from torch.nn import functional as F\n",
        "import tensorflow as tf"
      ],
      "metadata": {
        "id": "g1VHT64YXpgU"
      },
      "execution_count": null,
      "outputs": []
    },
    {
      "cell_type": "code",
      "source": [
        "input = torch.randn(1,1,4,4, requires_grad=True)\n",
        "print(input,input.shape)\n"
      ],
      "metadata": {
        "colab": {
          "base_uri": "https://localhost:8080/"
        },
        "id": "p9hC8zgmXpjP",
        "outputId": "3576a7c7-6bad-4945-81a0-285d95027e1b"
      },
      "execution_count": null,
      "outputs": [
        {
          "output_type": "stream",
          "name": "stdout",
          "text": [
            "tensor([[[[-0.2921,  0.7333, -0.3372, -0.6393],\n",
            "          [-1.3351, -0.4130,  0.1204,  0.1441],\n",
            "          [-0.1641,  0.5014, -0.1830,  1.0376],\n",
            "          [-1.7541,  1.7945,  0.2673, -0.7757]]]], requires_grad=True) torch.Size([1, 1, 4, 4])\n"
          ]
        }
      ]
    },
    {
      "cell_type": "code",
      "source": [
        "weight = torch.randn(1,1,3,3, requires_grad=True)\n",
        "print(weight,weight.shape)"
      ],
      "metadata": {
        "colab": {
          "base_uri": "https://localhost:8080/"
        },
        "id": "sTYmcqqxX13i",
        "outputId": "e90559dc-8495-472b-a491-059e34af7ab0"
      },
      "execution_count": null,
      "outputs": [
        {
          "output_type": "stream",
          "name": "stdout",
          "text": [
            "tensor([[[[-2.4179, -0.1159,  0.3991],\n",
            "          [ 0.3739, -1.3596, -0.8309],\n",
            "          [ 0.0058,  0.2456, -1.0247]]]], requires_grad=True) torch.Size([1, 1, 3, 3])\n"
          ]
        }
      ]
    },
    {
      "cell_type": "code",
      "source": [
        "output = F.conv2d(input, weight)\n",
        "output"
      ],
      "metadata": {
        "colab": {
          "base_uri": "https://localhost:8080/"
        },
        "id": "wHChJhFeX9I0",
        "outputId": "43ea2bbb-d04d-40bb-9f0c-3b693d7db936"
      },
      "execution_count": null,
      "outputs": [
        {
          "output_type": "execute_result",
          "data": {
            "text/plain": [
              "tensor([[[[ 0.7586, -3.5322],\n",
              "          [ 2.8896,  1.4871]]]], grad_fn=<ConvolutionBackward0>)"
            ]
          },
          "metadata": {},
          "execution_count": 25
        }
      ]
    },
    {
      "cell_type": "code",
      "source": [
        "grad_output = torch.randn(output.shape)"
      ],
      "metadata": {
        "id": "IYhsz6YAYDpC"
      },
      "execution_count": null,
      "outputs": []
    },
    {
      "cell_type": "code",
      "source": [
        "grad_w = F.grad.conv2d_weight(input, weight.shape, grad_output)\n",
        "grad_w"
      ],
      "metadata": {
        "colab": {
          "base_uri": "https://localhost:8080/"
        },
        "id": "I-EhOVIFYHgn",
        "outputId": "5533bb97-e765-478f-e1eb-e48d53227d4f"
      },
      "execution_count": null,
      "outputs": [
        {
          "output_type": "execute_result",
          "data": {
            "text/plain": [
              "tensor([[[[ 1.5239, -0.8220, -0.2243],\n",
              "          [ 0.6254,  0.4231, -0.8387],\n",
              "          [-0.4429, -1.4416,  1.3269]]]],\n",
              "       grad_fn=<ConvolutionBackwardBackward0>)"
            ]
          },
          "metadata": {},
          "execution_count": 27
        }
      ]
    },
    {
      "cell_type": "code",
      "source": [
        "in_grad = F.grad.conv2d_input(input.shape, weight, grad_output)\n",
        "in_grad"
      ],
      "metadata": {
        "colab": {
          "base_uri": "https://localhost:8080/"
        },
        "id": "XJGngCJaYSvg",
        "outputId": "fe6b3662-d5a1-47ce-b346-08c58055207c"
      },
      "execution_count": null,
      "outputs": [
        {
          "output_type": "execute_result",
          "data": {
            "text/plain": [
              "tensor([[[[ 2.2249e+00, -1.2897e+00, -4.3420e-01,  2.3050e-01],\n",
              "          [ 5.2961e-01,  3.5534e+00, -6.6779e-02, -8.1735e-01],\n",
              "          [-1.4043e-01, -4.7532e-02,  2.5346e+00,  1.1081e-01],\n",
              "          [-2.0805e-03, -9.3605e-02,  1.6266e-01,  8.6646e-01]]]],\n",
              "       grad_fn=<ConvolutionBackwardBackward0>)"
            ]
          },
          "metadata": {},
          "execution_count": 28
        }
      ]
    },
    {
      "cell_type": "code",
      "source": [],
      "metadata": {
        "id": "DS-14QJy3zWE"
      },
      "execution_count": null,
      "outputs": []
    },
    {
      "cell_type": "code",
      "source": [
        "import torch \n",
        "print(torch.nn.grad.conv2d_weight(input, weight.shape, grad_output))"
      ],
      "metadata": {
        "colab": {
          "base_uri": "https://localhost:8080/"
        },
        "id": "yjhNEdLKbP4d",
        "outputId": "2455a76d-0d30-468e-dae0-4591d39621b4"
      },
      "execution_count": null,
      "outputs": [
        {
          "output_type": "stream",
          "name": "stdout",
          "text": [
            "tensor([[[[ 1.5239, -0.8220, -0.2243],\n",
            "          [ 0.6254,  0.4231, -0.8387],\n",
            "          [-0.4429, -1.4416,  1.3269]]]],\n",
            "       grad_fn=<ConvolutionBackwardBackward0>)\n"
          ]
        }
      ]
    },
    {
      "cell_type": "code",
      "source": [
        "print(F.conv2d(input,grad_output))"
      ],
      "metadata": {
        "colab": {
          "base_uri": "https://localhost:8080/"
        },
        "id": "NCW3f27TbjEa",
        "outputId": "0af79744-ef4f-4a10-f0a0-12053e23db2e"
      },
      "execution_count": null,
      "outputs": [
        {
          "output_type": "stream",
          "name": "stdout",
          "text": [
            "tensor([[[[ 1.5239, -0.8220, -0.2243],\n",
            "          [ 0.6254,  0.4231, -0.8387],\n",
            "          [-0.4429, -1.4416,  1.3269]]]], grad_fn=<ConvolutionBackward0>)\n"
          ]
        }
      ]
    },
    {
      "cell_type": "code",
      "source": [
        "print(F.conv_transpose2d(weight,grad_output))"
      ],
      "metadata": {
        "colab": {
          "base_uri": "https://localhost:8080/"
        },
        "id": "MCeXOpqYjGel",
        "outputId": "00b68e0d-2f2c-4a18-b92d-2f484dbc105d"
      },
      "execution_count": null,
      "outputs": [
        {
          "output_type": "stream",
          "name": "stdout",
          "text": [
            "tensor([[[[ 2.2249e+00, -1.2897e+00, -4.3420e-01,  2.3050e-01],\n",
            "          [ 5.2961e-01,  3.5534e+00, -6.6779e-02, -8.1735e-01],\n",
            "          [-1.4043e-01, -4.7532e-02,  2.5346e+00,  1.1081e-01],\n",
            "          [-2.0805e-03, -9.3605e-02,  1.6266e-01,  8.6646e-01]]]],\n",
            "       grad_fn=<ConvolutionBackward0>)\n"
          ]
        }
      ]
    },
    {
      "cell_type": "code",
      "source": [
        "print(grad_output)\n",
        "#print(grad_output.transpose(0,1))\n",
        "print(torch.flip(grad_output, [2,3]))"
      ],
      "metadata": {
        "colab": {
          "base_uri": "https://localhost:8080/"
        },
        "id": "ltKAvuXxm96g",
        "outputId": "1f6576ee-d50b-41ba-c070-c8afebb63825"
      },
      "execution_count": null,
      "outputs": [
        {
          "output_type": "stream",
          "name": "stdout",
          "text": [
            "tensor([[[[-0.0268, -0.5786],\n",
            "          [-0.1461,  0.5015]]]])\n",
            "tensor([[[[ 0.5015, -0.1461],\n",
            "          [-0.5786, -0.0268]]]])\n"
          ]
        }
      ]
    },
    {
      "cell_type": "code",
      "source": [
        "print(F.conv2d(grad_output,torch.flip(weight, [2,3]),padding=2))"
      ],
      "metadata": {
        "colab": {
          "base_uri": "https://localhost:8080/"
        },
        "id": "DAH7C4ZylYTi",
        "outputId": "700381fb-8f25-4e63-92e2-a34323a4767e"
      },
      "execution_count": null,
      "outputs": [
        {
          "output_type": "stream",
          "name": "stdout",
          "text": [
            "tensor([[[[ 2.2249e+00, -1.2897e+00, -4.3420e-01,  2.3050e-01],\n",
            "          [ 5.2961e-01,  3.5534e+00, -6.6779e-02, -8.1735e-01],\n",
            "          [-1.4043e-01, -4.7532e-02,  2.5346e+00,  1.1081e-01],\n",
            "          [-2.0805e-03, -9.3605e-02,  1.6266e-01,  8.6646e-01]]]],\n",
            "       grad_fn=<ConvolutionBackward0>)\n"
          ]
        }
      ]
    },
    {
      "cell_type": "code",
      "source": [
        "F.conv2d(grad_output,weight,padding=2)"
      ],
      "metadata": {
        "colab": {
          "base_uri": "https://localhost:8080/"
        },
        "id": "2bx6aKVJuLgA",
        "outputId": "0608fa53-7f94-4aa8-c59b-c6ec28e7e580"
      },
      "execution_count": null,
      "outputs": [
        {
          "output_type": "execute_result",
          "data": {
            "text/plain": [
              "tensor([[[[ 0.9430, -0.8178,  0.1365,  0.0033],\n",
              "          [ 1.1349,  1.5489, -1.3390,  0.2111],\n",
              "          [-0.0670,  1.5310,  3.1725, -1.7125],\n",
              "          [-0.1442, -0.2956,  0.9717,  2.0444]]]],\n",
              "       grad_fn=<ConvolutionBackward0>)"
            ]
          },
          "metadata": {},
          "execution_count": 34
        }
      ]
    },
    {
      "cell_type": "code",
      "source": [
        "di = torch.autograd.grad(output, weight, grad_output)"
      ],
      "metadata": {
        "id": "HzEjZHZ86mKt"
      },
      "execution_count": null,
      "outputs": []
    },
    {
      "cell_type": "code",
      "source": [
        "dw=torch.autograd.grad(output, input, grad_output)"
      ],
      "metadata": {
        "colab": {
          "base_uri": "https://localhost:8080/",
          "height": 321
        },
        "id": "comBXX_-7m0b",
        "outputId": "d359487e-2d31-43d2-ae30-beae3edee064"
      },
      "execution_count": null,
      "outputs": [
        {
          "output_type": "error",
          "ename": "RuntimeError",
          "evalue": "ignored",
          "traceback": [
            "\u001b[0;31m---------------------------------------------------------------------------\u001b[0m",
            "\u001b[0;31mRuntimeError\u001b[0m                              Traceback (most recent call last)",
            "\u001b[0;32m<ipython-input-37-1ac9b9372b94>\u001b[0m in \u001b[0;36m<cell line: 1>\u001b[0;34m()\u001b[0m\n\u001b[0;32m----> 1\u001b[0;31m \u001b[0mdw\u001b[0m\u001b[0;34m=\u001b[0m\u001b[0mtorch\u001b[0m\u001b[0;34m.\u001b[0m\u001b[0mautograd\u001b[0m\u001b[0;34m.\u001b[0m\u001b[0mgrad\u001b[0m\u001b[0;34m(\u001b[0m\u001b[0moutput\u001b[0m\u001b[0;34m,\u001b[0m \u001b[0minput\u001b[0m\u001b[0;34m,\u001b[0m \u001b[0mgrad_output\u001b[0m\u001b[0;34m)\u001b[0m\u001b[0;34m\u001b[0m\u001b[0;34m\u001b[0m\u001b[0m\n\u001b[0m",
            "\u001b[0;32m/usr/local/lib/python3.9/dist-packages/torch/autograd/__init__.py\u001b[0m in \u001b[0;36mgrad\u001b[0;34m(outputs, inputs, grad_outputs, retain_graph, create_graph, only_inputs, allow_unused, is_grads_batched)\u001b[0m\n\u001b[1;32m    301\u001b[0m         \u001b[0;32mreturn\u001b[0m \u001b[0m_vmap_internals\u001b[0m\u001b[0;34m.\u001b[0m\u001b[0m_vmap\u001b[0m\u001b[0;34m(\u001b[0m\u001b[0mvjp\u001b[0m\u001b[0;34m,\u001b[0m \u001b[0;36m0\u001b[0m\u001b[0;34m,\u001b[0m \u001b[0;36m0\u001b[0m\u001b[0;34m,\u001b[0m \u001b[0mallow_none_pass_through\u001b[0m\u001b[0;34m=\u001b[0m\u001b[0;32mTrue\u001b[0m\u001b[0;34m)\u001b[0m\u001b[0;34m(\u001b[0m\u001b[0mgrad_outputs_\u001b[0m\u001b[0;34m)\u001b[0m\u001b[0;34m\u001b[0m\u001b[0;34m\u001b[0m\u001b[0m\n\u001b[1;32m    302\u001b[0m     \u001b[0;32melse\u001b[0m\u001b[0;34m:\u001b[0m\u001b[0;34m\u001b[0m\u001b[0;34m\u001b[0m\u001b[0m\n\u001b[0;32m--> 303\u001b[0;31m         return Variable._execution_engine.run_backward(  # Calls into the C++ engine to run the backward pass\n\u001b[0m\u001b[1;32m    304\u001b[0m             \u001b[0mt_outputs\u001b[0m\u001b[0;34m,\u001b[0m \u001b[0mgrad_outputs_\u001b[0m\u001b[0;34m,\u001b[0m \u001b[0mretain_graph\u001b[0m\u001b[0;34m,\u001b[0m \u001b[0mcreate_graph\u001b[0m\u001b[0;34m,\u001b[0m \u001b[0mt_inputs\u001b[0m\u001b[0;34m,\u001b[0m\u001b[0;34m\u001b[0m\u001b[0;34m\u001b[0m\u001b[0m\n\u001b[1;32m    305\u001b[0m             allow_unused, accumulate_grad=False)  # Calls into the C++ engine to run the backward pass\n",
            "\u001b[0;31mRuntimeError\u001b[0m: Trying to backward through the graph a second time (or directly access saved tensors after they have already been freed). Saved intermediate values of the graph are freed when you call .backward() or autograd.grad(). Specify retain_graph=True if you need to backward through the graph a second time or if you need to access saved tensors after calling backward."
          ]
        }
      ]
    },
    {
      "cell_type": "code",
      "source": [
        "di"
      ],
      "metadata": {
        "colab": {
          "base_uri": "https://localhost:8080/"
        },
        "id": "Dp5iuQHquLiu",
        "outputId": "c4a862b5-4ff6-4d26-9470-e12cf92edf5e"
      },
      "execution_count": null,
      "outputs": [
        {
          "output_type": "execute_result",
          "data": {
            "text/plain": [
              "(tensor([[[[ 1.5239, -0.8220, -0.2243],\n",
              "           [ 0.6254,  0.4231, -0.8387],\n",
              "           [-0.4429, -1.4416,  1.3269]]]]),)"
            ]
          },
          "metadata": {},
          "execution_count": 36
        }
      ]
    },
    {
      "cell_type": "code",
      "source": [
        "import torch \n",
        "from torch.nn import functional as F\n",
        "input = torch.randn(3,3,4,4, requires_grad=True)\n",
        "print(input,input.shape)\n",
        "weight = torch.randn(3,3,3,3, requires_grad=True)\n",
        "print(weight,weight.shape)\n",
        "output = F.conv2d(input, weight)\n",
        "print(output)"
      ],
      "metadata": {
        "colab": {
          "base_uri": "https://localhost:8080/"
        },
        "id": "pVYZhmf_3Y76",
        "outputId": "ce96a2f3-2b94-43b6-b9f3-e368665c77ba"
      },
      "execution_count": 1,
      "outputs": [
        {
          "output_type": "stream",
          "name": "stdout",
          "text": [
            "tensor([[[[ 5.5614e-01, -1.8750e+00,  2.0075e+00, -2.9357e-01],\n",
            "          [-9.2188e-01, -3.4801e-01, -4.7713e-01, -7.1449e-01],\n",
            "          [ 1.9278e-01, -1.1121e+00, -2.1745e-01, -1.4266e-01],\n",
            "          [ 1.1392e+00,  1.4085e+00, -2.8118e-01, -5.8390e-01]],\n",
            "\n",
            "         [[-3.3107e-01, -4.4286e-01,  7.2854e-01, -4.5434e-01],\n",
            "          [ 2.2107e-01, -2.1869e+00, -1.0953e+00,  1.1792e+00],\n",
            "          [ 4.4409e-01, -6.9943e-02, -3.2790e-01, -2.8303e+00],\n",
            "          [-1.7804e-01,  1.3952e+00,  9.9036e-01,  9.5271e-01]],\n",
            "\n",
            "         [[-4.5390e-01,  8.2875e-01, -2.3495e-01, -1.6899e+00],\n",
            "          [ 3.8890e-02,  4.0726e-01,  7.1055e-01,  2.2195e+00],\n",
            "          [ 1.9461e+00, -2.4010e-01, -2.7275e-01,  2.1861e-01],\n",
            "          [-4.1627e-01,  2.7369e-01, -1.0602e+00,  7.9578e-01]]],\n",
            "\n",
            "\n",
            "        [[[-6.5939e-01, -4.5104e-01, -4.4962e-01,  6.4025e-01],\n",
            "          [ 1.4405e+00, -1.1731e+00, -2.0039e+00,  5.8011e-01],\n",
            "          [-4.9149e-01, -5.1228e-02,  8.0398e-01, -6.7703e-01],\n",
            "          [-3.6323e-01, -1.3562e+00,  1.7619e+00,  3.3286e-01]],\n",
            "\n",
            "         [[-1.0606e+00,  1.3864e+00, -1.0815e+00, -1.2340e+00],\n",
            "          [-3.0812e-01, -6.4208e-01,  2.3750e+00,  4.2187e-01],\n",
            "          [ 1.0324e+00, -1.9672e-01,  9.2003e-01,  6.7372e-02],\n",
            "          [-1.2582e-01, -1.0019e+00, -1.6957e+00, -3.0866e-01]],\n",
            "\n",
            "         [[-9.6163e-01, -4.0433e-01,  2.1908e+00,  5.1928e-01],\n",
            "          [-4.1981e-01, -1.0586e+00,  1.5044e+00, -4.4122e-01],\n",
            "          [-2.2451e+00, -9.5236e-02, -8.5985e-01,  2.8848e+00],\n",
            "          [-2.5509e+00, -2.0626e+00,  2.5640e-01, -9.5002e-02]]],\n",
            "\n",
            "\n",
            "        [[[ 1.7227e-01,  8.2789e-01,  5.0814e-01, -1.2740e+00],\n",
            "          [ 9.9501e-01, -4.9949e-01, -3.5068e-01, -9.5333e-01],\n",
            "          [-1.4486e+00, -7.0468e-01, -1.3520e+00, -1.3194e+00],\n",
            "          [-6.7229e-01,  1.1899e+00, -3.8555e-01, -7.3234e-01]],\n",
            "\n",
            "         [[ 2.1703e-01, -1.4870e+00,  1.5933e+00, -3.7675e-01],\n",
            "          [-1.0823e-01, -1.8754e-01,  1.1502e+00, -9.0655e-01],\n",
            "          [ 3.2220e-01, -2.2913e-01,  9.8162e-01,  1.2190e-02],\n",
            "          [ 1.1089e+00, -8.3778e-01, -1.4646e+00, -2.5569e-01]],\n",
            "\n",
            "         [[ 5.9726e-01, -1.1701e+00,  1.5476e+00,  1.9641e+00],\n",
            "          [ 4.0614e-01,  1.2328e+00,  9.6580e-01,  1.1142e+00],\n",
            "          [ 5.6352e-01,  4.8534e-01,  8.8012e-01,  1.3764e-02],\n",
            "          [ 1.2261e-03,  8.8650e-01,  1.8717e-02, -1.1544e+00]]]],\n",
            "       requires_grad=True) torch.Size([3, 3, 4, 4])\n",
            "tensor([[[[ 0.0289, -0.7487, -0.9481],\n",
            "          [-0.9325,  0.0125,  0.6721],\n",
            "          [-0.6740, -0.6604, -0.8515]],\n",
            "\n",
            "         [[ 1.0823,  2.2260,  0.2378],\n",
            "          [ 0.2194, -1.3432, -1.3798],\n",
            "          [-3.5803, -1.5325,  0.1155]],\n",
            "\n",
            "         [[-0.2686,  0.9205, -1.1177],\n",
            "          [-0.3463,  0.5350, -1.0924],\n",
            "          [ 1.7114,  2.1757,  0.7408]]],\n",
            "\n",
            "\n",
            "        [[[-0.0595, -0.5050,  1.4164],\n",
            "          [ 0.3092, -0.5606, -0.7450],\n",
            "          [-0.7589, -1.1653,  0.6943]],\n",
            "\n",
            "         [[ 0.0496, -0.3502,  0.9605],\n",
            "          [ 0.4195,  2.5603, -1.1522],\n",
            "          [ 1.4944, -1.9639, -1.3463]],\n",
            "\n",
            "         [[-0.5093,  1.8128, -0.0584],\n",
            "          [-0.1528,  0.4000, -0.8028],\n",
            "          [ 1.6928,  0.2141, -2.2630]]],\n",
            "\n",
            "\n",
            "        [[[-1.1146,  0.2268,  1.3779],\n",
            "          [ 0.3962, -0.8574, -0.5301],\n",
            "          [ 0.0489,  0.9891, -1.6481]],\n",
            "\n",
            "         [[ 1.2630, -2.4492, -2.0458],\n",
            "          [ 0.3473, -0.2689, -1.2107],\n",
            "          [-1.1387, -0.7302, -0.3090]],\n",
            "\n",
            "         [[ 0.0942, -1.4577,  1.3517],\n",
            "          [-0.0375, -0.1003, -0.0360],\n",
            "          [-2.4556,  0.5737,  1.1659]]]], requires_grad=True) torch.Size([3, 3, 3, 3])\n",
            "tensor([[[[  5.8282,  -1.1787],\n",
            "          [ -8.5804,  -8.3873]],\n",
            "\n",
            "         [[  8.0519,  -4.3403],\n",
            "          [ -4.2750,  -0.2165]],\n",
            "\n",
            "         [[ -4.8824,  -0.6993],\n",
            "          [ 10.9471,  -0.0593]]],\n",
            "\n",
            "\n",
            "        [[[-15.6821,  -1.2546],\n",
            "          [ -6.2692,   4.9985]],\n",
            "\n",
            "         [[ -5.9924,   0.9085],\n",
            "          [ -0.6897,   2.5589]],\n",
            "\n",
            "         [[  2.5871,   9.6996],\n",
            "          [ -3.4098,  -0.7861]]],\n",
            "\n",
            "\n",
            "        [[[ -5.2489,   5.1647],\n",
            "          [ -1.9346,   7.2553]],\n",
            "\n",
            "         [[ -1.8508,   4.0359],\n",
            "          [  5.8861,   7.9479]],\n",
            "\n",
            "         [[  5.5395,  -6.4633],\n",
            "          [ -2.4503,  -1.2332]]]], grad_fn=<ConvolutionBackward0>)\n"
          ]
        }
      ]
    },
    {
      "cell_type": "code",
      "source": [
        "grad_output = torch.randn(output.shape)\n",
        "grad_output"
      ],
      "metadata": {
        "colab": {
          "base_uri": "https://localhost:8080/"
        },
        "id": "VXrMnL2O3pK7",
        "outputId": "95024929-1b2a-4711-a425-eeaafc3ecbbc"
      },
      "execution_count": 2,
      "outputs": [
        {
          "output_type": "execute_result",
          "data": {
            "text/plain": [
              "tensor([[[[-2.0247,  0.8940],\n",
              "          [-0.3117,  1.6724]],\n",
              "\n",
              "         [[ 0.7405,  0.4651],\n",
              "          [ 0.0259,  0.4646]],\n",
              "\n",
              "         [[ 1.0282, -1.1207],\n",
              "          [-1.5272,  0.6078]]],\n",
              "\n",
              "\n",
              "        [[[-0.6057, -0.5503],\n",
              "          [-1.9377,  0.9763]],\n",
              "\n",
              "         [[-0.6207, -0.2362],\n",
              "          [ 0.6805,  0.1389]],\n",
              "\n",
              "         [[-1.1634, -1.6919],\n",
              "          [-1.2178,  1.4346]]],\n",
              "\n",
              "\n",
              "        [[[-0.0476, -0.7858],\n",
              "          [ 1.5846,  0.9308]],\n",
              "\n",
              "         [[-1.1219, -1.2434],\n",
              "          [-0.3038, -0.2611]],\n",
              "\n",
              "         [[-0.1653, -0.6936],\n",
              "          [ 0.1630,  0.4050]]]])"
            ]
          },
          "metadata": {},
          "execution_count": 2
        }
      ]
    },
    {
      "cell_type": "code",
      "source": [
        "grad_w = F.grad.conv2d_weight(input, weight.shape, grad_output)\n",
        "grad_w"
      ],
      "metadata": {
        "colab": {
          "base_uri": "https://localhost:8080/"
        },
        "id": "lCmTYssf3w1f",
        "outputId": "88f83511-054a-4e39-981e-9608b11e0818"
      },
      "execution_count": 3,
      "outputs": [
        {
          "output_type": "execute_result",
          "data": {
            "text/plain": [
              "tensor([[[[-5.9328,  4.1822, -1.4700],\n",
              "          [-2.2954,  0.8827, -3.7725],\n",
              "          [ 0.9865,  7.7072, -3.9711]],\n",
              "\n",
              "         [[-2.7899,  3.3083, -1.2247],\n",
              "          [-3.8608,  2.9392, -2.5223],\n",
              "          [ 1.3178, -2.4826, -0.8067]],\n",
              "\n",
              "         [[ 5.5958,  3.4250, -1.5529],\n",
              "          [ 4.7280, -0.6415,  5.2962],\n",
              "          [ 1.1928,  3.8693, -0.3447]]],\n",
              "\n",
              "\n",
              "        [[[-0.7071, -2.6934,  1.2200],\n",
              "          [-2.1859,  2.2324,  3.1365],\n",
              "          [ 2.5860,  0.3557,  3.8660]],\n",
              "\n",
              "         [[ 0.2579, -1.8230,  2.0535],\n",
              "          [ 0.4604, -3.8581, -2.9891],\n",
              "          [-0.0738, -1.0471, -3.4793]],\n",
              "\n",
              "         [[ 0.8386, -1.1712, -5.1930],\n",
              "          [-3.1600, -2.3447, -2.1012],\n",
              "          [-0.6282, -3.8091, -0.4531]]],\n",
              "\n",
              "\n",
              "        [[[ 1.3195, -4.8095,  5.7562],\n",
              "          [-1.0337,  7.3774, -0.0807],\n",
              "          [ 0.8166,  0.7490, -0.6679]],\n",
              "\n",
              "         [[-2.2665,  5.3843,  4.5249],\n",
              "          [ 1.9703, -3.2319, -7.5639],\n",
              "          [-0.5504, -5.1465,  1.8261]],\n",
              "\n",
              "         [[ 0.8664,  0.8488, -4.9858],\n",
              "          [ 0.7088, -3.0462,  2.1912],\n",
              "          [ 5.9218,  2.9032, -3.3712]]]],\n",
              "       grad_fn=<ConvolutionBackwardBackward0>)"
            ]
          },
          "metadata": {},
          "execution_count": 3
        }
      ]
    },
    {
      "cell_type": "code",
      "source": [
        "in_grad = F.grad.conv2d_input(input.shape, weight, grad_output)\n",
        "in_grad"
      ],
      "metadata": {
        "colab": {
          "base_uri": "https://localhost:8080/"
        },
        "id": "ML4ldRxP32xT",
        "outputId": "b21660a2-1061-4550-b779-2890ed6c5032"
      },
      "execution_count": 4,
      "outputs": [
        {
          "output_type": "execute_result",
          "data": {
            "text/plain": [
              "tensor([[[[-1.2485e+00,  2.6222e+00,  3.2269e+00, -1.7331e+00],\n",
              "          [ 4.2159e+00, -3.2387e+00, -4.8671e+00,  7.5833e-01],\n",
              "          [ 5.4669e-01,  5.9680e-01, -1.8771e+00,  1.8644e+00],\n",
              "          [ 1.1582e-01, -2.7850e+00,  1.7557e+00, -2.1031e+00]],\n",
              "\n",
              "         [[-8.5608e-01, -7.7094e+00,  2.6984e+00,  2.9519e+00],\n",
              "          [-2.0414e+00,  9.9793e+00,  6.1334e+00, -8.1205e-01],\n",
              "          [ 6.5971e+00,  1.3366e+00, -1.9847e+00, -3.7552e+00],\n",
              "          [ 2.8936e+00, -4.4432e+00, -3.5181e+00, -6.2018e-01]],\n",
              "\n",
              "         [[ 2.6343e-01, -2.6027e+00,  6.9093e+00, -2.5412e+00],\n",
              "          [ 4.7629e-01,  1.2878e-01,  2.1352e+00, -2.3844e+00],\n",
              "          [-4.5750e+00,  7.3614e-01,  8.1915e-01, -3.9185e+00],\n",
              "          [ 3.2605e+00,  6.0741e-01,  2.0167e+00,  8.9596e-01]]],\n",
              "\n",
              "\n",
              "        [[[ 1.3161e+00,  2.3870e+00, -1.7603e+00, -2.1441e+00],\n",
              "          [ 1.1729e+00,  3.5941e-01,  2.8953e+00,  1.9508e+00],\n",
              "          [ 2.3573e+00,  7.7918e-01, -1.4922e+00,  2.8853e+00],\n",
              "          [ 7.3011e-01, -1.4113e+00,  4.7420e+00, -3.0994e+00]],\n",
              "\n",
              "         [[-2.1556e+00, -1.0257e+00,  4.6414e+00,  3.1036e+00],\n",
              "          [-4.3988e+00,  3.6164e-02,  4.8439e+00,  5.1034e-01],\n",
              "          [ 2.0030e+00,  1.1984e+01,  5.6901e+00, -2.4667e+00],\n",
              "          [ 9.3412e+00, -2.3991e+00, -3.5803e+00, -5.1758e-01]],\n",
              "\n",
              "         [[ 3.6926e-01,  1.2196e-01,  6.7241e-01, -1.6582e+00],\n",
              "          [ 4.0729e-01,  8.6169e-01,  5.2176e-01,  1.6915e+00],\n",
              "          [ 1.3822e+00, -3.6032e-01, -5.7045e-01, -3.0754e+00],\n",
              "          [ 8.2640e-01, -6.3857e+00, -1.4184e+00,  2.0815e+00]]],\n",
              "\n",
              "\n",
              "        [[[ 2.4968e-01,  1.3892e+00, -7.1281e-01, -1.9719e+00],\n",
              "          [-4.8588e-01, -5.6135e-01, -7.7513e-03,  7.1603e-02],\n",
              "          [-6.3155e-01,  1.8769e+00,  1.8316e+00,  1.5544e+00],\n",
              "          [-8.2956e-01, -9.4060e-01, -1.7387e+00, -1.6414e+00]],\n",
              "\n",
              "         [[-3.1597e-01, -1.0963e+00, -3.6558e-01,  3.7862e-02],\n",
              "          [ 1.3673e+00,  1.0414e+00,  5.3982e-01,  2.4986e+00],\n",
              "          [-1.0411e+00,  1.4270e+00,  1.6473e+00,  3.2390e-01],\n",
              "          [-6.3130e+00, -6.1348e+00, -6.6771e-01,  3.3392e-01]],\n",
              "\n",
              "         [[ 5.6865e-01, -1.0575e+00, -2.0710e+00,  1.3270e-02],\n",
              "          [-6.1415e-02,  6.2182e-01, -1.6297e+00,  1.4040e+00],\n",
              "          [-2.0832e+00, -1.7727e+00, -1.2028e+00,  6.0142e-01],\n",
              "          [ 1.7971e+00,  3.6323e+00,  4.2530e+00,  1.7527e+00]]]],\n",
              "       grad_fn=<ConvolutionBackwardBackward0>)"
            ]
          },
          "metadata": {},
          "execution_count": 4
        }
      ]
    },
    {
      "cell_type": "code",
      "source": [
        "\n",
        "def convolution_backward(grad_out, X, weight):\n",
        "    grad_weight = F.conv2d(X.transpose(0, 1), grad_out.transpose(0, 1)).transpose(0, 1)\n",
        "    grad_X = F.conv_transpose2d(grad_out, weight)\n",
        "    print('grad_w',grad_weight)\n",
        "    print('grad_input',grad_X)\n",
        "    #return grad_X, grad_weight\n",
        "convolution_backward(grad_output,input,weight)    "
      ],
      "metadata": {
        "colab": {
          "base_uri": "https://localhost:8080/"
        },
        "id": "scjaUFwG4EoC",
        "outputId": "18115d3a-80ae-4991-c9ea-cefdb3bd1a8f"
      },
      "execution_count": 5,
      "outputs": [
        {
          "output_type": "stream",
          "name": "stdout",
          "text": [
            "grad_w tensor([[[[-5.9328,  4.1822, -1.4700],\n",
            "          [-2.2954,  0.8827, -3.7725],\n",
            "          [ 0.9865,  7.7072, -3.9711]],\n",
            "\n",
            "         [[-2.7899,  3.3083, -1.2247],\n",
            "          [-3.8608,  2.9392, -2.5223],\n",
            "          [ 1.3178, -2.4826, -0.8067]],\n",
            "\n",
            "         [[ 5.5958,  3.4250, -1.5529],\n",
            "          [ 4.7280, -0.6415,  5.2962],\n",
            "          [ 1.1928,  3.8693, -0.3447]]],\n",
            "\n",
            "\n",
            "        [[[-0.7071, -2.6934,  1.2200],\n",
            "          [-2.1859,  2.2324,  3.1365],\n",
            "          [ 2.5860,  0.3557,  3.8660]],\n",
            "\n",
            "         [[ 0.2579, -1.8230,  2.0535],\n",
            "          [ 0.4604, -3.8581, -2.9891],\n",
            "          [-0.0738, -1.0471, -3.4793]],\n",
            "\n",
            "         [[ 0.8386, -1.1712, -5.1930],\n",
            "          [-3.1600, -2.3447, -2.1012],\n",
            "          [-0.6282, -3.8091, -0.4531]]],\n",
            "\n",
            "\n",
            "        [[[ 1.3195, -4.8095,  5.7562],\n",
            "          [-1.0337,  7.3774, -0.0807],\n",
            "          [ 0.8166,  0.7490, -0.6679]],\n",
            "\n",
            "         [[-2.2665,  5.3843,  4.5248],\n",
            "          [ 1.9703, -3.2319, -7.5639],\n",
            "          [-0.5504, -5.1465,  1.8261]],\n",
            "\n",
            "         [[ 0.8664,  0.8488, -4.9858],\n",
            "          [ 0.7088, -3.0462,  2.1912],\n",
            "          [ 5.9218,  2.9032, -3.3712]]]], grad_fn=<TransposeBackward0>)\n",
            "grad_input tensor([[[[-1.2485e+00,  2.6222e+00,  3.2269e+00, -1.7331e+00],\n",
            "          [ 4.2159e+00, -3.2387e+00, -4.8671e+00,  7.5833e-01],\n",
            "          [ 5.4669e-01,  5.9680e-01, -1.8771e+00,  1.8644e+00],\n",
            "          [ 1.1582e-01, -2.7850e+00,  1.7557e+00, -2.1031e+00]],\n",
            "\n",
            "         [[-8.5608e-01, -7.7094e+00,  2.6984e+00,  2.9519e+00],\n",
            "          [-2.0414e+00,  9.9793e+00,  6.1334e+00, -8.1205e-01],\n",
            "          [ 6.5971e+00,  1.3366e+00, -1.9847e+00, -3.7552e+00],\n",
            "          [ 2.8936e+00, -4.4432e+00, -3.5181e+00, -6.2018e-01]],\n",
            "\n",
            "         [[ 2.6343e-01, -2.6027e+00,  6.9093e+00, -2.5412e+00],\n",
            "          [ 4.7629e-01,  1.2878e-01,  2.1352e+00, -2.3844e+00],\n",
            "          [-4.5750e+00,  7.3614e-01,  8.1915e-01, -3.9185e+00],\n",
            "          [ 3.2605e+00,  6.0741e-01,  2.0167e+00,  8.9596e-01]]],\n",
            "\n",
            "\n",
            "        [[[ 1.3161e+00,  2.3870e+00, -1.7603e+00, -2.1441e+00],\n",
            "          [ 1.1729e+00,  3.5941e-01,  2.8953e+00,  1.9508e+00],\n",
            "          [ 2.3573e+00,  7.7918e-01, -1.4922e+00,  2.8853e+00],\n",
            "          [ 7.3011e-01, -1.4113e+00,  4.7420e+00, -3.0994e+00]],\n",
            "\n",
            "         [[-2.1556e+00, -1.0257e+00,  4.6414e+00,  3.1036e+00],\n",
            "          [-4.3988e+00,  3.6164e-02,  4.8439e+00,  5.1034e-01],\n",
            "          [ 2.0030e+00,  1.1984e+01,  5.6901e+00, -2.4667e+00],\n",
            "          [ 9.3412e+00, -2.3991e+00, -3.5803e+00, -5.1758e-01]],\n",
            "\n",
            "         [[ 3.6926e-01,  1.2196e-01,  6.7241e-01, -1.6582e+00],\n",
            "          [ 4.0729e-01,  8.6169e-01,  5.2176e-01,  1.6915e+00],\n",
            "          [ 1.3822e+00, -3.6032e-01, -5.7045e-01, -3.0754e+00],\n",
            "          [ 8.2640e-01, -6.3857e+00, -1.4184e+00,  2.0815e+00]]],\n",
            "\n",
            "\n",
            "        [[[ 2.4968e-01,  1.3892e+00, -7.1281e-01, -1.9719e+00],\n",
            "          [-4.8588e-01, -5.6135e-01, -7.7513e-03,  7.1603e-02],\n",
            "          [-6.3155e-01,  1.8769e+00,  1.8316e+00,  1.5544e+00],\n",
            "          [-8.2956e-01, -9.4060e-01, -1.7387e+00, -1.6414e+00]],\n",
            "\n",
            "         [[-3.1597e-01, -1.0963e+00, -3.6558e-01,  3.7862e-02],\n",
            "          [ 1.3673e+00,  1.0414e+00,  5.3982e-01,  2.4986e+00],\n",
            "          [-1.0411e+00,  1.4270e+00,  1.6473e+00,  3.2390e-01],\n",
            "          [-6.3130e+00, -6.1348e+00, -6.6771e-01,  3.3392e-01]],\n",
            "\n",
            "         [[ 5.6865e-01, -1.0575e+00, -2.0710e+00,  1.3270e-02],\n",
            "          [-6.1415e-02,  6.2182e-01, -1.6297e+00,  1.4040e+00],\n",
            "          [-2.0832e+00, -1.7727e+00, -1.2028e+00,  6.0142e-01],\n",
            "          [ 1.7971e+00,  3.6323e+00,  4.2530e+00,  1.7527e+00]]]],\n",
            "       grad_fn=<ConvolutionBackward0>)\n"
          ]
        }
      ]
    },
    {
      "cell_type": "code",
      "source": [
        "F.conv2d(grad_output,torch.flip(weight, [2,3]),padding=2)"
      ],
      "metadata": {
        "id": "t6Is2fPmt8IV",
        "colab": {
          "base_uri": "https://localhost:8080/"
        },
        "outputId": "39611e81-0914-495e-926e-90bfdd93fb7d"
      },
      "execution_count": 6,
      "outputs": [
        {
          "output_type": "execute_result",
          "data": {
            "text/plain": [
              "tensor([[[[ 0.4669,  4.9409,  0.2809,  0.5156],\n",
              "          [ 2.1236, -1.5404, -2.3685, -0.9711],\n",
              "          [ 1.2982, -4.2700, -0.0250, -1.7186],\n",
              "          [-2.4961, -4.9070, -1.3571, -0.9201]],\n",
              "\n",
              "         [[-0.3664,  3.1676, -4.8623,  1.7783],\n",
              "          [ 0.3252,  1.0790, -0.1622,  2.4773],\n",
              "          [ 4.5315, -0.5061, -5.0010,  0.2615],\n",
              "          [-2.3100,  0.4395,  0.4736, -0.8398]],\n",
              "\n",
              "         [[ 3.2888, -4.2863, -2.2177, -1.2344],\n",
              "          [-0.3471,  2.8637, -4.8309,  1.1789],\n",
              "          [-3.5243,  1.5270,  2.7779, -4.3946],\n",
              "          [ 3.7054, -3.1430,  0.3889, -2.1913]]],\n",
              "\n",
              "\n",
              "        [[[-0.3768, -1.8162,  0.0558,  2.3566],\n",
              "          [ 1.8392,  2.8887,  5.3843, -0.6919],\n",
              "          [ 3.0175, -5.8256, -3.6912, -1.9147],\n",
              "          [-3.2145, -1.1129,  3.0901,  0.2474]],\n",
              "\n",
              "         [[ 0.5978, -0.7029, -4.0926, -0.9075],\n",
              "          [ 0.4995, -3.9749,  1.1666,  3.4728],\n",
              "          [-2.5649,  1.3587,  5.8098,  1.7257],\n",
              "          [ 0.4260,  2.5561, -0.6090, -2.7558]],\n",
              "\n",
              "         [[-0.2183,  3.2343,  1.7826, -2.5620],\n",
              "          [ 2.4925, -0.5424, -6.0991,  3.6389],\n",
              "          [ 3.0482,  5.5652, -2.2798, -1.7300],\n",
              "          [ 2.1208, -6.7455,  3.2508,  0.0206]]],\n",
              "\n",
              "\n",
              "        [[[-1.1712, -3.7962, -2.8550,  1.2246],\n",
              "          [-0.4714,  0.0409,  0.3238,  0.5480],\n",
              "          [ 2.1652,  4.6353,  2.5892,  0.5551],\n",
              "          [ 0.2987,  0.7745, -0.5969, -0.5227]],\n",
              "\n",
              "         [[ 0.0314,  0.4556, -1.5605, -2.2668],\n",
              "          [-0.6526, -4.2435,  0.7391,  3.6188],\n",
              "          [-1.5828, -1.6975,  3.0710,  1.9806],\n",
              "          [-1.3806, -1.6259,  0.6552,  0.0812]],\n",
              "\n",
              "         [[-1.3795,  2.2181,  5.8845,  0.5234],\n",
              "          [-2.5368, -0.8214,  5.7527,  4.3112],\n",
              "          [ 2.1973,  2.7277, -1.2812,  0.6788],\n",
              "          [ 0.0231,  1.2310, -0.9839, -0.9812]]]],\n",
              "       grad_fn=<ConvolutionBackward0>)"
            ]
          },
          "metadata": {},
          "execution_count": 6
        }
      ]
    },
    {
      "cell_type": "code",
      "source": [],
      "metadata": {
        "id": "e6aBib32bdu2"
      },
      "execution_count": null,
      "outputs": []
    }
  ]
}