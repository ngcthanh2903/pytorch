{
  "nbformat": 4,
  "nbformat_minor": 0,
  "metadata": {
    "colab": {
      "provenance": [],
      "collapsed_sections": [],
      "authorship_tag": "ABX9TyPdl7sBaeuKOt6oDU2fFTnq",
      "include_colab_link": true
    },
    "kernelspec": {
      "name": "python3",
      "display_name": "Python 3"
    },
    "language_info": {
      "name": "python"
    },
    "accelerator": "GPU"
  },
  "cells": [
    {
      "cell_type": "markdown",
      "metadata": {
        "id": "view-in-github",
        "colab_type": "text"
      },
      "source": [
        "<a href=\"https://colab.research.google.com/github/ngcthanh2903/pytorch/blob/main/cifar10torchGPU.ipynb\" target=\"_parent\"><img src=\"https://colab.research.google.com/assets/colab-badge.svg\" alt=\"Open In Colab\"/></a>"
      ]
    },
    {
      "cell_type": "code",
      "execution_count": 1,
      "metadata": {
        "id": "qypfIwICYrKF"
      },
      "outputs": [],
      "source": [
        "from keras.datasets import cifar10"
      ]
    },
    {
      "cell_type": "code",
      "source": [
        "(x_train, y_train), (x_test, y_test) =cifar10.load_data()\n",
        "print(x_test.dtype)"
      ],
      "metadata": {
        "colab": {
          "base_uri": "https://localhost:8080/"
        },
        "id": "5LAEjM7gZS9R",
        "outputId": "87a86e53-f4d9-46bd-db1e-764dcaf70914"
      },
      "execution_count": 2,
      "outputs": [
        {
          "output_type": "stream",
          "name": "stdout",
          "text": [
            "Downloading data from https://www.cs.toronto.edu/~kriz/cifar-10-python.tar.gz\n",
            "170500096/170498071 [==============================] - 8s 0us/step\n",
            "170508288/170498071 [==============================] - 8s 0us/step\n",
            "uint8\n"
          ]
        }
      ]
    },
    {
      "cell_type": "code",
      "source": [
        "x_train=x_train.reshape(-1,3,32,32)\n",
        "x_test=x_test.reshape(-1,3,32,32)\n"
      ],
      "metadata": {
        "id": "_OGWSIOvZsuW"
      },
      "execution_count": 3,
      "outputs": []
    },
    {
      "cell_type": "code",
      "source": [
        "print(x_train.shape)\n",
        "print(x_test.shape)"
      ],
      "metadata": {
        "colab": {
          "base_uri": "https://localhost:8080/"
        },
        "id": "seL4uDNpaZup",
        "outputId": "8b8368af-f53f-4708-ab47-2b545d2b7ab4"
      },
      "execution_count": 4,
      "outputs": [
        {
          "output_type": "stream",
          "name": "stdout",
          "text": [
            "(50000, 3, 32, 32)\n",
            "(10000, 3, 32, 32)\n"
          ]
        }
      ]
    },
    {
      "cell_type": "code",
      "source": [
        "import torch\n",
        "import torch.nn as nn\n",
        "import torch.optim.adam as adam\n",
        "from torch.nn import CrossEntropyLoss\n",
        "from torch.utils.data import DataLoader\n",
        "from torch.utils.data import Dataset\n",
        "from torch.utils.data import TensorDataset\n",
        "from torchsummary import summary\n",
        "import matplotlib.pyplot as plt\n",
        "import os\n",
        "from PIL import Image\n",
        "import torchvision.transforms as transforms\n",
        "import torch.nn.functional as F\n",
        "import numpy as np\n"
      ],
      "metadata": {
        "id": "Vt8mn0h3alQf"
      },
      "execution_count": 5,
      "outputs": []
    },
    {
      "cell_type": "code",
      "source": [
        "x_train = torch.from_numpy(x_train)\n",
        "y_train = torch.from_numpy(y_train)\n",
        "x_test = torch.from_numpy(x_test)\n",
        "y_test = torch.from_numpy(y_test)\n",
        "x_train = x_train.to(torch.float32)\n",
        "x_test = x_test.to(torch.float32)"
      ],
      "metadata": {
        "id": "PkqEs0XscgVn"
      },
      "execution_count": 6,
      "outputs": []
    },
    {
      "cell_type": "code",
      "source": [
        "batch_size =64\n",
        "train_ds = TensorDataset(x_train,y_train)\n",
        "test_ds = TensorDataset(x_test,y_test)\n",
        "train_dl = DataLoader(train_ds,batch_size,shuffle=True)\n",
        "test_dl = DataLoader(test_ds,batch_size,shuffle=True)"
      ],
      "metadata": {
        "id": "Im4d1ajZh5Vd"
      },
      "execution_count": 7,
      "outputs": []
    },
    {
      "cell_type": "code",
      "source": [
        "y_train.shape\n"
      ],
      "metadata": {
        "colab": {
          "base_uri": "https://localhost:8080/"
        },
        "id": "yR1BctsI6aUL",
        "outputId": "c30eef01-920e-4669-9982-4a8f0f1b3003"
      },
      "execution_count": 8,
      "outputs": [
        {
          "output_type": "execute_result",
          "data": {
            "text/plain": [
              "torch.Size([50000, 1])"
            ]
          },
          "metadata": {},
          "execution_count": 8
        }
      ]
    },
    {
      "cell_type": "code",
      "source": [
        "class Net(nn.Module):\n",
        "    def __init__(self):\n",
        "        super(Net, self).__init__()\n",
        "        self.conv1 = nn.Conv2d(3, 32, kernel_size=3,padding=2)\n",
        "        self.conv2 = nn.Conv2d(32,64,kernel_size= 3,padding=2)\n",
        "        self.conv3 = nn.Conv2d(64,64,kernel_size=3,padding=2)\n",
        "        self.conv3_drop = nn.Dropout2d()\n",
        "        self.conv4 = nn.Conv2d(64,128,kernel_size=3,padding=2)\n",
        "        self.fc1 = nn.Linear(1152, 100)\n",
        "        self.fc2 = nn.Linear(100, 10)\n",
        "\n",
        "        \n",
        "    def forward(self, x):\n",
        "        x = F.relu(F.max_pool2d(self.conv1(x), 2))\n",
        "        x = F.relu(F.max_pool2d(self.conv2(x), 2))\n",
        "        x = F.relu(F.max_pool2d(self.conv3_drop(self.conv3(x)), 2))\n",
        "        x = F.relu(F.max_pool2d(self.conv4(x), 2))\n",
        "        #print(x.shape)\n",
        "        #print(x.reshape(x.shape[0],-1).shape)\n",
        "        x = x.view(-1, 1152)\n",
        "        x = F.relu(self.fc1(x))\n",
        "        x = F.dropout(x, training=self.training)\n",
        "        x = self.fc2(x)\n",
        "        return F.log_softmax(x)"
      ],
      "metadata": {
        "id": "o59tizgciA_K"
      },
      "execution_count": 11,
      "outputs": []
    },
    {
      "cell_type": "code",
      "source": [
        "from torchsummary import summary\n",
        "model = Net()\n",
        "model.cuda()\n",
        "\n",
        "summary(model, (3, 32, 32))\n",
        "loss_fn = CrossEntropyLoss()"
      ],
      "metadata": {
        "colab": {
          "base_uri": "https://localhost:8080/"
        },
        "id": "M8GSanp5iLgS",
        "outputId": "7826b72e-9741-4e48-84dd-bd343e1697fd"
      },
      "execution_count": 13,
      "outputs": [
        {
          "output_type": "stream",
          "name": "stdout",
          "text": [
            "----------------------------------------------------------------\n",
            "        Layer (type)               Output Shape         Param #\n",
            "================================================================\n",
            "            Conv2d-1           [-1, 32, 34, 34]             896\n",
            "            Conv2d-2           [-1, 64, 19, 19]          18,496\n",
            "            Conv2d-3           [-1, 64, 11, 11]          36,928\n",
            "         Dropout2d-4           [-1, 64, 11, 11]               0\n",
            "            Conv2d-5            [-1, 128, 7, 7]          73,856\n",
            "            Linear-6                  [-1, 100]         115,300\n",
            "            Linear-7                   [-1, 10]           1,010\n",
            "================================================================\n",
            "Total params: 246,486\n",
            "Trainable params: 246,486\n",
            "Non-trainable params: 0\n",
            "----------------------------------------------------------------\n",
            "Input size (MB): 0.01\n",
            "Forward/backward pass size (MB): 0.63\n",
            "Params size (MB): 0.94\n",
            "Estimated Total Size (MB): 1.58\n",
            "----------------------------------------------------------------\n"
          ]
        },
        {
          "output_type": "stream",
          "name": "stderr",
          "text": [
            "/usr/local/lib/python3.7/dist-packages/ipykernel_launcher.py:24: UserWarning: Implicit dimension choice for log_softmax has been deprecated. Change the call to include dim=X as an argument.\n"
          ]
        }
      ]
    },
    {
      "cell_type": "code",
      "source": [
        "model = nn.Sequential()\n",
        "model.add_module('conv1',nn.Conv2d(3,32,kernel_size=3,padding = 'same'))\n",
        "model.add_module('relu1',nn.ReLU())\n",
        "model.add_module('conv2',nn.Conv2d(32,32,kernel_size=3,padding='same'))\n",
        "model.add_module('relu2',nn.ReLU())\n",
        "model.add_module('pool1',nn.MaxPool2d(2))\n",
        "model.add_module('bn1',nn.BatchNorm2d(32))\n",
        "\n",
        "model.add_module('conv3',nn.Conv2d(32,64,kernel_size=3,padding = 'same'))\n",
        "model.add_module('relu3',nn.ReLU())\n",
        "model.add_module('conv4',nn.Conv2d(64,64,kernel_size=3,padding='same'))\n",
        "model.add_module('relu4',nn.ReLU())\n",
        "model.add_module('pool2',nn.MaxPool2d(2))\n",
        "model.add_module('bn2',nn.BatchNorm2d(64))\n",
        "\n",
        "model.add_module('conv5',nn.Conv2d(64,128,kernel_size=3,padding = 'same'))\n",
        "model.add_module('relu5',nn.ReLU())\n",
        "model.add_module('conv6',nn.Conv2d(128,128,kernel_size=3,padding='same'))\n",
        "model.add_module('relu6',nn.ReLU())\n",
        "model.add_module('pool3',nn.MaxPool2d(2))\n",
        "model.add_module('bn3',nn.BatchNorm2d(128))\n",
        "model.add_module('flatten',nn.Flatten())\n",
        "x= torch.ones((64, 3, 32, 32))\n",
        "#model(x).shape\n",
        "model.add_module('dropout',nn.Dropout(p=0.25))\n",
        "model.add_module('dense',nn.Linear(2048,252))\n",
        "model.add_module('dene2',nn.Linear(252,10))\n",
        "model(x).shape\n",
        "from torchsummary import summary\n",
        "model.cuda()\n",
        "summary(model, (3, 32, 32))\n"
      ],
      "metadata": {
        "colab": {
          "base_uri": "https://localhost:8080/"
        },
        "id": "HFa_UWm0Yjuj",
        "outputId": "0af2f917-6b10-40f9-dc47-dd74ae824fd2"
      },
      "execution_count": 16,
      "outputs": [
        {
          "output_type": "stream",
          "name": "stdout",
          "text": [
            "----------------------------------------------------------------\n",
            "        Layer (type)               Output Shape         Param #\n",
            "================================================================\n",
            "            Conv2d-1           [-1, 32, 32, 32]             896\n",
            "              ReLU-2           [-1, 32, 32, 32]               0\n",
            "            Conv2d-3           [-1, 32, 32, 32]           9,248\n",
            "              ReLU-4           [-1, 32, 32, 32]               0\n",
            "         MaxPool2d-5           [-1, 32, 16, 16]               0\n",
            "       BatchNorm2d-6           [-1, 32, 16, 16]              64\n",
            "            Conv2d-7           [-1, 64, 16, 16]          18,496\n",
            "              ReLU-8           [-1, 64, 16, 16]               0\n",
            "            Conv2d-9           [-1, 64, 16, 16]          36,928\n",
            "             ReLU-10           [-1, 64, 16, 16]               0\n",
            "        MaxPool2d-11             [-1, 64, 8, 8]               0\n",
            "      BatchNorm2d-12             [-1, 64, 8, 8]             128\n",
            "           Conv2d-13            [-1, 128, 8, 8]          73,856\n",
            "             ReLU-14            [-1, 128, 8, 8]               0\n",
            "           Conv2d-15            [-1, 128, 8, 8]         147,584\n",
            "             ReLU-16            [-1, 128, 8, 8]               0\n",
            "        MaxPool2d-17            [-1, 128, 4, 4]               0\n",
            "      BatchNorm2d-18            [-1, 128, 4, 4]             256\n",
            "          Flatten-19                 [-1, 2048]               0\n",
            "          Dropout-20                 [-1, 2048]               0\n",
            "           Linear-21                  [-1, 252]         516,348\n",
            "           Linear-22                   [-1, 10]           2,530\n",
            "================================================================\n",
            "Total params: 806,334\n",
            "Trainable params: 806,334\n",
            "Non-trainable params: 0\n",
            "----------------------------------------------------------------\n",
            "Input size (MB): 0.01\n",
            "Forward/backward pass size (MB): 2.00\n",
            "Params size (MB): 3.08\n",
            "Estimated Total Size (MB): 5.09\n",
            "----------------------------------------------------------------\n"
          ]
        }
      ]
    },
    {
      "cell_type": "code",
      "source": [
        "loss_fn = CrossEntropyLoss()\n",
        "optimizer = torch.optim.Adam(model.parameters(), lr=1e-3)\n"
      ],
      "metadata": {
        "id": "rFHcWDGFiYBw",
        "colab": {
          "base_uri": "https://localhost:8080/",
          "height": 207
        },
        "outputId": "7ddcca02-2a68-449c-aa3e-5430dd1e2fa8"
      },
      "execution_count": 21,
      "outputs": [
        {
          "output_type": "error",
          "ename": "AttributeError",
          "evalue": "ignored",
          "traceback": [
            "\u001b[0;31m---------------------------------------------------------------------------\u001b[0m",
            "\u001b[0;31mAttributeError\u001b[0m                            Traceback (most recent call last)",
            "\u001b[0;32m<ipython-input-21-c0d04b68b6aa>\u001b[0m in \u001b[0;36m<module>\u001b[0;34m\u001b[0m\n\u001b[1;32m      1\u001b[0m \u001b[0mloss_fn\u001b[0m \u001b[0;34m=\u001b[0m \u001b[0mCrossEntropyLoss\u001b[0m\u001b[0;34m(\u001b[0m\u001b[0;34m)\u001b[0m\u001b[0;34m\u001b[0m\u001b[0;34m\u001b[0m\u001b[0m\n\u001b[1;32m      2\u001b[0m \u001b[0moptimizer\u001b[0m \u001b[0;34m=\u001b[0m \u001b[0mtorch\u001b[0m\u001b[0;34m.\u001b[0m\u001b[0moptim\u001b[0m\u001b[0;34m.\u001b[0m\u001b[0mAdam\u001b[0m\u001b[0;34m(\u001b[0m\u001b[0mmodel\u001b[0m\u001b[0;34m.\u001b[0m\u001b[0mparameters\u001b[0m\u001b[0;34m(\u001b[0m\u001b[0;34m)\u001b[0m\u001b[0;34m,\u001b[0m \u001b[0mlr\u001b[0m\u001b[0;34m=\u001b[0m\u001b[0;36m1e-3\u001b[0m\u001b[0;34m)\u001b[0m\u001b[0;34m\u001b[0m\u001b[0;34m\u001b[0m\u001b[0m\n\u001b[0;32m----> 3\u001b[0;31m \u001b[0moptimizer\u001b[0m\u001b[0;34m.\u001b[0m\u001b[0mcuda\u001b[0m\u001b[0;34m(\u001b[0m\u001b[0;34m)\u001b[0m\u001b[0;34m\u001b[0m\u001b[0;34m\u001b[0m\u001b[0m\n\u001b[0m",
            "\u001b[0;31mAttributeError\u001b[0m: 'Adam' object has no attribute 'cuda'"
          ]
        }
      ]
    },
    {
      "cell_type": "code",
      "source": [
        "n_epochs = 3\n",
        "log_interval = 10\n",
        "torch.backends.cudnn.enabled = True\n",
        "torch.manual_seed(1)"
      ],
      "metadata": {
        "colab": {
          "base_uri": "https://localhost:8080/"
        },
        "id": "oGHfwgpY56UM",
        "outputId": "cb6e0b1b-6629-4c3c-8474-23dc0fbbb7a1"
      },
      "execution_count": 18,
      "outputs": [
        {
          "output_type": "execute_result",
          "data": {
            "text/plain": [
              "<torch._C.Generator at 0x7f6c82f80fd0>"
            ]
          },
          "metadata": {},
          "execution_count": 18
        }
      ]
    },
    {
      "cell_type": "code",
      "source": [
        "device = torch.device(\"cuda:0\" if torch.cuda.is_available() else \"cpu\")"
      ],
      "metadata": {
        "id": "ktKheBlvsEyf"
      },
      "execution_count": 27,
      "outputs": []
    },
    {
      "cell_type": "code",
      "source": [
        "\n",
        "for epoch in range(n_epochs+1):\n",
        "  model.train()\n",
        "  correct = 0\n",
        "  for batch_idx, (data, target) in enumerate(train_dl):\n",
        "    data = data.type(torch.cuda.FloatTensor)\n",
        "    #target = target.type(torch.cuda.FloatTensor)\n",
        "    optimizer.zero_grad()\n",
        "    output = model(data)\n",
        "    target = target.squeeze(1)\n",
        "    #output, target = output.type(torch.cuda.FloatTensor), target.type(torch.cuda.FloatTensor)\n",
        "    #loss = F.nll_loss(output, target)\n",
        "    #correct += output.eq(target.data.view_as(output)).sum()\n",
        "    loss = loss_fn(output,target.to(device))\n",
        "    loss.backward()\n",
        "    optimizer.step()\n",
        "    if batch_idx % log_interval == 0:\n",
        "      print('Train Epoch: {} [{}/{} ({:.0f}%)]\\tLoss: {:.6f}'.format(epoch, batch_idx * len(data), len(train_dl.dataset),100. * batch_idx / len(train_dl), loss.item()))\n",
        "      torch.save(model.state_dict(), 'model.pth')\n",
        "      torch.save(optimizer.state_dict(), 'optimizer.pth')"
      ],
      "metadata": {
        "colab": {
          "base_uri": "https://localhost:8080/"
        },
        "id": "AxoDD2Y05Y4D",
        "outputId": "d4638955-7164-425b-be69-f0ac36f9e70c"
      },
      "execution_count": 29,
      "outputs": [
        {
          "output_type": "stream",
          "name": "stdout",
          "text": [
            "Train Epoch: 0 [0/50000 (0%)]\tLoss: 2.402951\n",
            "Train Epoch: 0 [640/50000 (1%)]\tLoss: 2.425147\n",
            "Train Epoch: 0 [1280/50000 (3%)]\tLoss: 2.431018\n",
            "Train Epoch: 0 [1920/50000 (4%)]\tLoss: 2.268883\n",
            "Train Epoch: 0 [2560/50000 (5%)]\tLoss: 2.148796\n",
            "Train Epoch: 0 [3200/50000 (6%)]\tLoss: 1.995610\n",
            "Train Epoch: 0 [3840/50000 (8%)]\tLoss: 1.993605\n",
            "Train Epoch: 0 [4480/50000 (9%)]\tLoss: 2.082136\n",
            "Train Epoch: 0 [5120/50000 (10%)]\tLoss: 2.276104\n",
            "Train Epoch: 0 [5760/50000 (12%)]\tLoss: 1.946165\n",
            "Train Epoch: 0 [6400/50000 (13%)]\tLoss: 1.577542\n",
            "Train Epoch: 0 [7040/50000 (14%)]\tLoss: 2.157639\n",
            "Train Epoch: 0 [7680/50000 (15%)]\tLoss: 1.932746\n",
            "Train Epoch: 0 [8320/50000 (17%)]\tLoss: 1.957900\n",
            "Train Epoch: 0 [8960/50000 (18%)]\tLoss: 1.997017\n",
            "Train Epoch: 0 [9600/50000 (19%)]\tLoss: 1.884007\n",
            "Train Epoch: 0 [10240/50000 (20%)]\tLoss: 1.816674\n",
            "Train Epoch: 0 [10880/50000 (22%)]\tLoss: 1.806380\n",
            "Train Epoch: 0 [11520/50000 (23%)]\tLoss: 1.558045\n",
            "Train Epoch: 0 [12160/50000 (24%)]\tLoss: 2.073604\n",
            "Train Epoch: 0 [12800/50000 (26%)]\tLoss: 1.775179\n",
            "Train Epoch: 0 [13440/50000 (27%)]\tLoss: 2.100417\n",
            "Train Epoch: 0 [14080/50000 (28%)]\tLoss: 1.776707\n",
            "Train Epoch: 0 [14720/50000 (29%)]\tLoss: 1.708975\n",
            "Train Epoch: 0 [15360/50000 (31%)]\tLoss: 1.845154\n",
            "Train Epoch: 0 [16000/50000 (32%)]\tLoss: 1.612731\n",
            "Train Epoch: 0 [16640/50000 (33%)]\tLoss: 1.781999\n",
            "Train Epoch: 0 [17280/50000 (35%)]\tLoss: 1.692601\n",
            "Train Epoch: 0 [17920/50000 (36%)]\tLoss: 1.727734\n",
            "Train Epoch: 0 [18560/50000 (37%)]\tLoss: 1.666057\n",
            "Train Epoch: 0 [19200/50000 (38%)]\tLoss: 1.801915\n",
            "Train Epoch: 0 [19840/50000 (40%)]\tLoss: 1.702221\n",
            "Train Epoch: 0 [20480/50000 (41%)]\tLoss: 1.634011\n",
            "Train Epoch: 0 [21120/50000 (42%)]\tLoss: 1.744432\n",
            "Train Epoch: 0 [21760/50000 (43%)]\tLoss: 1.624565\n",
            "Train Epoch: 0 [22400/50000 (45%)]\tLoss: 1.700801\n",
            "Train Epoch: 0 [23040/50000 (46%)]\tLoss: 1.645752\n",
            "Train Epoch: 0 [23680/50000 (47%)]\tLoss: 1.696644\n",
            "Train Epoch: 0 [24320/50000 (49%)]\tLoss: 1.849224\n",
            "Train Epoch: 0 [24960/50000 (50%)]\tLoss: 1.670170\n",
            "Train Epoch: 0 [25600/50000 (51%)]\tLoss: 1.884281\n",
            "Train Epoch: 0 [26240/50000 (52%)]\tLoss: 1.773206\n",
            "Train Epoch: 0 [26880/50000 (54%)]\tLoss: 1.668409\n",
            "Train Epoch: 0 [27520/50000 (55%)]\tLoss: 1.690897\n",
            "Train Epoch: 0 [28160/50000 (56%)]\tLoss: 1.802198\n",
            "Train Epoch: 0 [28800/50000 (58%)]\tLoss: 1.770055\n",
            "Train Epoch: 0 [29440/50000 (59%)]\tLoss: 1.806134\n",
            "Train Epoch: 0 [30080/50000 (60%)]\tLoss: 1.598889\n",
            "Train Epoch: 0 [30720/50000 (61%)]\tLoss: 1.734899\n",
            "Train Epoch: 0 [31360/50000 (63%)]\tLoss: 1.494548\n",
            "Train Epoch: 0 [32000/50000 (64%)]\tLoss: 1.651777\n",
            "Train Epoch: 0 [32640/50000 (65%)]\tLoss: 1.812757\n",
            "Train Epoch: 0 [33280/50000 (66%)]\tLoss: 1.355374\n",
            "Train Epoch: 0 [33920/50000 (68%)]\tLoss: 1.432329\n",
            "Train Epoch: 0 [34560/50000 (69%)]\tLoss: 1.521877\n",
            "Train Epoch: 0 [35200/50000 (70%)]\tLoss: 1.576864\n",
            "Train Epoch: 0 [35840/50000 (72%)]\tLoss: 1.695375\n",
            "Train Epoch: 0 [36480/50000 (73%)]\tLoss: 1.647532\n",
            "Train Epoch: 0 [37120/50000 (74%)]\tLoss: 1.663631\n",
            "Train Epoch: 0 [37760/50000 (75%)]\tLoss: 1.903736\n",
            "Train Epoch: 0 [38400/50000 (77%)]\tLoss: 1.313883\n",
            "Train Epoch: 0 [39040/50000 (78%)]\tLoss: 1.585355\n",
            "Train Epoch: 0 [39680/50000 (79%)]\tLoss: 1.567089\n",
            "Train Epoch: 0 [40320/50000 (81%)]\tLoss: 1.504876\n",
            "Train Epoch: 0 [40960/50000 (82%)]\tLoss: 1.574824\n",
            "Train Epoch: 0 [41600/50000 (83%)]\tLoss: 1.483606\n",
            "Train Epoch: 0 [42240/50000 (84%)]\tLoss: 1.594177\n",
            "Train Epoch: 0 [42880/50000 (86%)]\tLoss: 1.412392\n",
            "Train Epoch: 0 [43520/50000 (87%)]\tLoss: 1.597983\n",
            "Train Epoch: 0 [44160/50000 (88%)]\tLoss: 1.713204\n",
            "Train Epoch: 0 [44800/50000 (90%)]\tLoss: 1.971283\n",
            "Train Epoch: 0 [45440/50000 (91%)]\tLoss: 1.600322\n",
            "Train Epoch: 0 [46080/50000 (92%)]\tLoss: 1.663187\n",
            "Train Epoch: 0 [46720/50000 (93%)]\tLoss: 1.473102\n",
            "Train Epoch: 0 [47360/50000 (95%)]\tLoss: 1.924439\n",
            "Train Epoch: 0 [48000/50000 (96%)]\tLoss: 1.464482\n",
            "Train Epoch: 0 [48640/50000 (97%)]\tLoss: 1.793759\n",
            "Train Epoch: 0 [49280/50000 (98%)]\tLoss: 1.826308\n",
            "Train Epoch: 0 [49920/50000 (100%)]\tLoss: 1.749204\n",
            "Train Epoch: 1 [0/50000 (0%)]\tLoss: 1.742909\n",
            "Train Epoch: 1 [640/50000 (1%)]\tLoss: 1.435066\n",
            "Train Epoch: 1 [1280/50000 (3%)]\tLoss: 1.436208\n",
            "Train Epoch: 1 [1920/50000 (4%)]\tLoss: 1.584686\n",
            "Train Epoch: 1 [2560/50000 (5%)]\tLoss: 1.562590\n",
            "Train Epoch: 1 [3200/50000 (6%)]\tLoss: 1.570120\n",
            "Train Epoch: 1 [3840/50000 (8%)]\tLoss: 1.515013\n",
            "Train Epoch: 1 [4480/50000 (9%)]\tLoss: 1.412550\n",
            "Train Epoch: 1 [5120/50000 (10%)]\tLoss: 1.673780\n",
            "Train Epoch: 1 [5760/50000 (12%)]\tLoss: 1.498036\n",
            "Train Epoch: 1 [6400/50000 (13%)]\tLoss: 1.743381\n",
            "Train Epoch: 1 [7040/50000 (14%)]\tLoss: 1.388071\n",
            "Train Epoch: 1 [7680/50000 (15%)]\tLoss: 1.658815\n",
            "Train Epoch: 1 [8320/50000 (17%)]\tLoss: 1.749771\n",
            "Train Epoch: 1 [8960/50000 (18%)]\tLoss: 1.347604\n",
            "Train Epoch: 1 [9600/50000 (19%)]\tLoss: 1.441324\n",
            "Train Epoch: 1 [10240/50000 (20%)]\tLoss: 1.750630\n",
            "Train Epoch: 1 [10880/50000 (22%)]\tLoss: 1.358916\n",
            "Train Epoch: 1 [11520/50000 (23%)]\tLoss: 1.510233\n",
            "Train Epoch: 1 [12160/50000 (24%)]\tLoss: 1.484595\n",
            "Train Epoch: 1 [12800/50000 (26%)]\tLoss: 1.572418\n",
            "Train Epoch: 1 [13440/50000 (27%)]\tLoss: 1.921014\n",
            "Train Epoch: 1 [14080/50000 (28%)]\tLoss: 1.592998\n",
            "Train Epoch: 1 [14720/50000 (29%)]\tLoss: 1.465556\n",
            "Train Epoch: 1 [15360/50000 (31%)]\tLoss: 1.584450\n",
            "Train Epoch: 1 [16000/50000 (32%)]\tLoss: 1.521692\n",
            "Train Epoch: 1 [16640/50000 (33%)]\tLoss: 1.669190\n",
            "Train Epoch: 1 [17280/50000 (35%)]\tLoss: 1.416350\n",
            "Train Epoch: 1 [17920/50000 (36%)]\tLoss: 1.726722\n",
            "Train Epoch: 1 [18560/50000 (37%)]\tLoss: 1.508840\n",
            "Train Epoch: 1 [19200/50000 (38%)]\tLoss: 1.735832\n",
            "Train Epoch: 1 [19840/50000 (40%)]\tLoss: 1.647562\n",
            "Train Epoch: 1 [20480/50000 (41%)]\tLoss: 1.523553\n",
            "Train Epoch: 1 [21120/50000 (42%)]\tLoss: 1.368755\n",
            "Train Epoch: 1 [21760/50000 (43%)]\tLoss: 1.519492\n",
            "Train Epoch: 1 [22400/50000 (45%)]\tLoss: 1.287945\n",
            "Train Epoch: 1 [23040/50000 (46%)]\tLoss: 1.548558\n",
            "Train Epoch: 1 [23680/50000 (47%)]\tLoss: 1.618173\n",
            "Train Epoch: 1 [24320/50000 (49%)]\tLoss: 1.684602\n",
            "Train Epoch: 1 [24960/50000 (50%)]\tLoss: 1.536680\n",
            "Train Epoch: 1 [25600/50000 (51%)]\tLoss: 1.429784\n",
            "Train Epoch: 1 [26240/50000 (52%)]\tLoss: 1.395235\n",
            "Train Epoch: 1 [26880/50000 (54%)]\tLoss: 1.446199\n",
            "Train Epoch: 1 [27520/50000 (55%)]\tLoss: 1.678711\n",
            "Train Epoch: 1 [28160/50000 (56%)]\tLoss: 1.390173\n",
            "Train Epoch: 1 [28800/50000 (58%)]\tLoss: 1.367891\n",
            "Train Epoch: 1 [29440/50000 (59%)]\tLoss: 1.493405\n",
            "Train Epoch: 1 [30080/50000 (60%)]\tLoss: 1.404168\n",
            "Train Epoch: 1 [30720/50000 (61%)]\tLoss: 1.302168\n",
            "Train Epoch: 1 [31360/50000 (63%)]\tLoss: 1.630680\n",
            "Train Epoch: 1 [32000/50000 (64%)]\tLoss: 1.526091\n",
            "Train Epoch: 1 [32640/50000 (65%)]\tLoss: 1.410016\n",
            "Train Epoch: 1 [33280/50000 (66%)]\tLoss: 1.548526\n",
            "Train Epoch: 1 [33920/50000 (68%)]\tLoss: 1.510084\n",
            "Train Epoch: 1 [34560/50000 (69%)]\tLoss: 1.216311\n",
            "Train Epoch: 1 [35200/50000 (70%)]\tLoss: 1.429003\n",
            "Train Epoch: 1 [35840/50000 (72%)]\tLoss: 1.453739\n",
            "Train Epoch: 1 [36480/50000 (73%)]\tLoss: 1.533490\n",
            "Train Epoch: 1 [37120/50000 (74%)]\tLoss: 1.379103\n",
            "Train Epoch: 1 [37760/50000 (75%)]\tLoss: 1.462454\n",
            "Train Epoch: 1 [38400/50000 (77%)]\tLoss: 1.545313\n",
            "Train Epoch: 1 [39040/50000 (78%)]\tLoss: 1.501602\n",
            "Train Epoch: 1 [39680/50000 (79%)]\tLoss: 1.511093\n",
            "Train Epoch: 1 [40320/50000 (81%)]\tLoss: 1.193991\n",
            "Train Epoch: 1 [40960/50000 (82%)]\tLoss: 1.396490\n",
            "Train Epoch: 1 [41600/50000 (83%)]\tLoss: 1.115117\n",
            "Train Epoch: 1 [42240/50000 (84%)]\tLoss: 1.489361\n",
            "Train Epoch: 1 [42880/50000 (86%)]\tLoss: 1.417109\n",
            "Train Epoch: 1 [43520/50000 (87%)]\tLoss: 1.025954\n",
            "Train Epoch: 1 [44160/50000 (88%)]\tLoss: 1.402374\n",
            "Train Epoch: 1 [44800/50000 (90%)]\tLoss: 1.399367\n",
            "Train Epoch: 1 [45440/50000 (91%)]\tLoss: 1.556391\n",
            "Train Epoch: 1 [46080/50000 (92%)]\tLoss: 1.421196\n",
            "Train Epoch: 1 [46720/50000 (93%)]\tLoss: 1.421300\n",
            "Train Epoch: 1 [47360/50000 (95%)]\tLoss: 1.456482\n",
            "Train Epoch: 1 [48000/50000 (96%)]\tLoss: 1.332198\n",
            "Train Epoch: 1 [48640/50000 (97%)]\tLoss: 1.321170\n",
            "Train Epoch: 1 [49280/50000 (98%)]\tLoss: 1.561120\n",
            "Train Epoch: 1 [49920/50000 (100%)]\tLoss: 1.435591\n",
            "Train Epoch: 2 [0/50000 (0%)]\tLoss: 1.612336\n",
            "Train Epoch: 2 [640/50000 (1%)]\tLoss: 1.528523\n",
            "Train Epoch: 2 [1280/50000 (3%)]\tLoss: 1.311309\n",
            "Train Epoch: 2 [1920/50000 (4%)]\tLoss: 1.177380\n",
            "Train Epoch: 2 [2560/50000 (5%)]\tLoss: 1.716401\n",
            "Train Epoch: 2 [3200/50000 (6%)]\tLoss: 1.587854\n",
            "Train Epoch: 2 [3840/50000 (8%)]\tLoss: 1.377770\n",
            "Train Epoch: 2 [4480/50000 (9%)]\tLoss: 1.384151\n",
            "Train Epoch: 2 [5120/50000 (10%)]\tLoss: 1.357109\n",
            "Train Epoch: 2 [5760/50000 (12%)]\tLoss: 1.329221\n",
            "Train Epoch: 2 [6400/50000 (13%)]\tLoss: 1.587929\n",
            "Train Epoch: 2 [7040/50000 (14%)]\tLoss: 1.389440\n",
            "Train Epoch: 2 [7680/50000 (15%)]\tLoss: 1.556653\n",
            "Train Epoch: 2 [8320/50000 (17%)]\tLoss: 1.495684\n",
            "Train Epoch: 2 [8960/50000 (18%)]\tLoss: 1.432720\n",
            "Train Epoch: 2 [9600/50000 (19%)]\tLoss: 1.209098\n",
            "Train Epoch: 2 [10240/50000 (20%)]\tLoss: 1.518763\n",
            "Train Epoch: 2 [10880/50000 (22%)]\tLoss: 1.366005\n",
            "Train Epoch: 2 [11520/50000 (23%)]\tLoss: 1.576401\n",
            "Train Epoch: 2 [12160/50000 (24%)]\tLoss: 1.448023\n",
            "Train Epoch: 2 [12800/50000 (26%)]\tLoss: 1.360572\n",
            "Train Epoch: 2 [13440/50000 (27%)]\tLoss: 1.286518\n",
            "Train Epoch: 2 [14080/50000 (28%)]\tLoss: 1.300141\n",
            "Train Epoch: 2 [14720/50000 (29%)]\tLoss: 1.288444\n",
            "Train Epoch: 2 [15360/50000 (31%)]\tLoss: 1.496230\n",
            "Train Epoch: 2 [16000/50000 (32%)]\tLoss: 1.266769\n",
            "Train Epoch: 2 [16640/50000 (33%)]\tLoss: 1.404948\n",
            "Train Epoch: 2 [17280/50000 (35%)]\tLoss: 1.480595\n",
            "Train Epoch: 2 [17920/50000 (36%)]\tLoss: 1.477952\n",
            "Train Epoch: 2 [18560/50000 (37%)]\tLoss: 1.560014\n",
            "Train Epoch: 2 [19200/50000 (38%)]\tLoss: 1.282920\n",
            "Train Epoch: 2 [19840/50000 (40%)]\tLoss: 1.457498\n",
            "Train Epoch: 2 [20480/50000 (41%)]\tLoss: 1.311777\n",
            "Train Epoch: 2 [21120/50000 (42%)]\tLoss: 1.339103\n",
            "Train Epoch: 2 [21760/50000 (43%)]\tLoss: 1.463733\n",
            "Train Epoch: 2 [22400/50000 (45%)]\tLoss: 1.396647\n",
            "Train Epoch: 2 [23040/50000 (46%)]\tLoss: 1.492783\n",
            "Train Epoch: 2 [23680/50000 (47%)]\tLoss: 1.395281\n",
            "Train Epoch: 2 [24320/50000 (49%)]\tLoss: 1.122672\n",
            "Train Epoch: 2 [24960/50000 (50%)]\tLoss: 1.367325\n",
            "Train Epoch: 2 [25600/50000 (51%)]\tLoss: 1.504534\n",
            "Train Epoch: 2 [26240/50000 (52%)]\tLoss: 1.352506\n",
            "Train Epoch: 2 [26880/50000 (54%)]\tLoss: 1.245998\n",
            "Train Epoch: 2 [27520/50000 (55%)]\tLoss: 1.381428\n",
            "Train Epoch: 2 [28160/50000 (56%)]\tLoss: 1.628325\n",
            "Train Epoch: 2 [28800/50000 (58%)]\tLoss: 1.422861\n",
            "Train Epoch: 2 [29440/50000 (59%)]\tLoss: 1.409510\n",
            "Train Epoch: 2 [30080/50000 (60%)]\tLoss: 1.380399\n",
            "Train Epoch: 2 [30720/50000 (61%)]\tLoss: 1.313882\n",
            "Train Epoch: 2 [31360/50000 (63%)]\tLoss: 1.208815\n",
            "Train Epoch: 2 [32000/50000 (64%)]\tLoss: 1.571326\n",
            "Train Epoch: 2 [32640/50000 (65%)]\tLoss: 1.120053\n",
            "Train Epoch: 2 [33280/50000 (66%)]\tLoss: 1.243668\n",
            "Train Epoch: 2 [33920/50000 (68%)]\tLoss: 1.191087\n",
            "Train Epoch: 2 [34560/50000 (69%)]\tLoss: 1.448111\n",
            "Train Epoch: 2 [35200/50000 (70%)]\tLoss: 1.348432\n",
            "Train Epoch: 2 [35840/50000 (72%)]\tLoss: 1.146271\n",
            "Train Epoch: 2 [36480/50000 (73%)]\tLoss: 1.567505\n",
            "Train Epoch: 2 [37120/50000 (74%)]\tLoss: 1.315324\n",
            "Train Epoch: 2 [37760/50000 (75%)]\tLoss: 1.061605\n",
            "Train Epoch: 2 [38400/50000 (77%)]\tLoss: 1.501923\n",
            "Train Epoch: 2 [39040/50000 (78%)]\tLoss: 1.167164\n",
            "Train Epoch: 2 [39680/50000 (79%)]\tLoss: 1.212316\n",
            "Train Epoch: 2 [40320/50000 (81%)]\tLoss: 1.290635\n",
            "Train Epoch: 2 [40960/50000 (82%)]\tLoss: 1.095576\n",
            "Train Epoch: 2 [41600/50000 (83%)]\tLoss: 1.288642\n",
            "Train Epoch: 2 [42240/50000 (84%)]\tLoss: 1.426206\n",
            "Train Epoch: 2 [42880/50000 (86%)]\tLoss: 1.554612\n",
            "Train Epoch: 2 [43520/50000 (87%)]\tLoss: 1.323552\n",
            "Train Epoch: 2 [44160/50000 (88%)]\tLoss: 1.383211\n",
            "Train Epoch: 2 [44800/50000 (90%)]\tLoss: 1.340031\n",
            "Train Epoch: 2 [45440/50000 (91%)]\tLoss: 1.383964\n",
            "Train Epoch: 2 [46080/50000 (92%)]\tLoss: 1.377393\n",
            "Train Epoch: 2 [46720/50000 (93%)]\tLoss: 1.269900\n",
            "Train Epoch: 2 [47360/50000 (95%)]\tLoss: 1.250478\n",
            "Train Epoch: 2 [48000/50000 (96%)]\tLoss: 1.134560\n",
            "Train Epoch: 2 [48640/50000 (97%)]\tLoss: 1.479795\n",
            "Train Epoch: 2 [49280/50000 (98%)]\tLoss: 1.426851\n",
            "Train Epoch: 2 [49920/50000 (100%)]\tLoss: 1.340420\n",
            "Train Epoch: 3 [0/50000 (0%)]\tLoss: 1.751865\n",
            "Train Epoch: 3 [640/50000 (1%)]\tLoss: 1.348116\n",
            "Train Epoch: 3 [1280/50000 (3%)]\tLoss: 1.456849\n",
            "Train Epoch: 3 [1920/50000 (4%)]\tLoss: 1.304161\n",
            "Train Epoch: 3 [2560/50000 (5%)]\tLoss: 1.070339\n",
            "Train Epoch: 3 [3200/50000 (6%)]\tLoss: 1.331922\n",
            "Train Epoch: 3 [3840/50000 (8%)]\tLoss: 1.493330\n",
            "Train Epoch: 3 [4480/50000 (9%)]\tLoss: 1.453887\n",
            "Train Epoch: 3 [5120/50000 (10%)]\tLoss: 1.204621\n",
            "Train Epoch: 3 [5760/50000 (12%)]\tLoss: 1.520912\n",
            "Train Epoch: 3 [6400/50000 (13%)]\tLoss: 1.341484\n",
            "Train Epoch: 3 [7040/50000 (14%)]\tLoss: 1.257432\n",
            "Train Epoch: 3 [7680/50000 (15%)]\tLoss: 1.480860\n",
            "Train Epoch: 3 [8320/50000 (17%)]\tLoss: 1.172687\n",
            "Train Epoch: 3 [8960/50000 (18%)]\tLoss: 1.300067\n",
            "Train Epoch: 3 [9600/50000 (19%)]\tLoss: 1.210362\n",
            "Train Epoch: 3 [10240/50000 (20%)]\tLoss: 1.371760\n",
            "Train Epoch: 3 [10880/50000 (22%)]\tLoss: 1.540410\n",
            "Train Epoch: 3 [11520/50000 (23%)]\tLoss: 1.237951\n",
            "Train Epoch: 3 [12160/50000 (24%)]\tLoss: 1.175499\n",
            "Train Epoch: 3 [12800/50000 (26%)]\tLoss: 1.203844\n",
            "Train Epoch: 3 [13440/50000 (27%)]\tLoss: 1.365978\n",
            "Train Epoch: 3 [14080/50000 (28%)]\tLoss: 1.223731\n",
            "Train Epoch: 3 [14720/50000 (29%)]\tLoss: 1.106991\n",
            "Train Epoch: 3 [15360/50000 (31%)]\tLoss: 1.305484\n",
            "Train Epoch: 3 [16000/50000 (32%)]\tLoss: 1.057101\n",
            "Train Epoch: 3 [16640/50000 (33%)]\tLoss: 1.234033\n",
            "Train Epoch: 3 [17280/50000 (35%)]\tLoss: 1.338555\n",
            "Train Epoch: 3 [17920/50000 (36%)]\tLoss: 1.363133\n",
            "Train Epoch: 3 [18560/50000 (37%)]\tLoss: 1.274517\n",
            "Train Epoch: 3 [19200/50000 (38%)]\tLoss: 1.450866\n",
            "Train Epoch: 3 [19840/50000 (40%)]\tLoss: 1.265458\n",
            "Train Epoch: 3 [20480/50000 (41%)]\tLoss: 1.245825\n",
            "Train Epoch: 3 [21120/50000 (42%)]\tLoss: 1.085196\n",
            "Train Epoch: 3 [21760/50000 (43%)]\tLoss: 1.313327\n",
            "Train Epoch: 3 [22400/50000 (45%)]\tLoss: 1.342094\n",
            "Train Epoch: 3 [23040/50000 (46%)]\tLoss: 1.237936\n",
            "Train Epoch: 3 [23680/50000 (47%)]\tLoss: 1.159930\n",
            "Train Epoch: 3 [24320/50000 (49%)]\tLoss: 1.211018\n",
            "Train Epoch: 3 [24960/50000 (50%)]\tLoss: 1.329797\n",
            "Train Epoch: 3 [25600/50000 (51%)]\tLoss: 0.980642\n",
            "Train Epoch: 3 [26240/50000 (52%)]\tLoss: 1.245821\n",
            "Train Epoch: 3 [26880/50000 (54%)]\tLoss: 1.366509\n",
            "Train Epoch: 3 [27520/50000 (55%)]\tLoss: 1.072034\n",
            "Train Epoch: 3 [28160/50000 (56%)]\tLoss: 1.277218\n",
            "Train Epoch: 3 [28800/50000 (58%)]\tLoss: 1.219637\n",
            "Train Epoch: 3 [29440/50000 (59%)]\tLoss: 1.257880\n",
            "Train Epoch: 3 [30080/50000 (60%)]\tLoss: 1.261662\n",
            "Train Epoch: 3 [30720/50000 (61%)]\tLoss: 1.180333\n",
            "Train Epoch: 3 [31360/50000 (63%)]\tLoss: 1.140155\n",
            "Train Epoch: 3 [32000/50000 (64%)]\tLoss: 1.198750\n",
            "Train Epoch: 3 [32640/50000 (65%)]\tLoss: 1.101819\n",
            "Train Epoch: 3 [33280/50000 (66%)]\tLoss: 1.310376\n",
            "Train Epoch: 3 [33920/50000 (68%)]\tLoss: 1.129694\n",
            "Train Epoch: 3 [34560/50000 (69%)]\tLoss: 1.144311\n",
            "Train Epoch: 3 [35200/50000 (70%)]\tLoss: 1.194881\n",
            "Train Epoch: 3 [35840/50000 (72%)]\tLoss: 1.071227\n",
            "Train Epoch: 3 [36480/50000 (73%)]\tLoss: 1.495511\n",
            "Train Epoch: 3 [37120/50000 (74%)]\tLoss: 1.350140\n",
            "Train Epoch: 3 [37760/50000 (75%)]\tLoss: 1.287764\n",
            "Train Epoch: 3 [38400/50000 (77%)]\tLoss: 1.195022\n",
            "Train Epoch: 3 [39040/50000 (78%)]\tLoss: 1.213894\n",
            "Train Epoch: 3 [39680/50000 (79%)]\tLoss: 1.207179\n",
            "Train Epoch: 3 [40320/50000 (81%)]\tLoss: 1.165570\n",
            "Train Epoch: 3 [40960/50000 (82%)]\tLoss: 1.292397\n",
            "Train Epoch: 3 [41600/50000 (83%)]\tLoss: 1.126093\n",
            "Train Epoch: 3 [42240/50000 (84%)]\tLoss: 1.125243\n",
            "Train Epoch: 3 [42880/50000 (86%)]\tLoss: 1.309163\n",
            "Train Epoch: 3 [43520/50000 (87%)]\tLoss: 1.207007\n",
            "Train Epoch: 3 [44160/50000 (88%)]\tLoss: 1.324727\n",
            "Train Epoch: 3 [44800/50000 (90%)]\tLoss: 1.169186\n",
            "Train Epoch: 3 [45440/50000 (91%)]\tLoss: 1.231612\n",
            "Train Epoch: 3 [46080/50000 (92%)]\tLoss: 1.153218\n",
            "Train Epoch: 3 [46720/50000 (93%)]\tLoss: 1.421113\n",
            "Train Epoch: 3 [47360/50000 (95%)]\tLoss: 1.103712\n",
            "Train Epoch: 3 [48000/50000 (96%)]\tLoss: 1.280716\n",
            "Train Epoch: 3 [48640/50000 (97%)]\tLoss: 1.649182\n",
            "Train Epoch: 3 [49280/50000 (98%)]\tLoss: 1.377069\n",
            "Train Epoch: 3 [49920/50000 (100%)]\tLoss: 1.041842\n"
          ]
        }
      ]
    },
    {
      "cell_type": "code",
      "source": [
        "#model #= Net()\n",
        "#Model=model\n",
        "model.load_state_dict(torch.load('model.pth'))\n"
      ],
      "metadata": {
        "colab": {
          "base_uri": "https://localhost:8080/"
        },
        "id": "qUjrJZpJ6jAV",
        "outputId": "ac07cfd6-131d-47c8-8a26-5ac1c3195fdd"
      },
      "execution_count": 30,
      "outputs": [
        {
          "output_type": "execute_result",
          "data": {
            "text/plain": [
              "<All keys matched successfully>"
            ]
          },
          "metadata": {},
          "execution_count": 30
        }
      ]
    },
    {
      "cell_type": "code",
      "source": [
        "import matplotlib.pyplot as plt\n",
        "test = x_test[50].reshape(1,3,32,32)\n",
        "print(y_test[50])\n",
        "test.shape\n",
        "test = test.type(torch.cuda.FloatTensor)\n",
        "print(torch.argmax(model(test),dim=1))#.dtype)\n",
        "plt.imshow(test.to(torch.uint8).cpu().numpy().reshape(32,32,3))"
      ],
      "metadata": {
        "colab": {
          "base_uri": "https://localhost:8080/",
          "height": 321
        },
        "id": "YAHahUTtGGPP",
        "outputId": "48c3a636-291d-4bb6-eadc-5bd2936dcf28"
      },
      "execution_count": 44,
      "outputs": [
        {
          "output_type": "stream",
          "name": "stdout",
          "text": [
            "tensor([9], dtype=torch.uint8)\n",
            "tensor([9], device='cuda:0')\n"
          ]
        },
        {
          "output_type": "execute_result",
          "data": {
            "text/plain": [
              "<matplotlib.image.AxesImage at 0x7f6c70bdeb50>"
            ]
          },
          "metadata": {},
          "execution_count": 44
        },
        {
          "output_type": "display_data",
          "data": {
            "text/plain": [
              "<Figure size 432x288 with 1 Axes>"
            ],
            "image/png": "[encoded data removed]"
          },
          "metadata": {
            "needs_background": "light"
          }
        }
      ]
    },
    {
      "cell_type": "code",
      "source": [
        "\n",
        "plt.imshow(test.to(torch.uint8).numpy().reshape(32,32,3))\n"
      ],
      "metadata": {
        "colab": {
          "base_uri": "https://localhost:8080/",
          "height": 284
        },
        "id": "D8uXuaB6J3SU",
        "outputId": "3b91fd3e-6606-49f1-9dc7-8d764daefdc9"
      },
      "execution_count": null,
      "outputs": [
        {
          "output_type": "execute_result",
          "data": {
            "text/plain": [
              "<matplotlib.image.AxesImage at 0x7f03e204dad0>"
            ]
          },
          "metadata": {},
          "execution_count": 155
        },
        {
          "output_type": "display_data",
          "data": {
            "text/plain": [
              "<Figure size 432x288 with 1 Axes>"
            ],
            "image/png": "[encoded data removed]"
          },
          "metadata": {
            "needs_background": "light"
          }
        }
      ]
    },
    {
      "cell_type": "code",
      "source": [],
      "metadata": {
        "id": "9Fb6Ho9oL-0j"
      },
      "execution_count": null,
      "outputs": []
    }
  ]
}