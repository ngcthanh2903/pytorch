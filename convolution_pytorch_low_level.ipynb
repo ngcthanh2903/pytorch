{
  "nbformat": 4,
  "nbformat_minor": 0,
  "metadata": {
    "colab": {
      "provenance": [],
      "authorship_tag": "ABX9TyNITuR8w8hQCTQpmzOuNqh6",
      "include_colab_link": true
    },
    "kernelspec": {
      "name": "python3",
      "display_name": "Python 3"
    },
    "language_info": {
      "name": "python"
    }
  },
  "cells": [
    {
      "cell_type": "markdown",
      "metadata": {
        "id": "view-in-github",
        "colab_type": "text"
      },
      "source": [
        "<a href=\"https://colab.research.google.com/github/ngcthanh2903/pytorch/blob/main/convolution_pytorch_low_level.ipynb\" target=\"_parent\"><img src=\"https://colab.research.google.com/assets/colab-badge.svg\" alt=\"Open In Colab\"/></a>"
      ]
    },
    {
      "cell_type": "code",
      "execution_count": 1,
      "metadata": {
        "id": "2VHeEaZiPjst"
      },
      "outputs": [],
      "source": [
        "import torch \n",
        "from torch.nn import functional as F\n",
        "import tensorflow as tf"
      ]
    },
    {
      "cell_type": "code",
      "source": [
        "input = torch.randn(1,1,4,4, requires_grad=True)\n",
        "print(input,input.shape)\n"
      ],
      "metadata": {
        "colab": {
          "base_uri": "https://localhost:8080/"
        },
        "id": "ovCjAXJ3Pypi",
        "outputId": "91cd3ef8-965f-4f9a-ebc3-4220e55652fd"
      },
      "execution_count": 2,
      "outputs": [
        {
          "output_type": "stream",
          "name": "stdout",
          "text": [
            "tensor([[[[ 0.3416, -0.0833, -1.6076,  0.7049],\n",
            "          [ 0.6684,  0.3296,  1.3179, -1.9981],\n",
            "          [ 0.8011,  0.3040,  1.1764,  1.9984],\n",
            "          [ 1.4194,  1.0368, -1.7810,  0.5352]]]], requires_grad=True) torch.Size([1, 1, 4, 4])\n"
          ]
        }
      ]
    },
    {
      "cell_type": "code",
      "source": [
        "weight = torch.randn(1,1,3,3, requires_grad=True)\n",
        "print(weight,weight.shape)"
      ],
      "metadata": {
        "colab": {
          "base_uri": "https://localhost:8080/"
        },
        "id": "M9n8-PPwQxyM",
        "outputId": "66cf1be7-3c56-4e4e-e5aa-107093ebb0ca"
      },
      "execution_count": 3,
      "outputs": [
        {
          "output_type": "stream",
          "name": "stdout",
          "text": [
            "tensor([[[[ 0.0386,  0.8483, -0.2089],\n",
            "          [-0.9488, -0.7155,  0.9955],\n",
            "          [ 0.1745, -0.3984,  0.6921]]]], requires_grad=True) torch.Size([1, 1, 3, 3])\n"
          ]
        }
      ]
    },
    {
      "cell_type": "code",
      "source": [
        "output = F.conv2d(input, weight)\n",
        "output"
      ],
      "metadata": {
        "colab": {
          "base_uri": "https://localhost:8080/"
        },
        "id": "c2BRpyoLQysl",
        "outputId": "06ae2b1e-fc3b-4876-8826-f588788d4764"
      },
      "execution_count": 4,
      "outputs": [
        {
          "output_type": "execute_result",
          "data": {
            "text/plain": [
              "tensor([[[[ 1.5532, -3.7914],\n",
              "          [-1.1745,  3.6681]]]], grad_fn=<ConvolutionBackward0>)"
            ]
          },
          "metadata": {},
          "execution_count": 4
        }
      ]
    },
    {
      "cell_type": "code",
      "source": [
        "o = torch.conv2d(input,weight)\n",
        "o"
      ],
      "metadata": {
        "colab": {
          "base_uri": "https://localhost:8080/"
        },
        "id": "LOCtPA9qQ7Ak",
        "outputId": "e6f29d6e-ca47-456d-83e1-b28e7f245389"
      },
      "execution_count": 5,
      "outputs": [
        {
          "output_type": "execute_result",
          "data": {
            "text/plain": [
              "tensor([[[[ 1.5532, -3.7914],\n",
              "          [-1.1745,  3.6681]]]], grad_fn=<ConvolutionBackward0>)"
            ]
          },
          "metadata": {},
          "execution_count": 5
        }
      ]
    },
    {
      "cell_type": "code",
      "source": [
        "grad_output = torch.randn(output.shape)"
      ],
      "metadata": {
        "id": "Dq6RD-SqRGXZ"
      },
      "execution_count": 6,
      "outputs": []
    },
    {
      "cell_type": "code",
      "source": [
        "grad_weight = torch.autograd.grad(output, weight, grad_output)\n",
        "grad_weight"
      ],
      "metadata": {
        "colab": {
          "base_uri": "https://localhost:8080/"
        },
        "id": "a9bOuhKIRO-P",
        "outputId": "f246fc07-181f-4c96-a4d8-c69578b960c9"
      },
      "execution_count": null,
      "outputs": [
        {
          "output_type": "execute_result",
          "data": {
            "text/plain": [
              "(tensor([[[[-1.7610,  0.8803,  3.0838],\n",
              "           [ 3.2088,  2.6957,  2.5903],\n",
              "           [-4.5069, -2.7738, -1.1588]]]]),)"
            ]
          },
          "metadata": {},
          "execution_count": 68
        }
      ]
    },
    {
      "cell_type": "code",
      "source": [
        "def tuple_of_tensors_to_tensor(tuple_of_tensors):\n",
        "    return  torch.stack(list(tuple_of_tensors), dim=0)\n",
        "tuple_of_tensors_to_tensor(grad_weight)   "
      ],
      "metadata": {
        "colab": {
          "base_uri": "https://localhost:8080/"
        },
        "id": "Q2P89AWySpUp",
        "outputId": "d060fd9c-f6f5-4bbd-c6fc-e7ef14298220"
      },
      "execution_count": null,
      "outputs": [
        {
          "output_type": "execute_result",
          "data": {
            "text/plain": [
              "tensor([[[[[-1.7610,  0.8803,  3.0838],\n",
              "           [ 3.2088,  2.6957,  2.5903],\n",
              "           [-4.5069, -2.7738, -1.1588]]]]])"
            ]
          },
          "metadata": {},
          "execution_count": 69
        }
      ]
    },
    {
      "cell_type": "code",
      "source": [
        "w_grad = torch.conv2d(input,grad_output)\n",
        "w_grad"
      ],
      "metadata": {
        "colab": {
          "base_uri": "https://localhost:8080/"
        },
        "id": "rSLsmrAkRrHo",
        "outputId": "0b233d20-60e5-4857-df8e-22e8275c4b84"
      },
      "execution_count": 7,
      "outputs": [
        {
          "output_type": "execute_result",
          "data": {
            "text/plain": [
              "tensor([[[[ 0.4919,  2.2467, -2.2996],\n",
              "          [ 0.3366,  2.2948,  2.6694],\n",
              "          [ 1.7194, -3.1001,  0.3153]]]], grad_fn=<ConvolutionBackward0>)"
            ]
          },
          "metadata": {},
          "execution_count": 7
        }
      ]
    },
    {
      "cell_type": "code",
      "source": [
        "grad_w = F.grad.conv2d_weight(input, weight.shape, grad_output)\n",
        "grad_w"
      ],
      "metadata": {
        "colab": {
          "base_uri": "https://localhost:8080/"
        },
        "id": "atmT1y5kSKaH",
        "outputId": "5f464627-79be-4606-f67d-f69dcf17b98c"
      },
      "execution_count": 8,
      "outputs": [
        {
          "output_type": "execute_result",
          "data": {
            "text/plain": [
              "tensor([[[[ 0.4919,  2.2467, -2.2996],\n",
              "          [ 0.3366,  2.2948,  2.6694],\n",
              "          [ 1.7194, -3.1001,  0.3153]]]],\n",
              "       grad_fn=<ConvolutionBackwardBackward0>)"
            ]
          },
          "metadata": {},
          "execution_count": 8
        }
      ]
    },
    {
      "cell_type": "code",
      "source": [
        "o = torch.tensor(o)\n",
        "o"
      ],
      "metadata": {
        "colab": {
          "base_uri": "https://localhost:8080/"
        },
        "id": "aT9XHmjsTjWE",
        "outputId": "6b5e2e2b-f448-44cf-a8e9-bbc42849130d"
      },
      "execution_count": null,
      "outputs": [
        {
          "output_type": "stream",
          "name": "stderr",
          "text": [
            "/usr/local/lib/python3.7/dist-packages/ipykernel_launcher.py:1: UserWarning: To copy construct from a tensor, it is recommended to use sourceTensor.clone().detach() or sourceTensor.clone().detach().requires_grad_(True), rather than torch.tensor(sourceTensor).\n",
            "  \"\"\"Entry point for launching an IPython kernel.\n"
          ]
        },
        {
          "output_type": "execute_result",
          "data": {
            "text/plain": [
              "tensor([[[[ 1.6660, -2.9301],\n",
              "          [-0.3271,  0.1683]]]])"
            ]
          },
          "metadata": {},
          "execution_count": 72
        }
      ]
    },
    {
      "cell_type": "code",
      "source": [
        " torch.nn.grad.conv2d_weight(input, weight.shape, grad_output)"
      ],
      "metadata": {
        "colab": {
          "base_uri": "https://localhost:8080/"
        },
        "id": "bPsWsY25TpwQ",
        "outputId": "2de0cba6-496e-4f5d-af47-6ab28a212bc3"
      },
      "execution_count": 9,
      "outputs": [
        {
          "output_type": "execute_result",
          "data": {
            "text/plain": [
              "tensor([[[[ 0.4919,  2.2467, -2.2996],\n",
              "          [ 0.3366,  2.2948,  2.6694],\n",
              "          [ 1.7194, -3.1001,  0.3153]]]],\n",
              "       grad_fn=<ConvolutionBackwardBackward0>)"
            ]
          },
          "metadata": {},
          "execution_count": 9
        }
      ]
    },
    {
      "cell_type": "code",
      "source": [
        "grad_in = torch.autograd.grad(output, input, grad_output)\n",
        "grad_in"
      ],
      "metadata": {
        "colab": {
          "base_uri": "https://localhost:8080/"
        },
        "id": "7mYtSpdjfZ-l",
        "outputId": "58a5c10d-e611-44cd-9bbc-dda7c4d2cb54"
      },
      "execution_count": 10,
      "outputs": [
        {
          "output_type": "execute_result",
          "data": {
            "text/plain": [
              "(tensor([[[[-0.0252, -0.5470,  0.3067, -0.0419],\n",
              "           [ 0.6272,  0.4990,  0.7499, -0.1898],\n",
              "           [-0.2812, -1.5989, -1.6909,  1.9942],\n",
              "           [ 0.0307,  0.2551, -0.6207,  1.2901]]]]),)"
            ]
          },
          "metadata": {},
          "execution_count": 10
        }
      ]
    },
    {
      "cell_type": "code",
      "source": [
        "in_grad = F.grad.conv2d_input(input.shape, weight, grad_output)\n",
        "in_grad"
      ],
      "metadata": {
        "colab": {
          "base_uri": "https://localhost:8080/"
        },
        "id": "OyyxyVB5f0b1",
        "outputId": "c7db8306-05b8-416e-b7f5-8ffc9618269a"
      },
      "execution_count": 11,
      "outputs": [
        {
          "output_type": "execute_result",
          "data": {
            "text/plain": [
              "tensor([[[[-0.0252, -0.5470,  0.3067, -0.0419],\n",
              "          [ 0.6272,  0.4990,  0.7499, -0.1898],\n",
              "          [-0.2812, -1.5989, -1.6909,  1.9942],\n",
              "          [ 0.0307,  0.2551, -0.6207,  1.2901]]]],\n",
              "       grad_fn=<ConvolutionBackwardBackward0>)"
            ]
          },
          "metadata": {},
          "execution_count": 11
        }
      ]
    },
    {
      "cell_type": "code",
      "source": [
        "x = torch.arange(16).view(1, 1, 4,4)\n",
        "x"
      ],
      "metadata": {
        "colab": {
          "base_uri": "https://localhost:8080/"
        },
        "id": "IYUMLW3Kirno",
        "outputId": "a04b2a84-54b7-4e61-ef76-a8c3763de839"
      },
      "execution_count": 15,
      "outputs": [
        {
          "output_type": "execute_result",
          "data": {
            "text/plain": [
              "tensor([[[[ 0,  1,  2,  3],\n",
              "          [ 4,  5,  6,  7],\n",
              "          [ 8,  9, 10, 11],\n",
              "          [12, 13, 14, 15]]]])"
            ]
          },
          "metadata": {},
          "execution_count": 15
        }
      ]
    },
    {
      "cell_type": "code",
      "source": [
        "torch.flip(x, [2,3])"
      ],
      "metadata": {
        "colab": {
          "base_uri": "https://localhost:8080/"
        },
        "id": "r2aKHxStii02",
        "outputId": "7260954f-40a4-4dde-d3d9-9e0e3e56ad50"
      },
      "execution_count": 16,
      "outputs": [
        {
          "output_type": "execute_result",
          "data": {
            "text/plain": [
              "tensor([[[[15, 14, 13, 12],\n",
              "          [11, 10,  9,  8],\n",
              "          [ 7,  6,  5,  4],\n",
              "          [ 3,  2,  1,  0]]]])"
            ]
          },
          "metadata": {},
          "execution_count": 16
        }
      ]
    },
    {
      "cell_type": "code",
      "source": [
        "input.shape"
      ],
      "metadata": {
        "colab": {
          "base_uri": "https://localhost:8080/"
        },
        "id": "qqyRlWv_j_hU",
        "outputId": "55cdf7c2-690c-4395-8762-b1445b3655e6"
      },
      "execution_count": null,
      "outputs": [
        {
          "output_type": "execute_result",
          "data": {
            "text/plain": [
              "torch.Size([1, 1, 3, 3])"
            ]
          },
          "metadata": {},
          "execution_count": 39
        }
      ]
    },
    {
      "cell_type": "code",
      "source": [
        "grad_in=torch.conv_transpose2d(grad_output, weight)\n",
        "grad_in.shape"
      ],
      "metadata": {
        "colab": {
          "base_uri": "https://localhost:8080/"
        },
        "id": "KVMi0zhZhhqY",
        "outputId": "48e6ea6d-b5bb-40b8-9937-7b7113f64512"
      },
      "execution_count": 13,
      "outputs": [
        {
          "output_type": "execute_result",
          "data": {
            "text/plain": [
              "torch.Size([1, 1, 4, 4])"
            ]
          },
          "metadata": {},
          "execution_count": 13
        }
      ]
    },
    {
      "cell_type": "code",
      "source": [
        "input"
      ],
      "metadata": {
        "colab": {
          "base_uri": "https://localhost:8080/"
        },
        "id": "Nv8BTKOmy2gL",
        "outputId": "e98df5ac-c7ff-4fd2-9014-8915de8b0e93"
      },
      "execution_count": 17,
      "outputs": [
        {
          "output_type": "execute_result",
          "data": {
            "text/plain": [
              "tensor([[[[ 0.3416, -0.0833, -1.6076,  0.7049],\n",
              "          [ 0.6684,  0.3296,  1.3179, -1.9981],\n",
              "          [ 0.8011,  0.3040,  1.1764,  1.9984],\n",
              "          [ 1.4194,  1.0368, -1.7810,  0.5352]]]], requires_grad=True)"
            ]
          },
          "metadata": {},
          "execution_count": 17
        }
      ]
    },
    {
      "cell_type": "code",
      "source": [
        "torch.flip(input, [2,3]).shape\n",
        "weight"
      ],
      "metadata": {
        "colab": {
          "base_uri": "https://localhost:8080/"
        },
        "id": "ycblPhnUy7H_",
        "outputId": "5b211bfe-3915-4bf3-b2e0-4a7472e39e3d"
      },
      "execution_count": null,
      "outputs": [
        {
          "output_type": "execute_result",
          "data": {
            "text/plain": [
              "tensor([[[[-0.5158, -0.9293, -0.6043],\n",
              "          [-0.0041,  0.8445,  0.0466],\n",
              "          [ 0.9831, -1.1239,  0.0546]]]], requires_grad=True)"
            ]
          },
          "metadata": {},
          "execution_count": 158
        }
      ]
    },
    {
      "cell_type": "code",
      "source": [
        "torch.flip(weight, [2,3])"
      ],
      "metadata": {
        "colab": {
          "base_uri": "https://localhost:8080/"
        },
        "id": "jyrnuFuj0Jl1",
        "outputId": "8c56e869-2abf-49c1-b005-136f780df4c9"
      },
      "execution_count": 18,
      "outputs": [
        {
          "output_type": "execute_result",
          "data": {
            "text/plain": [
              "tensor([[[[ 0.6921, -0.3984,  0.1745],\n",
              "          [ 0.9955, -0.7155, -0.9488],\n",
              "          [-0.2089,  0.8483,  0.0386]]]], grad_fn=<FlipBackward0>)"
            ]
          },
          "metadata": {},
          "execution_count": 18
        }
      ]
    },
    {
      "cell_type": "code",
      "source": [
        "grad_output.shape\n",
        "input.shape"
      ],
      "metadata": {
        "colab": {
          "base_uri": "https://localhost:8080/"
        },
        "id": "szW_V7Z51F3P",
        "outputId": "98966300-2566-4544-f336-d4d315422f26"
      },
      "execution_count": 19,
      "outputs": [
        {
          "output_type": "execute_result",
          "data": {
            "text/plain": [
              "torch.Size([1, 1, 4, 4])"
            ]
          },
          "metadata": {},
          "execution_count": 19
        }
      ]
    },
    {
      "cell_type": "code",
      "source": [
        "x\n",
        "paddings = (1,5,3,3,0,0)\n",
        "torch.nn.functional.pad(grad_output,paddings).shape\n"
      ],
      "metadata": {
        "colab": {
          "base_uri": "https://localhost:8080/"
        },
        "id": "_RJLUVz65BMz",
        "outputId": "9af409b1-808a-459d-f54f-8d34ac962711"
      },
      "execution_count": 20,
      "outputs": [
        {
          "output_type": "execute_result",
          "data": {
            "text/plain": [
              "torch.Size([1, 1, 8, 8])"
            ]
          },
          "metadata": {},
          "execution_count": 20
        }
      ]
    },
    {
      "cell_type": "code",
      "source": [
        "grad_input = torch.conv2d(torch.nn.functional.pad(grad_output,paddings),torch.flip(weight,[2,3]))\n",
        "grad_input.shape\n",
        "print(grad_input)"
      ],
      "metadata": {
        "colab": {
          "base_uri": "https://localhost:8080/"
        },
        "id": "WYg5ZD735FO2",
        "outputId": "64adf79d-e288-4956-fd0e-09e71c19e7b7"
      },
      "execution_count": 21,
      "outputs": [
        {
          "output_type": "stream",
          "name": "stdout",
          "text": [
            "tensor([[[[ 0.0000,  0.0000,  0.0000,  0.0000,  0.0000,  0.0000],\n",
            "          [-0.5470,  0.3067, -0.0419,  0.0000,  0.0000,  0.0000],\n",
            "          [ 0.4990,  0.7499, -0.1898,  0.0000,  0.0000,  0.0000],\n",
            "          [-1.5989, -1.6909,  1.9942,  0.0000,  0.0000,  0.0000],\n",
            "          [ 0.2551, -0.6207,  1.2901,  0.0000,  0.0000,  0.0000],\n",
            "          [ 0.0000,  0.0000,  0.0000,  0.0000,  0.0000,  0.0000]]]],\n",
            "       grad_fn=<ConvolutionBackward0>)\n"
          ]
        }
      ]
    },
    {
      "cell_type": "code",
      "source": [],
      "metadata": {
        "id": "sucobYVcXpdb"
      },
      "execution_count": null,
      "outputs": []
    },
    {
      "cell_type": "code",
      "source": [
        "import torch \n",
        "from torch.nn import functional as F\n",
        "import tensorflow as tf"
      ],
      "metadata": {
        "id": "g1VHT64YXpgU"
      },
      "execution_count": 22,
      "outputs": []
    },
    {
      "cell_type": "code",
      "source": [
        "input = torch.randn(1,1,4,4, requires_grad=True)\n",
        "print(input,input.shape)\n"
      ],
      "metadata": {
        "colab": {
          "base_uri": "https://localhost:8080/"
        },
        "id": "p9hC8zgmXpjP",
        "outputId": "3576a7c7-6bad-4945-81a0-285d95027e1b"
      },
      "execution_count": 23,
      "outputs": [
        {
          "output_type": "stream",
          "name": "stdout",
          "text": [
            "tensor([[[[-0.2921,  0.7333, -0.3372, -0.6393],\n",
            "          [-1.3351, -0.4130,  0.1204,  0.1441],\n",
            "          [-0.1641,  0.5014, -0.1830,  1.0376],\n",
            "          [-1.7541,  1.7945,  0.2673, -0.7757]]]], requires_grad=True) torch.Size([1, 1, 4, 4])\n"
          ]
        }
      ]
    },
    {
      "cell_type": "code",
      "source": [
        "weight = torch.randn(1,1,3,3, requires_grad=True)\n",
        "print(weight,weight.shape)"
      ],
      "metadata": {
        "colab": {
          "base_uri": "https://localhost:8080/"
        },
        "id": "sTYmcqqxX13i",
        "outputId": "e90559dc-8495-472b-a491-059e34af7ab0"
      },
      "execution_count": 24,
      "outputs": [
        {
          "output_type": "stream",
          "name": "stdout",
          "text": [
            "tensor([[[[-2.4179, -0.1159,  0.3991],\n",
            "          [ 0.3739, -1.3596, -0.8309],\n",
            "          [ 0.0058,  0.2456, -1.0247]]]], requires_grad=True) torch.Size([1, 1, 3, 3])\n"
          ]
        }
      ]
    },
    {
      "cell_type": "code",
      "source": [
        "output = F.conv2d(input, weight)\n",
        "output"
      ],
      "metadata": {
        "colab": {
          "base_uri": "https://localhost:8080/"
        },
        "id": "wHChJhFeX9I0",
        "outputId": "43ea2bbb-d04d-40bb-9f0c-3b693d7db936"
      },
      "execution_count": 25,
      "outputs": [
        {
          "output_type": "execute_result",
          "data": {
            "text/plain": [
              "tensor([[[[ 0.7586, -3.5322],\n",
              "          [ 2.8896,  1.4871]]]], grad_fn=<ConvolutionBackward0>)"
            ]
          },
          "metadata": {},
          "execution_count": 25
        }
      ]
    },
    {
      "cell_type": "code",
      "source": [
        "grad_output = torch.randn(output.shape)"
      ],
      "metadata": {
        "id": "IYhsz6YAYDpC"
      },
      "execution_count": 26,
      "outputs": []
    },
    {
      "cell_type": "code",
      "source": [
        "grad_w = F.grad.conv2d_weight(input, weight.shape, grad_output)\n",
        "grad_w"
      ],
      "metadata": {
        "colab": {
          "base_uri": "https://localhost:8080/"
        },
        "id": "I-EhOVIFYHgn",
        "outputId": "5533bb97-e765-478f-e1eb-e48d53227d4f"
      },
      "execution_count": 27,
      "outputs": [
        {
          "output_type": "execute_result",
          "data": {
            "text/plain": [
              "tensor([[[[ 1.5239, -0.8220, -0.2243],\n",
              "          [ 0.6254,  0.4231, -0.8387],\n",
              "          [-0.4429, -1.4416,  1.3269]]]],\n",
              "       grad_fn=<ConvolutionBackwardBackward0>)"
            ]
          },
          "metadata": {},
          "execution_count": 27
        }
      ]
    },
    {
      "cell_type": "code",
      "source": [
        "in_grad = F.grad.conv2d_input(input.shape, weight, grad_output)\n",
        "in_grad"
      ],
      "metadata": {
        "colab": {
          "base_uri": "https://localhost:8080/"
        },
        "id": "XJGngCJaYSvg",
        "outputId": "fe6b3662-d5a1-47ce-b346-08c58055207c"
      },
      "execution_count": 28,
      "outputs": [
        {
          "output_type": "execute_result",
          "data": {
            "text/plain": [
              "tensor([[[[ 2.2249e+00, -1.2897e+00, -4.3420e-01,  2.3050e-01],\n",
              "          [ 5.2961e-01,  3.5534e+00, -6.6779e-02, -8.1735e-01],\n",
              "          [-1.4043e-01, -4.7532e-02,  2.5346e+00,  1.1081e-01],\n",
              "          [-2.0805e-03, -9.3605e-02,  1.6266e-01,  8.6646e-01]]]],\n",
              "       grad_fn=<ConvolutionBackwardBackward0>)"
            ]
          },
          "metadata": {},
          "execution_count": 28
        }
      ]
    },
    {
      "cell_type": "code",
      "source": [],
      "metadata": {
        "id": "DS-14QJy3zWE"
      },
      "execution_count": null,
      "outputs": []
    },
    {
      "cell_type": "code",
      "source": [
        "import torch \n",
        "print(torch.nn.grad.conv2d_weight(input, weight.shape, grad_output))"
      ],
      "metadata": {
        "colab": {
          "base_uri": "https://localhost:8080/"
        },
        "id": "yjhNEdLKbP4d",
        "outputId": "2455a76d-0d30-468e-dae0-4591d39621b4"
      },
      "execution_count": 29,
      "outputs": [
        {
          "output_type": "stream",
          "name": "stdout",
          "text": [
            "tensor([[[[ 1.5239, -0.8220, -0.2243],\n",
            "          [ 0.6254,  0.4231, -0.8387],\n",
            "          [-0.4429, -1.4416,  1.3269]]]],\n",
            "       grad_fn=<ConvolutionBackwardBackward0>)\n"
          ]
        }
      ]
    },
    {
      "cell_type": "code",
      "source": [
        "print(F.conv2d(input,grad_output))"
      ],
      "metadata": {
        "colab": {
          "base_uri": "https://localhost:8080/"
        },
        "id": "NCW3f27TbjEa",
        "outputId": "0af79744-ef4f-4a10-f0a0-12053e23db2e"
      },
      "execution_count": 30,
      "outputs": [
        {
          "output_type": "stream",
          "name": "stdout",
          "text": [
            "tensor([[[[ 1.5239, -0.8220, -0.2243],\n",
            "          [ 0.6254,  0.4231, -0.8387],\n",
            "          [-0.4429, -1.4416,  1.3269]]]], grad_fn=<ConvolutionBackward0>)\n"
          ]
        }
      ]
    },
    {
      "cell_type": "code",
      "source": [
        "print(F.conv_transpose2d(weight,grad_output))"
      ],
      "metadata": {
        "colab": {
          "base_uri": "https://localhost:8080/"
        },
        "id": "MCeXOpqYjGel",
        "outputId": "00b68e0d-2f2c-4a18-b92d-2f484dbc105d"
      },
      "execution_count": 31,
      "outputs": [
        {
          "output_type": "stream",
          "name": "stdout",
          "text": [
            "tensor([[[[ 2.2249e+00, -1.2897e+00, -4.3420e-01,  2.3050e-01],\n",
            "          [ 5.2961e-01,  3.5534e+00, -6.6779e-02, -8.1735e-01],\n",
            "          [-1.4043e-01, -4.7532e-02,  2.5346e+00,  1.1081e-01],\n",
            "          [-2.0805e-03, -9.3605e-02,  1.6266e-01,  8.6646e-01]]]],\n",
            "       grad_fn=<ConvolutionBackward0>)\n"
          ]
        }
      ]
    },
    {
      "cell_type": "code",
      "source": [
        "print(grad_output)\n",
        "#print(grad_output.transpose(0,1))\n",
        "print(torch.flip(grad_output, [2,3]))"
      ],
      "metadata": {
        "colab": {
          "base_uri": "https://localhost:8080/"
        },
        "id": "ltKAvuXxm96g",
        "outputId": "1f6576ee-d50b-41ba-c070-c8afebb63825"
      },
      "execution_count": null,
      "outputs": [
        {
          "output_type": "stream",
          "name": "stdout",
          "text": [
            "tensor([[[[-0.0268, -0.5786],\n",
            "          [-0.1461,  0.5015]]]])\n",
            "tensor([[[[ 0.5015, -0.1461],\n",
            "          [-0.5786, -0.0268]]]])\n"
          ]
        }
      ]
    },
    {
      "cell_type": "code",
      "source": [
        "print(F.conv2d(grad_output,torch.flip(weight, [2,3]),padding=2))"
      ],
      "metadata": {
        "colab": {
          "base_uri": "https://localhost:8080/"
        },
        "id": "DAH7C4ZylYTi",
        "outputId": "700381fb-8f25-4e63-92e2-a34323a4767e"
      },
      "execution_count": 32,
      "outputs": [
        {
          "output_type": "stream",
          "name": "stdout",
          "text": [
            "tensor([[[[ 2.2249e+00, -1.2897e+00, -4.3420e-01,  2.3050e-01],\n",
            "          [ 5.2961e-01,  3.5534e+00, -6.6779e-02, -8.1735e-01],\n",
            "          [-1.4043e-01, -4.7532e-02,  2.5346e+00,  1.1081e-01],\n",
            "          [-2.0805e-03, -9.3605e-02,  1.6266e-01,  8.6646e-01]]]],\n",
            "       grad_fn=<ConvolutionBackward0>)\n"
          ]
        }
      ]
    },
    {
      "cell_type": "code",
      "source": [
        "F.conv2d(grad_output,weight,padding=2)"
      ],
      "metadata": {
        "colab": {
          "base_uri": "https://localhost:8080/"
        },
        "id": "2bx6aKVJuLgA",
        "outputId": "0608fa53-7f94-4aa8-c59b-c6ec28e7e580"
      },
      "execution_count": 34,
      "outputs": [
        {
          "output_type": "execute_result",
          "data": {
            "text/plain": [
              "tensor([[[[ 0.9430, -0.8178,  0.1365,  0.0033],\n",
              "          [ 1.1349,  1.5489, -1.3390,  0.2111],\n",
              "          [-0.0670,  1.5310,  3.1725, -1.7125],\n",
              "          [-0.1442, -0.2956,  0.9717,  2.0444]]]],\n",
              "       grad_fn=<ConvolutionBackward0>)"
            ]
          },
          "metadata": {},
          "execution_count": 34
        }
      ]
    },
    {
      "cell_type": "code",
      "source": [
        "di = torch.autograd.grad(output, weight, grad_output)"
      ],
      "metadata": {
        "id": "HzEjZHZ86mKt"
      },
      "execution_count": 35,
      "outputs": []
    },
    {
      "cell_type": "code",
      "source": [
        "dw=torch.autograd.grad(output, input, grad_output)"
      ],
      "metadata": {
        "colab": {
          "base_uri": "https://localhost:8080/",
          "height": 321
        },
        "id": "comBXX_-7m0b",
        "outputId": "d359487e-2d31-43d2-ae30-beae3edee064"
      },
      "execution_count": 37,
      "outputs": [
        {
          "output_type": "error",
          "ename": "RuntimeError",
          "evalue": "ignored",
          "traceback": [
            "\u001b[0;31m---------------------------------------------------------------------------\u001b[0m",
            "\u001b[0;31mRuntimeError\u001b[0m                              Traceback (most recent call last)",
            "\u001b[0;32m<ipython-input-37-1ac9b9372b94>\u001b[0m in \u001b[0;36m<cell line: 1>\u001b[0;34m()\u001b[0m\n\u001b[0;32m----> 1\u001b[0;31m \u001b[0mdw\u001b[0m\u001b[0;34m=\u001b[0m\u001b[0mtorch\u001b[0m\u001b[0;34m.\u001b[0m\u001b[0mautograd\u001b[0m\u001b[0;34m.\u001b[0m\u001b[0mgrad\u001b[0m\u001b[0;34m(\u001b[0m\u001b[0moutput\u001b[0m\u001b[0;34m,\u001b[0m \u001b[0minput\u001b[0m\u001b[0;34m,\u001b[0m \u001b[0mgrad_output\u001b[0m\u001b[0;34m)\u001b[0m\u001b[0;34m\u001b[0m\u001b[0;34m\u001b[0m\u001b[0m\n\u001b[0m",
            "\u001b[0;32m/usr/local/lib/python3.9/dist-packages/torch/autograd/__init__.py\u001b[0m in \u001b[0;36mgrad\u001b[0;34m(outputs, inputs, grad_outputs, retain_graph, create_graph, only_inputs, allow_unused, is_grads_batched)\u001b[0m\n\u001b[1;32m    301\u001b[0m         \u001b[0;32mreturn\u001b[0m \u001b[0m_vmap_internals\u001b[0m\u001b[0;34m.\u001b[0m\u001b[0m_vmap\u001b[0m\u001b[0;34m(\u001b[0m\u001b[0mvjp\u001b[0m\u001b[0;34m,\u001b[0m \u001b[0;36m0\u001b[0m\u001b[0;34m,\u001b[0m \u001b[0;36m0\u001b[0m\u001b[0;34m,\u001b[0m \u001b[0mallow_none_pass_through\u001b[0m\u001b[0;34m=\u001b[0m\u001b[0;32mTrue\u001b[0m\u001b[0;34m)\u001b[0m\u001b[0;34m(\u001b[0m\u001b[0mgrad_outputs_\u001b[0m\u001b[0;34m)\u001b[0m\u001b[0;34m\u001b[0m\u001b[0;34m\u001b[0m\u001b[0m\n\u001b[1;32m    302\u001b[0m     \u001b[0;32melse\u001b[0m\u001b[0;34m:\u001b[0m\u001b[0;34m\u001b[0m\u001b[0;34m\u001b[0m\u001b[0m\n\u001b[0;32m--> 303\u001b[0;31m         return Variable._execution_engine.run_backward(  # Calls into the C++ engine to run the backward pass\n\u001b[0m\u001b[1;32m    304\u001b[0m             \u001b[0mt_outputs\u001b[0m\u001b[0;34m,\u001b[0m \u001b[0mgrad_outputs_\u001b[0m\u001b[0;34m,\u001b[0m \u001b[0mretain_graph\u001b[0m\u001b[0;34m,\u001b[0m \u001b[0mcreate_graph\u001b[0m\u001b[0;34m,\u001b[0m \u001b[0mt_inputs\u001b[0m\u001b[0;34m,\u001b[0m\u001b[0;34m\u001b[0m\u001b[0;34m\u001b[0m\u001b[0m\n\u001b[1;32m    305\u001b[0m             allow_unused, accumulate_grad=False)  # Calls into the C++ engine to run the backward pass\n",
            "\u001b[0;31mRuntimeError\u001b[0m: Trying to backward through the graph a second time (or directly access saved tensors after they have already been freed). Saved intermediate values of the graph are freed when you call .backward() or autograd.grad(). Specify retain_graph=True if you need to backward through the graph a second time or if you need to access saved tensors after calling backward."
          ]
        }
      ]
    },
    {
      "cell_type": "code",
      "source": [
        "di"
      ],
      "metadata": {
        "colab": {
          "base_uri": "https://localhost:8080/"
        },
        "id": "Dp5iuQHquLiu",
        "outputId": "c4a862b5-4ff6-4d26-9470-e12cf92edf5e"
      },
      "execution_count": 36,
      "outputs": [
        {
          "output_type": "execute_result",
          "data": {
            "text/plain": [
              "(tensor([[[[ 1.5239, -0.8220, -0.2243],\n",
              "           [ 0.6254,  0.4231, -0.8387],\n",
              "           [-0.4429, -1.4416,  1.3269]]]]),)"
            ]
          },
          "metadata": {},
          "execution_count": 36
        }
      ]
    },
    {
      "cell_type": "code",
      "source": [
        "import torch \n",
        "from torch.nn import functional as F\n",
        "input = torch.randn(1,1,4,4, requires_grad=True)\n",
        "print(input,input.shape)\n",
        "weight = torch.randn(1,1,3,3, requires_grad=True)\n",
        "print(weight,weight.shape)\n",
        "output = F.conv2d(input, weight)\n",
        "print(output)"
      ],
      "metadata": {
        "colab": {
          "base_uri": "https://localhost:8080/"
        },
        "id": "pVYZhmf_3Y76",
        "outputId": "dc07b150-b15c-4f98-c139-0a8553d3a965"
      },
      "execution_count": null,
      "outputs": [
        {
          "output_type": "stream",
          "name": "stdout",
          "text": [
            "tensor([[[[-0.1117,  1.5516, -0.2136, -1.3680],\n",
            "          [-0.8436,  0.8115, -1.6640, -0.7155],\n",
            "          [ 0.9227, -1.2610, -1.9740,  0.2900],\n",
            "          [-0.1510, -0.8380,  2.1046, -1.1020]]]], requires_grad=True) torch.Size([1, 1, 4, 4])\n",
            "tensor([[[[-0.3951,  0.3634, -0.7430],\n",
            "          [-1.3952, -1.1031,  0.7965],\n",
            "          [ 0.2341,  0.1852, -1.7492]]]], requires_grad=True) torch.Size([1, 1, 3, 3])\n",
            "tensor([[[[ 3.1585, -0.7087],\n",
            "          [-3.4759,  5.8955]]]], grad_fn=<ConvolutionBackward0>)\n"
          ]
        }
      ]
    },
    {
      "cell_type": "code",
      "source": [
        "grad_output = torch.randn(output.shape)\n",
        "grad_output"
      ],
      "metadata": {
        "colab": {
          "base_uri": "https://localhost:8080/"
        },
        "id": "VXrMnL2O3pK7",
        "outputId": "b49f2de4-45ef-4272-b466-2965feac3661"
      },
      "execution_count": null,
      "outputs": [
        {
          "output_type": "execute_result",
          "data": {
            "text/plain": [
              "tensor([[[[ 1.5779, -0.1551],\n",
              "          [-0.7963, -0.5219]]]])"
            ]
          },
          "metadata": {},
          "execution_count": 3
        }
      ]
    },
    {
      "cell_type": "code",
      "source": [
        "grad_w = F.grad.conv2d_weight(input, weight.shape, grad_output)\n",
        "grad_w"
      ],
      "metadata": {
        "colab": {
          "base_uri": "https://localhost:8080/"
        },
        "id": "lCmTYssf3w1f",
        "outputId": "d1cf14b8-19c2-44a1-ed32-7be81b654d3d"
      },
      "execution_count": null,
      "outputs": [
        {
          "output_type": "execute_result",
          "data": {
            "text/plain": [
              "tensor([[[[-0.1686,  2.7037,  1.5737],\n",
              "          [-1.5337,  3.5730, -1.0941],\n",
              "          [ 2.2092, -2.1147, -4.2606]]]], grad_fn=<SliceBackward0>)"
            ]
          },
          "metadata": {},
          "execution_count": 4
        }
      ]
    },
    {
      "cell_type": "code",
      "source": [
        "in_grad = F.grad.conv2d_input(input.shape, weight, grad_output)\n",
        "in_grad"
      ],
      "metadata": {
        "colab": {
          "base_uri": "https://localhost:8080/"
        },
        "id": "ML4ldRxP32xT",
        "outputId": "a276e985-1e80-4f6b-c47b-cd1d579ebc50"
      },
      "execution_count": null,
      "outputs": [
        {
          "output_type": "execute_result",
          "data": {
            "text/plain": [
              "tensor([[[[-0.6235,  0.6347, -1.2288,  0.1152],\n",
              "          [-1.8869, -1.6074,  1.8300,  0.2643],\n",
              "          [ 1.4804,  1.8625, -2.8474, -0.1444],\n",
              "          [-0.1864, -0.2696,  1.2963,  0.9129]]]],\n",
              "       grad_fn=<ConvolutionBackward0>)"
            ]
          },
          "metadata": {},
          "execution_count": 5
        }
      ]
    },
    {
      "cell_type": "code",
      "source": [
        "\n",
        "def convolution_backward(grad_out, X, weight):\n",
        "    grad_weight = F.conv2d(X.transpose(0, 1), grad_out.transpose(0, 1)).transpose(0, 1)\n",
        "    grad_X = F.conv_transpose2d(grad_out, weight)\n",
        "    print('grad_w',grad_weight)\n",
        "    print('grad_input',grad_X)\n",
        "    #return grad_X, grad_weight\n",
        "convolution_backward(grad_output,input,weight)    "
      ],
      "metadata": {
        "colab": {
          "base_uri": "https://localhost:8080/"
        },
        "id": "scjaUFwG4EoC",
        "outputId": "3378914c-7f5a-4a0f-ede8-83bd1672f432"
      },
      "execution_count": 33,
      "outputs": [
        {
          "output_type": "stream",
          "name": "stdout",
          "text": [
            "grad_w tensor([[[[ 1.5239, -0.8220, -0.2243],\n",
            "          [ 0.6254,  0.4231, -0.8387],\n",
            "          [-0.4429, -1.4416,  1.3269]]]], grad_fn=<TransposeBackward0>)\n",
            "grad_input tensor([[[[ 2.2249e+00, -1.2897e+00, -4.3420e-01,  2.3050e-01],\n",
            "          [ 5.2961e-01,  3.5534e+00, -6.6779e-02, -8.1735e-01],\n",
            "          [-1.4043e-01, -4.7532e-02,  2.5346e+00,  1.1081e-01],\n",
            "          [-2.0805e-03, -9.3605e-02,  1.6266e-01,  8.6646e-01]]]],\n",
            "       grad_fn=<ConvolutionBackward0>)\n"
          ]
        }
      ]
    },
    {
      "cell_type": "code",
      "source": [],
      "metadata": {
        "id": "t6Is2fPmt8IV"
      },
      "execution_count": null,
      "outputs": []
    }
  ]
}